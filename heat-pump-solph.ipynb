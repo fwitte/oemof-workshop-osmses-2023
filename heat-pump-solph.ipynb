{
 "cells": [
  {
   "cell_type": "markdown",
   "metadata": {},
   "source": [
    "- Overview of example system with data interfaces\n",
    "- air source heat pump\n",
    "- What inputs/information do we need? e.g. COP, demand time series, price electricity, ...\n",
    "- How can we generate those inputs\n",
    "\n",
    "1. solph base setup\n",
    "\n",
    "- energy system\n",
    "- buses\n",
    "- electricity source"
   ]
  },
  {
   "cell_type": "code",
   "execution_count": null,
   "metadata": {},
   "outputs": [],
   "source": []
  },
  {
   "cell_type": "markdown",
   "metadata": {},
   "source": [
    "2. Heat pump\n",
    "\n",
    "- we need the COP, where to get that? Datasheet viessmann\n",
    "- COP depends on temperature, we only know a single temperature value\n",
    "- Use Carnot method with constant efficiency assumption\n",
    "\n",
    "- Code for COP vs. temperature calculation\n"
   ]
  },
  {
   "cell_type": "code",
   "execution_count": null,
   "metadata": {},
   "outputs": [],
   "source": []
  },
  {
   "cell_type": "markdown",
   "metadata": {},
   "source": [
    "- Aspect of reference temperature for COP\n",
    "- 7;35 vs. 2;40\n",
    "- show plot comparing both COPs vs. ambient temperature or both COPs in time series"
   ]
  },
  {
   "cell_type": "code",
   "execution_count": null,
   "metadata": {},
   "outputs": [],
   "source": []
  },
  {
   "cell_type": "markdown",
   "metadata": {},
   "source": [
    "3. Demand\n",
    "\n",
    "- format of the demand required for solph\n",
    "- we use trivial model, give formula here, code cell for defining demand"
   ]
  },
  {
   "cell_type": "code",
   "execution_count": null,
   "metadata": {},
   "outputs": [],
   "source": []
  },
  {
   "cell_type": "markdown",
   "metadata": {},
   "source": [
    "4. Storage\n",
    "\n",
    "- what data do we need, how do we calculate the storage content value?"
   ]
  },
  {
   "cell_type": "code",
   "execution_count": null,
   "metadata": {},
   "outputs": [],
   "source": []
  },
  {
   "cell_type": "markdown",
   "metadata": {},
   "source": [
    "- Run the model, show:\n",
    "  - duration curve, dispatch, electricity consumption\n",
    "\n",
    "- Then TESPy model to generate COP, reconfigure the heat pump in solph and run again."
   ]
  },
  {
   "cell_type": "code",
   "execution_count": null,
   "metadata": {},
   "outputs": [],
   "source": []
  },
  {
   "cell_type": "markdown",
   "metadata": {},
   "source": [
    "Introduce minimal load, reconfigure heat pump for that, rerun and make plots."
   ]
  },
  {
   "cell_type": "code",
   "execution_count": null,
   "metadata": {},
   "outputs": [],
   "source": []
  },
  {
   "cell_type": "markdown",
   "metadata": {},
   "source": [
    "Get part load dependent COP from TESPy, reconfigure heat pump, rerun and make plots."
   ]
  },
  {
   "cell_type": "code",
   "execution_count": null,
   "metadata": {},
   "outputs": [],
   "source": []
  }
 ],
 "metadata": {
  "interpreter": {
   "hash": "137cb3feb96291b75c5ffeed714863853e33a7f6fc63dbeffba961b793eac5a0"
  },
  "kernelspec": {
   "display_name": "Python 3.10.0 ('oemof-workshop-osmses2')",
   "language": "python",
   "name": "python3"
  },
  "language_info": {
   "codemirror_mode": {
    "name": "ipython",
    "version": 3
   },
   "file_extension": ".py",
   "mimetype": "text/x-python",
   "name": "python",
   "nbconvert_exporter": "python",
   "pygments_lexer": "ipython3",
   "version": "3.10.0"
  },
  "orig_nbformat": 4
 },
 "nbformat": 4,
 "nbformat_minor": 2
}
