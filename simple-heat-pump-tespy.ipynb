{
 "cells": [
  {
   "cell_type": "markdown",
   "metadata": {},
   "source": [
    "# Setting up a simple TESPy model\n",
    "\n",
    "We want to have a more detailed look at the heat pump. We will take the following steps:\n",
    "\n",
    "- Set up a thermodynamic model to calculate the COP for oemof-solph\n",
    "- Run the model at variable ambient temperature levels, calculate the COP\n",
    "- Export the results to read the into the energy system optimization script\n",
    "\n",
    "## Flowsheet and important parameters of heat pump\n",
    "\n",
    "![flowsheet](./workshop/figures/heat_pump.svg)\n",
    "\n",
    "| parameter description    | model location | model parameter | value | unit |\n",
    "|:------------------------ |:-------------- |:--------------- | -----:|:---- |\n",
    "| compressor efficiency    | compressor     | `eta_s`         |    80 | %    |\n",
    "| heat delivered           | condenser      | `Q`             |   9.1 | kW   |\n",
    "| working fluid            | 2              | `fluid`         |  R290 |      |\n",
    "| evaporation temperature  |                | `T`             |     2 | °C   |\n",
    "| condensation temperatre  | 4              | `T`             |    40 | °C   |\n",
    "\n",
    "## Python code for the Model\n",
    "\n",
    "### Preparation"
   ]
  },
  {
   "cell_type": "code",
   "execution_count": null,
   "metadata": {},
   "outputs": [],
   "source": [
    "from tespy.components import Compressor, SimpleHeatExchanger, Valve, CycleCloser\n",
    "from tespy.networks import Network\n",
    "from tespy.connections import Connection"
   ]
  },
  {
   "cell_type": "code",
   "execution_count": null,
   "metadata": {},
   "outputs": [],
   "source": [
    "wf = \"R290\"\n",
    "nwk = Network(p_unit=\"bar\", T_unit=\"C\", iterinfo=False)"
   ]
  },
  {
   "cell_type": "markdown",
   "metadata": {},
   "source": [
    "### Setting up the topology\n",
    "\n",
    "![flowsheet](./workshop/figures/heat_pump.svg)"
   ]
  },
  {
   "cell_type": "code",
   "execution_count": null,
   "metadata": {},
   "outputs": [],
   "source": [
    "cp = Compressor(\"compressor\")\n",
    "cd = SimpleHeatExchanger(\"condenser\")\n",
    "va = Valve(\"valve\")\n",
    "ev = SimpleHeatExchanger(\"evaporator\")\n",
    "\n",
    "cc = CycleCloser(\"cycle closer\")\n",
    "\n",
    "c1 = Connection(cc, \"out1\", ev, \"in1\")\n",
    "c2 = Connection(ev, \"out1\", cp, \"in1\")\n",
    "c3 = Connection(cp, \"out1\", cd, \"in1\")\n",
    "c4 = Connection(cd, \"out1\", va, \"in1\")\n",
    "c0 = Connection(va, \"out1\", cc, \"in1\")\n",
    "\n",
    "nwk.add_conns(c1, c2, c3, c4, c0)"
   ]
  },
  {
   "cell_type": "markdown",
   "metadata": {},
   "source": [
    "### Specification of the parameters\n",
    "\n",
    "| parameter description    | model location | model parameter | value | unit |\n",
    "|:------------------------ |:-------------- |:--------------- | -----:|:---- |\n",
    "| compressor efficiency    | compressor     | `eta_s`         |    80 | %    |\n",
    "| heat delivered           | condenser      | `Q`             |   9.1 | kW   |\n",
    "| pressure ratio           |                | `pr`            |   100 | %    |\n",
    "|                          | evaporator     | `pr`            |   100 | %    |\n",
    "| working fluid            | 2              | `fluid`         |  R290 |      |\n",
    "| evaporation temperature  |                | `T`             |     2 | °C   |\n",
    "| saturated gas stream     |                | `x`             |   100 | %    |\n",
    "| condensation temperatre  | 4              | `T`             |    40 | °C   |\n",
    "| saturated liquid stream  |                | `x`             |     0 | %    |"
   ]
  },
  {
   "cell_type": "code",
   "execution_count": null,
   "metadata": {},
   "outputs": [],
   "source": [
    "c2.set_attr(T=2, x=1, fluid={\"R290\": 1})\n",
    "c4.set_attr(T=40, x=0)\n",
    "\n",
    "cp.set_attr(eta_s=0.8)\n",
    "cd.set_attr(pr=1, Q=-9.1e3)\n",
    "ev.set_attr(pr=1)"
   ]
  },
  {
   "cell_type": "markdown",
   "metadata": {},
   "source": [
    "### Run the simulation and calculate COP\n",
    "\n",
    "$$\n",
    "COP = \\frac{|\\dot W_\\text{compressor}|}{\\dot Q_\\text{condenser}}\n",
    "$$"
   ]
  },
  {
   "cell_type": "code",
   "execution_count": null,
   "metadata": {},
   "outputs": [],
   "source": [
    "nwk.solve(\"design\")\n",
    "nwk.print_results()"
   ]
  },
  {
   "cell_type": "code",
   "execution_count": null,
   "metadata": {},
   "outputs": [],
   "source": [
    "abs(cd.Q.val) / cp.P.val"
   ]
  },
  {
   "cell_type": "markdown",
   "metadata": {},
   "source": [
    "### Calibrate to match the datasheet COP\n",
    "\n",
    "Target COP: 4.9"
   ]
  },
  {
   "cell_type": "code",
   "execution_count": null,
   "metadata": {},
   "outputs": [],
   "source": [
    "cp.set_attr(eta_s=0.75)\n",
    "nwk.solve(\"design\")\n",
    "abs(cd.Q.val) / cp.P.val"
   ]
  },
  {
   "cell_type": "markdown",
   "metadata": {},
   "source": [
    "### Calculate the COP for every ambient temperature value\n",
    "\n",
    "Variate the evaporation temperature from -15 to 15 (ambient temperature from -10 to 20)\n",
    "\n",
    "$$\n",
    "COP = \\frac{|\\dot W_\\text{compressor}|}{\\dot Q_\\text{condenser}}\n",
    "$$\n",
    "\n",
    "$$\n",
    "COP_\\text{Carnot} = \\frac{T_4}{T_4 - T_2}\n",
    "$$\n",
    "\n",
    "$$\n",
    "\\eta = \\frac{COP}{COP_\\text{Carnot}}\n",
    "$$"
   ]
  },
  {
   "cell_type": "code",
   "execution_count": null,
   "metadata": {},
   "outputs": [],
   "source": [
    "import pandas as pd\n",
    "import numpy as np\n",
    "\n",
    "\n",
    "temperature_range = np.arange(-10, 21)\n",
    "results = pd.DataFrame(index=temperature_range, columns=[\"COP\", \"COP_carnot\"])\n",
    "\n",
    "cp.eta_s.val\n",
    "\n",
    "for T in temperature_range:\n",
    "    c2.set_attr(T=T - 5)\n",
    "    nwk.solve(\"design\")\n",
    "    results.loc[T, \"COP\"] = abs(cd.Q.val) / cp.P.val\n",
    "    results.loc[T, \"COP_carnot\"] = c4.T.val_SI / (c4.T.val - c2.T.val)\n",
    "\n",
    "results[\"efficiency\"] = results[\"COP\"] / results[\"COP_carnot\"]"
   ]
  },
  {
   "cell_type": "markdown",
   "metadata": {},
   "source": [
    "### Plot COP and efficiency factor"
   ]
  },
  {
   "cell_type": "code",
   "execution_count": null,
   "metadata": {},
   "outputs": [],
   "source": [
    "from matplotlib import pyplot as plt\n",
    "\n",
    "\n",
    "T_for_eta = 7\n",
    "eta_const = results.loc[T_for_eta, \"efficiency\"]\n",
    "\n",
    "fig, ax = plt.subplots(2, sharex=True)\n",
    "\n",
    "label = \"$\\mathrm{COP}_\\mathrm{c}$\"\n",
    "ax[0].plot(temperature_range, results[\"COP_carnot\"], label=label)\n",
    "ax[0].plot(temperature_range, results[\"COP\"], label=\"$\\mathrm{COP}$\")\n",
    "label = \"$\\mathrm{COP}$: $\\eta\\left(T=\" + str(T_for_eta) + \"°C\\\\right)=\" + str(round(eta_const, 3)) + \"$\"\n",
    "ax[0].plot(temperature_range, results[\"COP_carnot\"] * eta_const, label=label)\n",
    "ax[0].set_ylabel(\"COP\")\n",
    "ax[0].legend()\n",
    "\n",
    "ax[1].plot(temperature_range, results[\"efficiency\"], color=\"tab:orange\")\n",
    "ax[1].plot(temperature_range, [eta_const for _ in temperature_range], color=\"tab:green\")\n",
    "ax[1].set_ylabel(\"Efficiency factor\")\n",
    "\n",
    "ax[1].set_xlabel(\"Ambient temperature in °C\")\n",
    "\n",
    "[(a.grid(), a.set_axisbelow(True)) for a in ax];"
   ]
  },
  {
   "cell_type": "markdown",
   "metadata": {},
   "source": [
    "### Export of COP-temperature lookup"
   ]
  },
  {
   "cell_type": "code",
   "execution_count": null,
   "metadata": {},
   "outputs": [],
   "source": [
    "export = results[[\"COP\"]]\n",
    "export.index.names = [\"temperature\"]\n",
    "export.to_csv(\"COP-T-tespy.csv\")"
   ]
  }
 ],
 "metadata": {
  "interpreter": {
   "hash": "137cb3feb96291b75c5ffeed714863853e33a7f6fc63dbeffba961b793eac5a0"
  },
  "kernelspec": {
   "display_name": "Python 3.10.0 ('oemof-workshop-osmses2')",
   "language": "python",
   "name": "python3"
  },
  "language_info": {
   "codemirror_mode": {
    "name": "ipython",
    "version": 3
   },
   "file_extension": ".py",
   "mimetype": "text/x-python",
   "name": "python",
   "nbconvert_exporter": "python",
   "pygments_lexer": "ipython3",
   "version": "3.11.7"
  },
  "orig_nbformat": 4
 },
 "nbformat": 4,
 "nbformat_minor": 2
}
