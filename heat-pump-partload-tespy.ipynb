{
 "cells": [
  {
   "cell_type": "markdown",
   "metadata": {},
   "source": [
    "# Analyzing influence of part load operation\n",
    "\n",
    "## Flowsheet and important parameters of heat pump\n",
    "\n",
    "![flowsheet](./workshop/figures/heat_pump_full.svg)\n",
    "\n",
    "### Previous model\n",
    "\n",
    "| parameter description    | model location | model parameter | value | unit |\n",
    "|:------------------------ |:-------------- |:--------------- | -----:|:---- |\n",
    "| compressor efficiency    | compressor     | `eta_s`         |    80 | %    |\n",
    "| heat delivered           | condenser      | `Q`             |   9.1 | kW   |\n",
    "| working fluid            | 2              | `fluid`         |  R290 |      |\n",
    "| evaporation temperature  |                | `T`             |     2 | °C   |\n",
    "| condensation temperatre  | 4              | `T`             |    40 | °C   |\n",
    "\n",
    "### Additional/updated information\n",
    "\n",
    "| parameter description    | model location | model parameter | value | unit |\n",
    "|:------------------------ |:-------------- |:--------------- | -----:|:---- |\n",
    "| compressor efficiency    | compressor     | `eta_s`         |  67.5 | %    |\n",
    "| ambient temperature      | 11             | `T`             |     7 | °C   |\n",
    "| air outlet temperature   | 12             | `T`             | $T_{11}$ - 2 | °C   |\n",
    "| water supply temperature | 22             | `T`             |    35 | °C   |\n",
    "| water return temperature | 21             | `T`             |    30 | °C   |\n",
    "\n",
    "## Build the model\n",
    "\n",
    "### Setup and topology"
   ]
  },
  {
   "cell_type": "code",
   "execution_count": null,
   "metadata": {},
   "outputs": [],
   "source": [
    "from tespy.components import Condenser, HeatExchanger, CycleCloser, Compressor, Valve, Source, Sink\n",
    "from tespy.connections import Connection, Ref\n",
    "from tespy.networks import Network\n",
    "\n",
    "wf = \"R290\"\n",
    "nwk = Network(fluids=[wf, \"air\", \"Water\"], p_unit=\"bar\", T_unit=\"C\", iterinfo=False)\n",
    "\n",
    "cp = Compressor(\"compressor\")\n",
    "ev = HeatExchanger(\"evaporator\")\n",
    "cd = Condenser(\"condenser\")\n",
    "va = Valve(\"expansion valve\")\n",
    "cc = CycleCloser(\"cycle closer\")\n",
    "\n",
    "so1 = Source(\"ambient air source\")\n",
    "si1 = Sink(\"ambient air sink\")\n",
    "so2 = Source(\"heating source\")\n",
    "si2 = Sink(\"heating sink\")\n",
    "\n",
    "c0 = Connection(va, \"out1\", cc, \"in1\", label=\"0\")\n",
    "c1 = Connection(cc, \"out1\", ev, \"in2\", label=\"1\")\n",
    "c2 = Connection(ev, \"out2\", cp, \"in1\", label=\"2\")\n",
    "c3 = Connection(cp, \"out1\", cd, \"in1\", label=\"3\")\n",
    "c4 = Connection(cd, \"out1\", va, \"in1\", label=\"4\")\n",
    "\n",
    "nwk.add_conns(c0, c1, c2, c3, c4)\n",
    "\n",
    "c11 = Connection(so1, \"out1\", ev, \"in1\", label=\"11\")\n",
    "c12 = Connection(ev, \"out1\", si1, \"in1\", label=\"12\")\n",
    "\n",
    "c21 = Connection(so2, \"out1\", cd, \"in2\", label=\"21\")\n",
    "c22 = Connection(cd, \"out2\", si2, \"in1\", label=\"22\")\n",
    "\n",
    "nwk.add_conns(c11, c12, c21, c22)"
   ]
  },
  {
   "cell_type": "markdown",
   "metadata": {},
   "source": [
    "### Component and process parameters\n",
    "\n",
    "Compressor efficiency as found in first section"
   ]
  },
  {
   "cell_type": "code",
   "execution_count": null,
   "metadata": {},
   "outputs": [],
   "source": [
    "# connections\n",
    "c2.set_attr(T=2)\n",
    "c4.set_attr(T=40)\n",
    "\n",
    "# components\n",
    "Q_design = -9.1e3\n",
    "cp.set_attr(eta_s=0.675)\n",
    "cd.set_attr(Q=Q_design)\n",
    "\n",
    "# connections\n",
    "T_ambient_design = 7\n",
    "c2.set_attr(fluid={wf: 1, \"Water\": 0, \"air\": 0}, x=1.0)\n",
    "c11.set_attr(fluid={wf: 0, \"Water\": 0, \"air\": 1}, p=1.0, T=T_ambient_design)\n",
    "c12.set_attr(T=Ref(c11, 1, -2))\n",
    "c21.set_attr(fluid={wf: 0, \"Water\": 1, \"air\": 0}, p=3.0, T=30)\n",
    "c22.set_attr(T=35)\n",
    "\n",
    "# components\n",
    "cd.set_attr(pr1=1, pr2=1)\n",
    "ev.set_attr(pr1=1, pr2=1)"
   ]
  },
  {
   "cell_type": "markdown",
   "metadata": {},
   "source": [
    "### Run and save results"
   ]
  },
  {
   "cell_type": "code",
   "execution_count": null,
   "metadata": {},
   "outputs": [],
   "source": [
    "nwk.solve(\"design\")\n",
    "nwk.print_results()"
   ]
  },
  {
   "cell_type": "code",
   "execution_count": null,
   "metadata": {},
   "outputs": [],
   "source": [
    "nwk.save(\"design-state\")"
   ]
  },
  {
   "cell_type": "markdown",
   "metadata": {},
   "source": [
    "### Assumptions for part load operation\n",
    "\n",
    "Parameters follow lookup curves relative to design point value\n",
    "\n",
    "- Compressor efficiency follows efficiency curve `eta_s_char`\n",
    "- Evaporator heat transfer coefficient follows adjustment factor from `kA_char`, we cannot control evaporation temperature anymore\n",
    "- Condenser heat transfer coefficient follows adjustment factor from `kA_char`, we cannot control condensation temperature anymore"
   ]
  },
  {
   "cell_type": "code",
   "execution_count": null,
   "metadata": {},
   "outputs": [],
   "source": [
    "cp.set_attr(design=[\"eta_s\"], offdesign=[\"eta_s_char\"])\n",
    "cp.eta_s_char.char_func.extrapolate = True\n",
    "\n",
    "ev.set_attr(offdesign=[\"kA_char\"])\n",
    "c2.set_attr(design=[\"T\"])\n",
    "\n",
    "cd.set_attr(offdesign=[\"kA_char\"])\n",
    "c4.set_attr(design=[\"T\"])"
   ]
  },
  {
   "cell_type": "markdown",
   "metadata": {},
   "source": [
    "### Solve part load model"
   ]
  },
  {
   "cell_type": "code",
   "execution_count": null,
   "metadata": {},
   "outputs": [],
   "source": [
    "nwk.solve(\"offdesign\", design_path=\"design-state\")\n",
    "nwk.print_results()"
   ]
  },
  {
   "cell_type": "markdown",
   "metadata": {},
   "source": [
    "### Set up ambient temperature and heat production range\n",
    "\n",
    "- Ambient temperature from -10 °C to 20 °C\n",
    "- Heat production range from 50 % of nominal production to nominal production"
   ]
  },
  {
   "cell_type": "code",
   "execution_count": null,
   "metadata": {},
   "outputs": [],
   "source": [
    "import numpy as np\n",
    "import pandas as pd\n",
    "\n",
    "\n",
    "heat_range = np.linspace(0.5, 1.0, 11) * Q_design\n",
    "temperature_range = np.arange(-10, 21)\n",
    "\n",
    "results = {}"
   ]
  },
  {
   "cell_type": "markdown",
   "metadata": {},
   "source": [
    "### Run loop\n",
    "\n",
    "- For every temperature run a simulation at variable heat production\n",
    "- Save the COP, the compressor power, condensation and evaporation temperature"
   ]
  },
  {
   "cell_type": "code",
   "execution_count": null,
   "metadata": {},
   "outputs": [],
   "source": [
    "init_path = None\n",
    "for temperature in temperature_range:\n",
    "    results[temperature] = pd.DataFrame(index=heat_range, columns=[\"COP\", \"compressor-power\", \"T-evaporation\", \"T-condensation\"])\n",
    "    c11.set_attr(T=temperature)\n",
    "    for heat in heat_range[::-1]:\n",
    "        cd.set_attr(Q=heat)\n",
    "        if heat == heat_range[-1]:\n",
    "            nwk.solve(\"offdesign\", design_path=\"design-state\", init_path=init_path)\n",
    "            nwk.save(\"tmp\")\n",
    "            init_path = \"tmp\"\n",
    "        else:\n",
    "            nwk.solve(\"offdesign\", design_path=\"design-state\")  \n",
    "\n",
    "        results[temperature].loc[heat, \"COP\"] = abs(cd.Q.val) / cp.P.val\n",
    "        results[temperature].loc[heat, \"compressor-power\"] = cp.P.val\n",
    "        results[temperature].loc[heat, \"T-evaporation\"] = c2.T.val\n",
    "        results[temperature].loc[heat, \"T-condensation\"] = c4.T.val"
   ]
  },
  {
   "cell_type": "code",
   "execution_count": null,
   "metadata": {},
   "outputs": [],
   "source": [
    "results"
   ]
  },
  {
   "cell_type": "markdown",
   "metadata": {},
   "source": [
    "### Plot the COP and compressor power"
   ]
  },
  {
   "cell_type": "code",
   "execution_count": null,
   "metadata": {},
   "outputs": [],
   "source": [
    "from matplotlib import pyplot as plt\n",
    "\n",
    "\n",
    "power_max = 0\n",
    "COP_max = 0\n",
    "\n",
    "fig, ax = plt.subplots(2, sharex=True)\n",
    "\n",
    "for temp in temperature_range[::10]:\n",
    "\n",
    "    ax[0].plot(np.abs(results[temp].index), results[temp][\"compressor-power\"], label=\"$T_\\\\mathrm{amb}$=\" + str(temp) + \"°C\")\n",
    "    ax[1].plot(np.abs(results[temp].index), results[temp][\"COP\"])\n",
    "    COP_max = max(results[temp][\"COP\"].max(), COP_max)\n",
    "    power_max = max(results[temp][\"compressor-power\"].max(), power_max)\n",
    "\n",
    "ax[0].legend()\n",
    "ax[0].set_ylabel(\"$\\dot W_\\\\mathrm{cp}$ in W\")\n",
    "ax[0].set_ylim([0, power_max * 1.05])\n",
    "ax[1].set_ylabel(\"COP\")\n",
    "ax[1].set_ylim([0, COP_max + 1])\n",
    "ax[1].set_xlim([0, np.abs(heat_range).max() * 1.05])\n",
    "_ = ax[1].set_xlabel(\"Consumer heat demand in W\")"
   ]
  },
  {
   "cell_type": "markdown",
   "metadata": {},
   "source": [
    "### Linearize compressor power vs. heat production curve"
   ]
  },
  {
   "cell_type": "code",
   "execution_count": null,
   "metadata": {},
   "outputs": [],
   "source": [
    "def least_squares(x, y):\n",
    "    A = np.vstack([x, np.ones(len(x))]).T\n",
    "    slope, offset = np.linalg.lstsq(A, y, rcond=None)[0]\n",
    "    return slope, offset"
   ]
  },
  {
   "cell_type": "markdown",
   "metadata": {},
   "source": [
    "### TESPy results"
   ]
  },
  {
   "cell_type": "code",
   "execution_count": null,
   "metadata": {},
   "outputs": [],
   "source": [
    "x = -results[T_ambient_design].index.values.astype(float)\n",
    "y = results[T_ambient_design][\"compressor-power\"].values.astype(float)\n",
    "yy_tespy = y"
   ]
  },
  {
   "cell_type": "markdown",
   "metadata": {},
   "source": [
    "### Linearized"
   ]
  },
  {
   "cell_type": "code",
   "execution_count": null,
   "metadata": {},
   "outputs": [],
   "source": [
    "slope, offset = least_squares(x, y)\n",
    "yy_offset = offset + slope * x"
   ]
  },
  {
   "cell_type": "markdown",
   "metadata": {},
   "source": [
    "### Carnot COP method with constant efficiency factor"
   ]
  },
  {
   "cell_type": "code",
   "execution_count": null,
   "metadata": {},
   "outputs": [],
   "source": [
    "COP_c_simple = (\n",
    "    (results[T_ambient_design][\"T-condensation\"] + 273.15) /\n",
    "    (results[T_ambient_design][\"T-condensation\"] - results[T_ambient_design][\"T-evaporation\"])\n",
    ")\n",
    "eta_c_simple = 4.9 / COP_c_simple.loc[Q_design]\n",
    "eta_c_simple"
   ]
  },
  {
   "cell_type": "markdown",
   "metadata": {},
   "source": [
    "### Plot the results"
   ]
  },
  {
   "cell_type": "code",
   "execution_count": null,
   "metadata": {},
   "outputs": [],
   "source": [
    "fig, ax = plt.subplots(2, sharex=True)\n",
    "\n",
    "ax[0].plot(x, yy_tespy, label=\"TESPy (reference)\")\n",
    "ax[0].plot(x, yy_offset, label=\"Linear w Offset\")\n",
    "ax[0].plot(x, x / (COP_c_simple * eta_c_simple), label=\"COP simplified\")\n",
    "\n",
    "ax[1].plot(x, (yy_tespy - yy_tespy) / yy_tespy * 100)\n",
    "ax[1].plot(x, (yy_offset - yy_tespy) / yy_tespy * 100)\n",
    "ax[1].plot(x, (x / (COP_c_simple * eta_c_simple) - yy_tespy) / yy_tespy * 100)\n",
    "\n",
    "ax[0].legend()\n",
    "ax[0].set_ylabel(\"Compressor power in W\")\n",
    "ax[0].set_ylim([0, y.max() * 1.05])\n",
    "ax[1].set_ylabel(\"Relative deviation of power in %\")\n",
    "ax[1].set_xlim([0, x.max() * 1.05])\n",
    "_ = ax[1].set_xlabel(\"Consumer heat demand in W\")"
   ]
  },
  {
   "cell_type": "markdown",
   "metadata": {},
   "source": [
    "### Plot the linearized results"
   ]
  },
  {
   "cell_type": "code",
   "execution_count": null,
   "metadata": {},
   "outputs": [],
   "source": [
    "fig, ax = plt.subplots(1)\n",
    "\n",
    "for temp in temperature_range[::10]:\n",
    "        \n",
    "    x = -results[temp].index.values.astype(float)\n",
    "    y = results[temp][\"compressor-power\"].values.astype(float)\n",
    "    slope, offset = least_squares(x, y)\n",
    "    p = ax.plot(x, slope * x + offset, label=\"$T_\\\\mathrm{amb}=$\" + str(temp) + \" °C\")  # get line information to extract color\n",
    "    ax.plot([0, x.min()], slope * np.array([0, x.min()]) + offset, \"--\", color=p[0].get_color())\n",
    "    power_max = max(results[temp][\"compressor-power\"].max(), power_max)\n",
    "\n",
    "ax.set_ylim([0, power_max * 1.05])\n",
    "ax.set_ylabel(\"Compressor power in W\")\n",
    "ax.set_xlim([0, x.max() * 1.05])\n",
    "ax.legend()\n",
    "_ = ax.set_xlabel(\"Consumer heat demand in W\")"
   ]
  },
  {
   "cell_type": "markdown",
   "metadata": {},
   "source": [
    "### Export results to oemof-solph\n",
    "\n",
    "oemof-solph needs a consumer heat demand as function of electricity consumption"
   ]
  },
  {
   "cell_type": "code",
   "execution_count": null,
   "metadata": {},
   "outputs": [],
   "source": [
    "export_df = pd.DataFrame(index=temperature_range, columns=[\"slope\", \"offset\"])\n",
    "\n",
    "for key, data in results.items():\n",
    "    y = -data.index.values.astype(float)\n",
    "    x = data[\"compressor-power\"].values.astype(float)\n",
    "    export_df.loc[key] = least_squares(x, y)\n",
    "\n",
    "export_df.to_csv(\"coefficients-offset-transformer.csv\")"
   ]
  }
 ],
 "metadata": {
  "interpreter": {
   "hash": "137cb3feb96291b75c5ffeed714863853e33a7f6fc63dbeffba961b793eac5a0"
  },
  "kernelspec": {
   "display_name": "Python 3.10.0 ('oemof-workshop-osmses2')",
   "language": "python",
   "name": "python3"
  },
  "language_info": {
   "codemirror_mode": {
    "name": "ipython",
    "version": 3
   },
   "file_extension": ".py",
   "mimetype": "text/x-python",
   "name": "python",
   "nbconvert_exporter": "python",
   "pygments_lexer": "ipython3",
   "version": "3.10.0"
  },
  "orig_nbformat": 4
 },
 "nbformat": 4,
 "nbformat_minor": 2
}
