{
 "cells": [
  {
   "cell_type": "code",
   "execution_count": 11,
   "metadata": {},
   "outputs": [],
   "source": [
    "from tespy.components import Condenser, HeatExchanger, CycleCloser, Compressor, Valve, Source, Sink\n",
    "from tespy.connections import Connection, Ref\n",
    "from tespy.networks import Network\n",
    "\n",
    "wf = \"R290\"\n",
    "nwk = Network(fluids=[wf, \"air\", \"Water\"], p_unit=\"bar\", T_unit=\"C\", iterinfo=False)\n",
    "\n",
    "cp = Compressor(\"compressor\")\n",
    "ev = HeatExchanger(\"evaporator\")\n",
    "cd = Condenser(\"condenser\")\n",
    "va = Valve(\"expansion valve\")\n",
    "cc = CycleCloser(\"cycle closer\")\n",
    "\n",
    "so1 = Source(\"ambient air source\")\n",
    "si1 = Sink(\"ambient air sink\")\n",
    "so2 = Source(\"heating source\")\n",
    "si2 = Sink(\"heating sink\")\n",
    "\n",
    "c0 = Connection(va, \"out1\", cc, \"in1\", label=\"0\")\n",
    "c1 = Connection(cc, \"out1\", ev, \"in2\", label=\"1\")\n",
    "c2 = Connection(ev, \"out2\", cp, \"in1\", label=\"2\")\n",
    "c3 = Connection(cp, \"out1\", cd, \"in1\", label=\"3\")\n",
    "c4 = Connection(cd, \"out1\", va, \"in1\", label=\"4\")\n",
    "\n",
    "nwk.add_conns(c0, c1, c2, c3, c4)\n",
    "\n",
    "c11 = Connection(so1, \"out1\", ev, \"in1\", label=\"11\")\n",
    "c12 = Connection(ev, \"out1\", si1, \"in1\", label=\"12\")\n",
    "\n",
    "c21 = Connection(so2, \"out1\", cd, \"in2\", label=\"21\")\n",
    "c22 = Connection(cd, \"out2\", si2, \"in1\", label=\"22\")\n",
    "\n",
    "nwk.add_conns(c11, c12, c21, c22)"
   ]
  },
  {
   "cell_type": "code",
   "execution_count": 12,
   "metadata": {},
   "outputs": [],
   "source": [
    "# connections\n",
    "c2.set_attr(T=2)\n",
    "c4.set_attr(T=40)\n",
    "\n",
    "# components\n",
    "Q_design = -9.1e3\n",
    "cp.set_attr(eta_s=0.675)\n",
    "cd.set_attr(Q=Q_design)\n",
    "\n",
    "# connections\n",
    "T_ambient_design = 7\n",
    "c2.set_attr(fluid={wf: 1, \"Water\": 0, \"air\": 0}, x=1.0)\n",
    "c11.set_attr(fluid={wf: 0, \"Water\": 0, \"air\": 1}, p=1.0, T=T_ambient_design)\n",
    "c12.set_attr(T=Ref(c11, 1, -2))\n",
    "c21.set_attr(fluid={wf: 0, \"Water\": 1, \"air\": 0}, p=3.0, T=30)\n",
    "c22.set_attr(T=35)\n",
    "\n",
    "# components\n",
    "cd.set_attr(pr1=1, pr2=1)\n",
    "ev.set_attr(pr1=1, pr2=1)"
   ]
  },
  {
   "cell_type": "code",
   "execution_count": 13,
   "metadata": {},
   "outputs": [],
   "source": [
    "nwk.solve(\"design\")"
   ]
  },
  {
   "cell_type": "code",
   "execution_count": 14,
   "metadata": {},
   "outputs": [],
   "source": [
    "nwk.save(\"design-state\")"
   ]
  },
  {
   "cell_type": "code",
   "execution_count": 15,
   "metadata": {},
   "outputs": [],
   "source": [
    "cp.set_attr(design=[\"eta_s\"], offdesign=[\"eta_s_char\"])\n",
    "cp.eta_s_char.char_func.extrapolate = True\n",
    "ev.set_attr(offdesign=[\"kA_char\"])\n",
    "cd.set_attr(offdesign=[\"kA_char\"])\n",
    "\n",
    "c2.set_attr(design=[\"T\"])\n",
    "c4.set_attr(design=[\"T\"])"
   ]
  },
  {
   "cell_type": "code",
   "execution_count": 16,
   "metadata": {},
   "outputs": [],
   "source": [
    "nwk.solve(\"offdesign\", design_path=\"design-state\")"
   ]
  },
  {
   "cell_type": "code",
   "execution_count": 17,
   "metadata": {},
   "outputs": [],
   "source": [
    "import numpy as np\n",
    "import pandas as pd\n",
    "\n",
    "\n",
    "heat_range = np.linspace(0.5, 1.0, 11) * Q_design\n",
    "temperature_range = np.arange(-10, 21)\n",
    "\n",
    "results = {}"
   ]
  },
  {
   "cell_type": "code",
   "execution_count": 18,
   "metadata": {},
   "outputs": [
    {
     "ename": "FileNotFoundError",
     "evalue": "[Errno 2] No such file or directory: '.\\\\tmp\\\\connections.csv'",
     "output_type": "error",
     "traceback": [
      "\u001b[1;31m---------------------------------------------------------------------------\u001b[0m",
      "\u001b[1;31mFileNotFoundError\u001b[0m                         Traceback (most recent call last)",
      "Cell \u001b[1;32mIn[18], line 7\u001b[0m\n\u001b[0;32m      5\u001b[0m cd\u001b[38;5;241m.\u001b[39mset_attr(Q\u001b[38;5;241m=\u001b[39mheat)\n\u001b[0;32m      6\u001b[0m \u001b[38;5;28;01mif\u001b[39;00m heat \u001b[38;5;241m==\u001b[39m heat_range[\u001b[38;5;241m-\u001b[39m\u001b[38;5;241m1\u001b[39m]:\n\u001b[1;32m----> 7\u001b[0m     \u001b[43mnwk\u001b[49m\u001b[38;5;241;43m.\u001b[39;49m\u001b[43msolve\u001b[49m\u001b[43m(\u001b[49m\u001b[38;5;124;43m\"\u001b[39;49m\u001b[38;5;124;43moffdesign\u001b[39;49m\u001b[38;5;124;43m\"\u001b[39;49m\u001b[43m,\u001b[49m\u001b[43m \u001b[49m\u001b[43mdesign_path\u001b[49m\u001b[38;5;241;43m=\u001b[39;49m\u001b[38;5;124;43m\"\u001b[39;49m\u001b[38;5;124;43mdesign-state\u001b[39;49m\u001b[38;5;124;43m\"\u001b[39;49m\u001b[43m,\u001b[49m\u001b[43m \u001b[49m\u001b[43minit_path\u001b[49m\u001b[38;5;241;43m=\u001b[39;49m\u001b[38;5;124;43m\"\u001b[39;49m\u001b[38;5;124;43mtmp\u001b[39;49m\u001b[38;5;124;43m\"\u001b[39;49m\u001b[43m)\u001b[49m\n\u001b[0;32m      8\u001b[0m     nwk\u001b[38;5;241m.\u001b[39msave(\u001b[38;5;124m\"\u001b[39m\u001b[38;5;124mtmp\u001b[39m\u001b[38;5;124m\"\u001b[39m)\n\u001b[0;32m      9\u001b[0m \u001b[38;5;28;01melse\u001b[39;00m:\n",
      "File \u001b[1;32mC:\\ProgramData\\mambaforge\\envs\\oemof-workshop-osmses2\\lib\\site-packages\\tespy\\networks\\network.py:1653\u001b[0m, in \u001b[0;36mNetwork.solve\u001b[1;34m(self, mode, init_path, design_path, max_iter, min_iter, init_only, init_previous, use_cuda, always_all_equations)\u001b[0m\n\u001b[0;32m   1646\u001b[0m msg \u001b[38;5;241m=\u001b[39m (\n\u001b[0;32m   1647\u001b[0m     \u001b[38;5;124m'\u001b[39m\u001b[38;5;124mNetwork properties: \u001b[39m\u001b[38;5;124m'\u001b[39m\n\u001b[0;32m   1648\u001b[0m     \u001b[38;5;124m'\u001b[39m\u001b[38;5;124mnumber of components=\u001b[39m\u001b[38;5;124m'\u001b[39m \u001b[38;5;241m+\u001b[39m \u001b[38;5;28mstr\u001b[39m(\u001b[38;5;28mlen\u001b[39m(\u001b[38;5;28mself\u001b[39m\u001b[38;5;241m.\u001b[39mcomps)) \u001b[38;5;241m+\u001b[39m\n\u001b[0;32m   1649\u001b[0m     \u001b[38;5;124m'\u001b[39m\u001b[38;5;124m, number of connections=\u001b[39m\u001b[38;5;124m'\u001b[39m \u001b[38;5;241m+\u001b[39m \u001b[38;5;28mstr\u001b[39m(\u001b[38;5;28mlen\u001b[39m(\u001b[38;5;28mself\u001b[39m\u001b[38;5;241m.\u001b[39mconns\u001b[38;5;241m.\u001b[39mindex)) \u001b[38;5;241m+\u001b[39m\n\u001b[0;32m   1650\u001b[0m     \u001b[38;5;124m'\u001b[39m\u001b[38;5;124m, number of busses=\u001b[39m\u001b[38;5;124m'\u001b[39m \u001b[38;5;241m+\u001b[39m \u001b[38;5;28mstr\u001b[39m(\u001b[38;5;28mlen\u001b[39m(\u001b[38;5;28mself\u001b[39m\u001b[38;5;241m.\u001b[39mbusses)))\n\u001b[0;32m   1651\u001b[0m logging\u001b[38;5;241m.\u001b[39mdebug(msg)\n\u001b[1;32m-> 1653\u001b[0m \u001b[38;5;28;43mself\u001b[39;49m\u001b[38;5;241;43m.\u001b[39;49m\u001b[43minitialise\u001b[49m\u001b[43m(\u001b[49m\u001b[43m)\u001b[49m\n\u001b[0;32m   1655\u001b[0m \u001b[38;5;28;01mif\u001b[39;00m init_only:\n\u001b[0;32m   1656\u001b[0m     \u001b[38;5;28;01mreturn\u001b[39;00m\n",
      "File \u001b[1;32mC:\\ProgramData\\mambaforge\\envs\\oemof-workshop-osmses2\\lib\\site-packages\\tespy\\networks\\network.py:849\u001b[0m, in \u001b[0;36mNetwork.initialise\u001b[1;34m(self)\u001b[0m\n\u001b[0;32m    846\u001b[0m     \u001b[38;5;28mself\u001b[39m\u001b[38;5;241m.\u001b[39minit_fluids()\n\u001b[0;32m    848\u001b[0m \u001b[38;5;66;03m# generic fluid property initialisation\u001b[39;00m\n\u001b[1;32m--> 849\u001b[0m \u001b[38;5;28;43mself\u001b[39;49m\u001b[38;5;241;43m.\u001b[39;49m\u001b[43minit_properties\u001b[49m\u001b[43m(\u001b[49m\u001b[43m)\u001b[49m\n\u001b[0;32m    851\u001b[0m msg \u001b[38;5;241m=\u001b[39m \u001b[38;5;124m'\u001b[39m\u001b[38;5;124mNetwork initialised.\u001b[39m\u001b[38;5;124m'\u001b[39m\n\u001b[0;32m    852\u001b[0m logging\u001b[38;5;241m.\u001b[39minfo(msg)\n",
      "File \u001b[1;32mC:\\ProgramData\\mambaforge\\envs\\oemof-workshop-osmses2\\lib\\site-packages\\tespy\\networks\\network.py:1350\u001b[0m, in \u001b[0;36mNetwork.init_properties\u001b[1;34m(self)\u001b[0m\n\u001b[0;32m   1339\u001b[0m \u001b[38;5;250m\u001b[39m\u001b[38;5;124;03m\"\"\"\u001b[39;00m\n\u001b[0;32m   1340\u001b[0m \u001b[38;5;124;03mInitialise the fluid properties on every connection of the network.\u001b[39;00m\n\u001b[0;32m   1341\u001b[0m \n\u001b[1;32m   (...)\u001b[0m\n\u001b[0;32m   1347\u001b[0m \u001b[38;5;124;03m  boiling point or fluid state.\u001b[39;00m\n\u001b[0;32m   1348\u001b[0m \u001b[38;5;124;03m\"\"\"\u001b[39;00m\n\u001b[0;32m   1349\u001b[0m \u001b[38;5;28;01mif\u001b[39;00m \u001b[38;5;28mself\u001b[39m\u001b[38;5;241m.\u001b[39minit_path \u001b[38;5;129;01mis\u001b[39;00m \u001b[38;5;129;01mnot\u001b[39;00m \u001b[38;5;28;01mNone\u001b[39;00m:\n\u001b[1;32m-> 1350\u001b[0m     df \u001b[38;5;241m=\u001b[39m \u001b[38;5;28;43mself\u001b[39;49m\u001b[38;5;241;43m.\u001b[39;49m\u001b[43minit_read_connections\u001b[49m\u001b[43m(\u001b[49m\u001b[38;5;28;43mself\u001b[39;49m\u001b[38;5;241;43m.\u001b[39;49m\u001b[43minit_path\u001b[49m\u001b[43m)\u001b[49m\n\u001b[0;32m   1351\u001b[0m \u001b[38;5;66;03m# improved starting values for referenced connections,\u001b[39;00m\n\u001b[0;32m   1352\u001b[0m \u001b[38;5;66;03m# specified vapour content values, temperature values as well as\u001b[39;00m\n\u001b[0;32m   1353\u001b[0m \u001b[38;5;66;03m# subccooling/overheating and state specification\u001b[39;00m\n\u001b[0;32m   1354\u001b[0m \u001b[38;5;28;01mfor\u001b[39;00m c \u001b[38;5;129;01min\u001b[39;00m \u001b[38;5;28mself\u001b[39m\u001b[38;5;241m.\u001b[39mconns[\u001b[38;5;124m'\u001b[39m\u001b[38;5;124mobject\u001b[39m\u001b[38;5;124m'\u001b[39m]:\n",
      "File \u001b[1;32mC:\\ProgramData\\mambaforge\\envs\\oemof-workshop-osmses2\\lib\\site-packages\\tespy\\networks\\network.py:1543\u001b[0m, in \u001b[0;36mNetwork.init_read_connections\u001b[1;34m(base_path)\u001b[0m\n\u001b[0;32m   1534\u001b[0m \u001b[38;5;250m\u001b[39m\u001b[38;5;124mr\u001b[39m\u001b[38;5;124;03m\"\"\"\u001b[39;00m\n\u001b[0;32m   1535\u001b[0m \u001b[38;5;124;03mRead connection information from base_path.\u001b[39;00m\n\u001b[0;32m   1536\u001b[0m \n\u001b[1;32m   (...)\u001b[0m\n\u001b[0;32m   1540\u001b[0m \u001b[38;5;124;03m    Path to network information.\u001b[39;00m\n\u001b[0;32m   1541\u001b[0m \u001b[38;5;124;03m\"\"\"\u001b[39;00m\n\u001b[0;32m   1542\u001b[0m path \u001b[38;5;241m=\u001b[39m hlp\u001b[38;5;241m.\u001b[39mmodify_path_os(base_path \u001b[38;5;241m+\u001b[39m \u001b[38;5;124m'\u001b[39m\u001b[38;5;124m/connections.csv\u001b[39m\u001b[38;5;124m'\u001b[39m)\n\u001b[1;32m-> 1543\u001b[0m df \u001b[38;5;241m=\u001b[39m \u001b[43mpd\u001b[49m\u001b[38;5;241;43m.\u001b[39;49m\u001b[43mread_csv\u001b[49m\u001b[43m(\u001b[49m\u001b[43mpath\u001b[49m\u001b[43m,\u001b[49m\u001b[43m \u001b[49m\u001b[43mindex_col\u001b[49m\u001b[38;5;241;43m=\u001b[39;49m\u001b[38;5;241;43m0\u001b[39;49m\u001b[43m,\u001b[49m\u001b[43m \u001b[49m\u001b[43mdelimiter\u001b[49m\u001b[38;5;241;43m=\u001b[39;49m\u001b[38;5;124;43m'\u001b[39;49m\u001b[38;5;124;43m;\u001b[39;49m\u001b[38;5;124;43m'\u001b[39;49m\u001b[43m,\u001b[49m\u001b[43m \u001b[49m\u001b[43mdecimal\u001b[49m\u001b[38;5;241;43m=\u001b[39;49m\u001b[38;5;124;43m'\u001b[39;49m\u001b[38;5;124;43m.\u001b[39;49m\u001b[38;5;124;43m'\u001b[39;49m\u001b[43m)\u001b[49m\n\u001b[0;32m   1544\u001b[0m \u001b[38;5;28;01mreturn\u001b[39;00m df\n",
      "File \u001b[1;32mC:\\ProgramData\\mambaforge\\envs\\oemof-workshop-osmses2\\lib\\site-packages\\pandas\\util\\_decorators.py:211\u001b[0m, in \u001b[0;36mdeprecate_kwarg.<locals>._deprecate_kwarg.<locals>.wrapper\u001b[1;34m(*args, **kwargs)\u001b[0m\n\u001b[0;32m    209\u001b[0m     \u001b[38;5;28;01melse\u001b[39;00m:\n\u001b[0;32m    210\u001b[0m         kwargs[new_arg_name] \u001b[38;5;241m=\u001b[39m new_arg_value\n\u001b[1;32m--> 211\u001b[0m \u001b[38;5;28;01mreturn\u001b[39;00m func(\u001b[38;5;241m*\u001b[39margs, \u001b[38;5;241m*\u001b[39m\u001b[38;5;241m*\u001b[39mkwargs)\n",
      "File \u001b[1;32mC:\\ProgramData\\mambaforge\\envs\\oemof-workshop-osmses2\\lib\\site-packages\\pandas\\util\\_decorators.py:331\u001b[0m, in \u001b[0;36mdeprecate_nonkeyword_arguments.<locals>.decorate.<locals>.wrapper\u001b[1;34m(*args, **kwargs)\u001b[0m\n\u001b[0;32m    325\u001b[0m \u001b[38;5;28;01mif\u001b[39;00m \u001b[38;5;28mlen\u001b[39m(args) \u001b[38;5;241m>\u001b[39m num_allow_args:\n\u001b[0;32m    326\u001b[0m     warnings\u001b[38;5;241m.\u001b[39mwarn(\n\u001b[0;32m    327\u001b[0m         msg\u001b[38;5;241m.\u001b[39mformat(arguments\u001b[38;5;241m=\u001b[39m_format_argument_list(allow_args)),\n\u001b[0;32m    328\u001b[0m         \u001b[38;5;167;01mFutureWarning\u001b[39;00m,\n\u001b[0;32m    329\u001b[0m         stacklevel\u001b[38;5;241m=\u001b[39mfind_stack_level(),\n\u001b[0;32m    330\u001b[0m     )\n\u001b[1;32m--> 331\u001b[0m \u001b[38;5;28;01mreturn\u001b[39;00m func(\u001b[38;5;241m*\u001b[39margs, \u001b[38;5;241m*\u001b[39m\u001b[38;5;241m*\u001b[39mkwargs)\n",
      "File \u001b[1;32mC:\\ProgramData\\mambaforge\\envs\\oemof-workshop-osmses2\\lib\\site-packages\\pandas\\io\\parsers\\readers.py:950\u001b[0m, in \u001b[0;36mread_csv\u001b[1;34m(filepath_or_buffer, sep, delimiter, header, names, index_col, usecols, squeeze, prefix, mangle_dupe_cols, dtype, engine, converters, true_values, false_values, skipinitialspace, skiprows, skipfooter, nrows, na_values, keep_default_na, na_filter, verbose, skip_blank_lines, parse_dates, infer_datetime_format, keep_date_col, date_parser, dayfirst, cache_dates, iterator, chunksize, compression, thousands, decimal, lineterminator, quotechar, quoting, doublequote, escapechar, comment, encoding, encoding_errors, dialect, error_bad_lines, warn_bad_lines, on_bad_lines, delim_whitespace, low_memory, memory_map, float_precision, storage_options)\u001b[0m\n\u001b[0;32m    935\u001b[0m kwds_defaults \u001b[38;5;241m=\u001b[39m _refine_defaults_read(\n\u001b[0;32m    936\u001b[0m     dialect,\n\u001b[0;32m    937\u001b[0m     delimiter,\n\u001b[1;32m   (...)\u001b[0m\n\u001b[0;32m    946\u001b[0m     defaults\u001b[38;5;241m=\u001b[39m{\u001b[38;5;124m\"\u001b[39m\u001b[38;5;124mdelimiter\u001b[39m\u001b[38;5;124m\"\u001b[39m: \u001b[38;5;124m\"\u001b[39m\u001b[38;5;124m,\u001b[39m\u001b[38;5;124m\"\u001b[39m},\n\u001b[0;32m    947\u001b[0m )\n\u001b[0;32m    948\u001b[0m kwds\u001b[38;5;241m.\u001b[39mupdate(kwds_defaults)\n\u001b[1;32m--> 950\u001b[0m \u001b[38;5;28;01mreturn\u001b[39;00m \u001b[43m_read\u001b[49m\u001b[43m(\u001b[49m\u001b[43mfilepath_or_buffer\u001b[49m\u001b[43m,\u001b[49m\u001b[43m \u001b[49m\u001b[43mkwds\u001b[49m\u001b[43m)\u001b[49m\n",
      "File \u001b[1;32mC:\\ProgramData\\mambaforge\\envs\\oemof-workshop-osmses2\\lib\\site-packages\\pandas\\io\\parsers\\readers.py:605\u001b[0m, in \u001b[0;36m_read\u001b[1;34m(filepath_or_buffer, kwds)\u001b[0m\n\u001b[0;32m    602\u001b[0m _validate_names(kwds\u001b[38;5;241m.\u001b[39mget(\u001b[38;5;124m\"\u001b[39m\u001b[38;5;124mnames\u001b[39m\u001b[38;5;124m\"\u001b[39m, \u001b[38;5;28;01mNone\u001b[39;00m))\n\u001b[0;32m    604\u001b[0m \u001b[38;5;66;03m# Create the parser.\u001b[39;00m\n\u001b[1;32m--> 605\u001b[0m parser \u001b[38;5;241m=\u001b[39m TextFileReader(filepath_or_buffer, \u001b[38;5;241m*\u001b[39m\u001b[38;5;241m*\u001b[39mkwds)\n\u001b[0;32m    607\u001b[0m \u001b[38;5;28;01mif\u001b[39;00m chunksize \u001b[38;5;129;01mor\u001b[39;00m iterator:\n\u001b[0;32m    608\u001b[0m     \u001b[38;5;28;01mreturn\u001b[39;00m parser\n",
      "File \u001b[1;32mC:\\ProgramData\\mambaforge\\envs\\oemof-workshop-osmses2\\lib\\site-packages\\pandas\\io\\parsers\\readers.py:1442\u001b[0m, in \u001b[0;36mTextFileReader.__init__\u001b[1;34m(self, f, engine, **kwds)\u001b[0m\n\u001b[0;32m   1439\u001b[0m     \u001b[38;5;28mself\u001b[39m\u001b[38;5;241m.\u001b[39moptions[\u001b[38;5;124m\"\u001b[39m\u001b[38;5;124mhas_index_names\u001b[39m\u001b[38;5;124m\"\u001b[39m] \u001b[38;5;241m=\u001b[39m kwds[\u001b[38;5;124m\"\u001b[39m\u001b[38;5;124mhas_index_names\u001b[39m\u001b[38;5;124m\"\u001b[39m]\n\u001b[0;32m   1441\u001b[0m \u001b[38;5;28mself\u001b[39m\u001b[38;5;241m.\u001b[39mhandles: IOHandles \u001b[38;5;241m|\u001b[39m \u001b[38;5;28;01mNone\u001b[39;00m \u001b[38;5;241m=\u001b[39m \u001b[38;5;28;01mNone\u001b[39;00m\n\u001b[1;32m-> 1442\u001b[0m \u001b[38;5;28mself\u001b[39m\u001b[38;5;241m.\u001b[39m_engine \u001b[38;5;241m=\u001b[39m \u001b[38;5;28;43mself\u001b[39;49m\u001b[38;5;241;43m.\u001b[39;49m\u001b[43m_make_engine\u001b[49m\u001b[43m(\u001b[49m\u001b[43mf\u001b[49m\u001b[43m,\u001b[49m\u001b[43m \u001b[49m\u001b[38;5;28;43mself\u001b[39;49m\u001b[38;5;241;43m.\u001b[39;49m\u001b[43mengine\u001b[49m\u001b[43m)\u001b[49m\n",
      "File \u001b[1;32mC:\\ProgramData\\mambaforge\\envs\\oemof-workshop-osmses2\\lib\\site-packages\\pandas\\io\\parsers\\readers.py:1735\u001b[0m, in \u001b[0;36mTextFileReader._make_engine\u001b[1;34m(self, f, engine)\u001b[0m\n\u001b[0;32m   1733\u001b[0m     \u001b[38;5;28;01mif\u001b[39;00m \u001b[38;5;124m\"\u001b[39m\u001b[38;5;124mb\u001b[39m\u001b[38;5;124m\"\u001b[39m \u001b[38;5;129;01mnot\u001b[39;00m \u001b[38;5;129;01min\u001b[39;00m mode:\n\u001b[0;32m   1734\u001b[0m         mode \u001b[38;5;241m+\u001b[39m\u001b[38;5;241m=\u001b[39m \u001b[38;5;124m\"\u001b[39m\u001b[38;5;124mb\u001b[39m\u001b[38;5;124m\"\u001b[39m\n\u001b[1;32m-> 1735\u001b[0m \u001b[38;5;28mself\u001b[39m\u001b[38;5;241m.\u001b[39mhandles \u001b[38;5;241m=\u001b[39m \u001b[43mget_handle\u001b[49m\u001b[43m(\u001b[49m\n\u001b[0;32m   1736\u001b[0m \u001b[43m    \u001b[49m\u001b[43mf\u001b[49m\u001b[43m,\u001b[49m\n\u001b[0;32m   1737\u001b[0m \u001b[43m    \u001b[49m\u001b[43mmode\u001b[49m\u001b[43m,\u001b[49m\n\u001b[0;32m   1738\u001b[0m \u001b[43m    \u001b[49m\u001b[43mencoding\u001b[49m\u001b[38;5;241;43m=\u001b[39;49m\u001b[38;5;28;43mself\u001b[39;49m\u001b[38;5;241;43m.\u001b[39;49m\u001b[43moptions\u001b[49m\u001b[38;5;241;43m.\u001b[39;49m\u001b[43mget\u001b[49m\u001b[43m(\u001b[49m\u001b[38;5;124;43m\"\u001b[39;49m\u001b[38;5;124;43mencoding\u001b[39;49m\u001b[38;5;124;43m\"\u001b[39;49m\u001b[43m,\u001b[49m\u001b[43m \u001b[49m\u001b[38;5;28;43;01mNone\u001b[39;49;00m\u001b[43m)\u001b[49m\u001b[43m,\u001b[49m\n\u001b[0;32m   1739\u001b[0m \u001b[43m    \u001b[49m\u001b[43mcompression\u001b[49m\u001b[38;5;241;43m=\u001b[39;49m\u001b[38;5;28;43mself\u001b[39;49m\u001b[38;5;241;43m.\u001b[39;49m\u001b[43moptions\u001b[49m\u001b[38;5;241;43m.\u001b[39;49m\u001b[43mget\u001b[49m\u001b[43m(\u001b[49m\u001b[38;5;124;43m\"\u001b[39;49m\u001b[38;5;124;43mcompression\u001b[39;49m\u001b[38;5;124;43m\"\u001b[39;49m\u001b[43m,\u001b[49m\u001b[43m \u001b[49m\u001b[38;5;28;43;01mNone\u001b[39;49;00m\u001b[43m)\u001b[49m\u001b[43m,\u001b[49m\n\u001b[0;32m   1740\u001b[0m \u001b[43m    \u001b[49m\u001b[43mmemory_map\u001b[49m\u001b[38;5;241;43m=\u001b[39;49m\u001b[38;5;28;43mself\u001b[39;49m\u001b[38;5;241;43m.\u001b[39;49m\u001b[43moptions\u001b[49m\u001b[38;5;241;43m.\u001b[39;49m\u001b[43mget\u001b[49m\u001b[43m(\u001b[49m\u001b[38;5;124;43m\"\u001b[39;49m\u001b[38;5;124;43mmemory_map\u001b[39;49m\u001b[38;5;124;43m\"\u001b[39;49m\u001b[43m,\u001b[49m\u001b[43m \u001b[49m\u001b[38;5;28;43;01mFalse\u001b[39;49;00m\u001b[43m)\u001b[49m\u001b[43m,\u001b[49m\n\u001b[0;32m   1741\u001b[0m \u001b[43m    \u001b[49m\u001b[43mis_text\u001b[49m\u001b[38;5;241;43m=\u001b[39;49m\u001b[43mis_text\u001b[49m\u001b[43m,\u001b[49m\n\u001b[0;32m   1742\u001b[0m \u001b[43m    \u001b[49m\u001b[43merrors\u001b[49m\u001b[38;5;241;43m=\u001b[39;49m\u001b[38;5;28;43mself\u001b[39;49m\u001b[38;5;241;43m.\u001b[39;49m\u001b[43moptions\u001b[49m\u001b[38;5;241;43m.\u001b[39;49m\u001b[43mget\u001b[49m\u001b[43m(\u001b[49m\u001b[38;5;124;43m\"\u001b[39;49m\u001b[38;5;124;43mencoding_errors\u001b[39;49m\u001b[38;5;124;43m\"\u001b[39;49m\u001b[43m,\u001b[49m\u001b[43m \u001b[49m\u001b[38;5;124;43m\"\u001b[39;49m\u001b[38;5;124;43mstrict\u001b[39;49m\u001b[38;5;124;43m\"\u001b[39;49m\u001b[43m)\u001b[49m\u001b[43m,\u001b[49m\n\u001b[0;32m   1743\u001b[0m \u001b[43m    \u001b[49m\u001b[43mstorage_options\u001b[49m\u001b[38;5;241;43m=\u001b[39;49m\u001b[38;5;28;43mself\u001b[39;49m\u001b[38;5;241;43m.\u001b[39;49m\u001b[43moptions\u001b[49m\u001b[38;5;241;43m.\u001b[39;49m\u001b[43mget\u001b[49m\u001b[43m(\u001b[49m\u001b[38;5;124;43m\"\u001b[39;49m\u001b[38;5;124;43mstorage_options\u001b[39;49m\u001b[38;5;124;43m\"\u001b[39;49m\u001b[43m,\u001b[49m\u001b[43m \u001b[49m\u001b[38;5;28;43;01mNone\u001b[39;49;00m\u001b[43m)\u001b[49m\u001b[43m,\u001b[49m\n\u001b[0;32m   1744\u001b[0m \u001b[43m\u001b[49m\u001b[43m)\u001b[49m\n\u001b[0;32m   1745\u001b[0m \u001b[38;5;28;01massert\u001b[39;00m \u001b[38;5;28mself\u001b[39m\u001b[38;5;241m.\u001b[39mhandles \u001b[38;5;129;01mis\u001b[39;00m \u001b[38;5;129;01mnot\u001b[39;00m \u001b[38;5;28;01mNone\u001b[39;00m\n\u001b[0;32m   1746\u001b[0m f \u001b[38;5;241m=\u001b[39m \u001b[38;5;28mself\u001b[39m\u001b[38;5;241m.\u001b[39mhandles\u001b[38;5;241m.\u001b[39mhandle\n",
      "File \u001b[1;32mC:\\ProgramData\\mambaforge\\envs\\oemof-workshop-osmses2\\lib\\site-packages\\pandas\\io\\common.py:856\u001b[0m, in \u001b[0;36mget_handle\u001b[1;34m(path_or_buf, mode, encoding, compression, memory_map, is_text, errors, storage_options)\u001b[0m\n\u001b[0;32m    851\u001b[0m \u001b[38;5;28;01melif\u001b[39;00m \u001b[38;5;28misinstance\u001b[39m(handle, \u001b[38;5;28mstr\u001b[39m):\n\u001b[0;32m    852\u001b[0m     \u001b[38;5;66;03m# Check whether the filename is to be opened in binary mode.\u001b[39;00m\n\u001b[0;32m    853\u001b[0m     \u001b[38;5;66;03m# Binary mode does not support 'encoding' and 'newline'.\u001b[39;00m\n\u001b[0;32m    854\u001b[0m     \u001b[38;5;28;01mif\u001b[39;00m ioargs\u001b[38;5;241m.\u001b[39mencoding \u001b[38;5;129;01mand\u001b[39;00m \u001b[38;5;124m\"\u001b[39m\u001b[38;5;124mb\u001b[39m\u001b[38;5;124m\"\u001b[39m \u001b[38;5;129;01mnot\u001b[39;00m \u001b[38;5;129;01min\u001b[39;00m ioargs\u001b[38;5;241m.\u001b[39mmode:\n\u001b[0;32m    855\u001b[0m         \u001b[38;5;66;03m# Encoding\u001b[39;00m\n\u001b[1;32m--> 856\u001b[0m         handle \u001b[38;5;241m=\u001b[39m \u001b[38;5;28;43mopen\u001b[39;49m\u001b[43m(\u001b[49m\n\u001b[0;32m    857\u001b[0m \u001b[43m            \u001b[49m\u001b[43mhandle\u001b[49m\u001b[43m,\u001b[49m\n\u001b[0;32m    858\u001b[0m \u001b[43m            \u001b[49m\u001b[43mioargs\u001b[49m\u001b[38;5;241;43m.\u001b[39;49m\u001b[43mmode\u001b[49m\u001b[43m,\u001b[49m\n\u001b[0;32m    859\u001b[0m \u001b[43m            \u001b[49m\u001b[43mencoding\u001b[49m\u001b[38;5;241;43m=\u001b[39;49m\u001b[43mioargs\u001b[49m\u001b[38;5;241;43m.\u001b[39;49m\u001b[43mencoding\u001b[49m\u001b[43m,\u001b[49m\n\u001b[0;32m    860\u001b[0m \u001b[43m            \u001b[49m\u001b[43merrors\u001b[49m\u001b[38;5;241;43m=\u001b[39;49m\u001b[43merrors\u001b[49m\u001b[43m,\u001b[49m\n\u001b[0;32m    861\u001b[0m \u001b[43m            \u001b[49m\u001b[43mnewline\u001b[49m\u001b[38;5;241;43m=\u001b[39;49m\u001b[38;5;124;43m\"\u001b[39;49m\u001b[38;5;124;43m\"\u001b[39;49m\u001b[43m,\u001b[49m\n\u001b[0;32m    862\u001b[0m \u001b[43m        \u001b[49m\u001b[43m)\u001b[49m\n\u001b[0;32m    863\u001b[0m     \u001b[38;5;28;01melse\u001b[39;00m:\n\u001b[0;32m    864\u001b[0m         \u001b[38;5;66;03m# Binary mode\u001b[39;00m\n\u001b[0;32m    865\u001b[0m         handle \u001b[38;5;241m=\u001b[39m \u001b[38;5;28mopen\u001b[39m(handle, ioargs\u001b[38;5;241m.\u001b[39mmode)\n",
      "\u001b[1;31mFileNotFoundError\u001b[0m: [Errno 2] No such file or directory: '.\\\\tmp\\\\connections.csv'"
     ]
    }
   ],
   "source": [
    "init_path = None\n",
    "for temperature in temperature_range:\n",
    "    results[temperature] = pd.DataFrame(index=heat_range, columns=[\"COP\", \"compressor-power\", \"T-evaporation\", \"T-condensation\"])\n",
    "    c11.set_attr(T=temperature)\n",
    "    for heat in heat_range[::-1]:\n",
    "        cd.set_attr(Q=heat)\n",
    "        if heat == heat_range[-1]:\n",
    "            nwk.solve(\"offdesign\", design_path=\"design-state\", init_path=init_path)\n",
    "            nwk.save(\"tmp\")\n",
    "            init_path = \"tmp\"\n",
    "        else:\n",
    "            nwk.solve(\"offdesign\", design_path=\"design-state\")  \n",
    "\n",
    "        results[temperature].loc[heat, \"COP\"] = abs(cd.Q.val) / cp.P.val\n",
    "        results[temperature].loc[heat, \"compressor-power\"] = cp.P.val\n",
    "        results[temperature].loc[heat, \"T-evaporation\"] = c2.T.val\n",
    "        results[temperature].loc[heat, \"T-condensation\"] = c4.T.val"
   ]
  },
  {
   "cell_type": "code",
   "execution_count": null,
   "metadata": {},
   "outputs": [],
   "source": [
    "results"
   ]
  },
  {
   "cell_type": "code",
   "execution_count": null,
   "metadata": {},
   "outputs": [],
   "source": [
    "from matplotlib import pyplot as plt\n",
    "\n",
    "\n",
    "power_max = 0\n",
    "COP_max = 0\n",
    "\n",
    "fig, ax = plt.subplots(2, sharex=True)\n",
    "\n",
    "for temp in temperature_range[::10]:\n",
    "\n",
    "    ax[0].plot(np.abs(results[temp].index), results[temp][\"compressor-power\"], label=\"$T_\\\\mathrm{amb}$=\" + str(temp) + \"°C\")\n",
    "    ax[1].plot(np.abs(results[temp].index), results[temp][\"COP\"])\n",
    "    COP_max = max(results[temp][\"COP\"].max(), COP_max)\n",
    "    power_max = max(results[temp][\"compressor-power\"].max(), power_max)\n",
    "\n",
    "ax[0].legend()\n",
    "ax[0].set_ylabel(\"$\\dot W_\\\\mathrm{cp}$ in W\")\n",
    "ax[0].set_ylim([0, power_max * 1.05])\n",
    "ax[1].set_ylabel(\"COP\")\n",
    "ax[1].set_ylim([0, COP_max + 1])\n",
    "ax[1].set_xlim([0, np.abs(heat_range).max() * 1.05])\n",
    "_ = ax[1].set_xlabel(\"Consumer heat demand in W\")"
   ]
  },
  {
   "cell_type": "code",
   "execution_count": null,
   "metadata": {},
   "outputs": [],
   "source": [
    "def least_squares(x, y):\n",
    "    A = np.vstack([x, np.ones(len(x))]).T\n",
    "    slope, offset = np.linalg.lstsq(A, y, rcond=None)[0]\n",
    "    return slope, offset"
   ]
  },
  {
   "cell_type": "code",
   "execution_count": null,
   "metadata": {},
   "outputs": [],
   "source": [
    "x = -results[T_ambient_design].index.values.astype(float)\n",
    "y = results[T_ambient_design][\"compressor-power\"].values.astype(float)\n",
    "yy_tespy = y"
   ]
  },
  {
   "cell_type": "code",
   "execution_count": null,
   "metadata": {},
   "outputs": [],
   "source": [
    "COP_c_simple = (\n",
    "    (results[T_ambient_design][\"T-condensation\"] + 273.15) /\n",
    "    (results[T_ambient_design][\"T-condensation\"] - results[T_ambient_design][\"T-evaporation\"])\n",
    ")\n",
    "eta_c_simple = 0.5945"
   ]
  },
  {
   "cell_type": "code",
   "execution_count": null,
   "metadata": {},
   "outputs": [],
   "source": [
    "fig, ax = plt.subplots(2, sharex=True)\n",
    "\n",
    "ax[0].plot(x, yy_tespy, label=\"TESPy (reference)\")\n",
    "\n",
    "slope, offset = least_squares(x, y)\n",
    "yy_offset = offset + slope * x\n",
    "ax[0].plot(x, yy_offset, label=\"Linear w Offset\")\n",
    "ax[0].plot(x, x / (COP_c_simple * eta_c_simple), label=\"COP simplified\")\n",
    "\n",
    "ax[1].plot(x, (yy_tespy - yy_tespy) / yy_tespy * 100)\n",
    "ax[1].plot(x, (yy_offset - yy_tespy) / yy_tespy * 100)\n",
    "ax[1].plot(x, (x / (COP_c_simple * eta_c_simple) - yy_tespy) / yy_tespy * 100)\n",
    "\n",
    "ax[0].legend()\n",
    "ax[0].set_ylabel(\"Compressor power in W\")\n",
    "ax[0].set_ylim([0, y.max() * 1.05])\n",
    "ax[1].set_ylabel(\"Relative deviation of power in %\")\n",
    "ax[1].set_xlim([0, x.max() * 1.05])\n",
    "_ = ax[1].set_xlabel(\"Consumer heat demand in W\")"
   ]
  },
  {
   "cell_type": "code",
   "execution_count": null,
   "metadata": {},
   "outputs": [],
   "source": [
    "fig, ax = plt.subplots(1)\n",
    "\n",
    "for temp in temperature_range[::10]:\n",
    "        \n",
    "    x = -results[temp].index.values.astype(float)\n",
    "    y = results[temp][\"compressor-power\"].values.astype(float)\n",
    "    slope, offset = least_squares(x, y)\n",
    "    p = ax.plot(x, slope * x + offset, label=\"$T_\\\\mathrm{amb}=$\" + str(temp) + \" °C\")  # get line information to extract color\n",
    "    ax.plot([0, x.min()], slope * np.array([0, x.min()]) + offset, \"--\", color=p[0].get_color())\n",
    "    power_max = max(results[temp][\"compressor-power\"].max(), power_max)\n",
    "\n",
    "ax.set_ylim([0, power_max * 1.05])\n",
    "ax.set_ylabel(\"Compressor power in W\")\n",
    "ax.set_xlim([0, x.max() * 1.05])\n",
    "ax.legend()\n",
    "_ = ax.set_xlabel(\"Consumer heat demand in W\")"
   ]
  },
  {
   "cell_type": "code",
   "execution_count": null,
   "metadata": {},
   "outputs": [],
   "source": [
    "export_df = pd.DataFrame(index=temperature_range, columns=[\"slope\", \"offset\"])\n",
    "\n",
    "for key, data in results.items():\n",
    "    y = -data.index.values.astype(float)\n",
    "    x = data[\"compressor-power\"].values.astype(float)\n",
    "    export_df.loc[key] = least_squares(x, y)\n",
    "\n",
    "export_df.to_csv(\"coefficients-offset-transformer.csv\")"
   ]
  }
 ],
 "metadata": {
  "interpreter": {
   "hash": "137cb3feb96291b75c5ffeed714863853e33a7f6fc63dbeffba961b793eac5a0"
  },
  "kernelspec": {
   "display_name": "Python 3.10.0 ('oemof-workshop-osmses2')",
   "language": "python",
   "name": "python3"
  },
  "language_info": {
   "codemirror_mode": {
    "name": "ipython",
    "version": 3
   },
   "file_extension": ".py",
   "mimetype": "text/x-python",
   "name": "python",
   "nbconvert_exporter": "python",
   "pygments_lexer": "ipython3",
   "version": "3.10.0"
  },
  "orig_nbformat": 4
 },
 "nbformat": 4,
 "nbformat_minor": 2
}
