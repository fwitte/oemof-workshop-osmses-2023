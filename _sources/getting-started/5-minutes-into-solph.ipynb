{
 "cells": [
  {
   "cell_type": "markdown",
   "metadata": {},
   "source": [
    "# 5 minutes into oemof-solph\n",
    "\n",
    "## General information\n",
    "\n",
    "[oemof.solph](https://oemof-solph.readthedocs.io/en/stable/readme.html) is a tool to facilitate the formulation of\n",
    "(mixed integer) linear problems for dispatch, unit commitment, and investmentment problems in sector-intregrated energy\n",
    "systems. It does so by compiling a comprehensive, graph-based description of the energy system into a linear program\n",
    "using [Pyomo](http://www.pyomo.org/) {cite}`hart2011`, {cite}`bynum2021`, that can than be solved using a linear\n",
    "optimiser of choice.\n",
    "\n",
    "The graph consists of three types of entities:\n",
    "- `Bus`es (Type of nodes that maintain energy balance)\n",
    "- `components` (Type of nodes that model technologies)\n",
    "- `Flow`s (directed edges with time-dependent power transport)"
   ]
  },
  {
   "cell_type": "markdown",
   "metadata": {},
   "source": [
    "- Mini Code example: Buses, Components (Converter, Source, Sink, but there are more), EnergySystem, Model"
   ]
  },
  {
   "cell_type": "code",
   "execution_count": 6,
   "metadata": {},
   "outputs": [],
   "source": [
    "import oemof.solph as solph\n",
    "\n",
    "heat_demand = [5, 2, 7, 8]\n",
    "\n",
    "es = solph.EnergySystem(timeindex=solph.create_time_index(2023, number=4), infer_last_interval=False)\n",
    "\n",
    "b_electricity = solph.Bus(label=\"electricity\")\n",
    "b_heat_35C = solph.Bus(label=\"heat 35C\")\n",
    "es.add(b_electricity, b_heat_35C)\n",
    "\n",
    "electricity_grid = solph.components.Source(\n",
    "    label=\"electricity grid\",\n",
    "    outputs={b_electricity: solph.Flow(variable_costs=0.4)},  # €/kWh\n",
    ")\n",
    "\n",
    "heat_demand = solph.components.Sink(\n",
    "    label=\"heat demand\",\n",
    "    inputs={b_heat_35C: solph.Flow(nominal_value=1, fix=heat_demand)},  # kW\n",
    ")\n",
    "es.add(electricity_grid, heat_demand)\n",
    "\n",
    "heating_rod = solph.components.Converter(\n",
    "    label=\"heating rod\",\n",
    "    inputs={b_electricity: solph.Flow()},\n",
    "    outputs={b_heat_35C: solph.Flow()},\n",
    ")\n",
    "\n",
    "es.add(heating_rod)\n",
    "\n",
    "model = solph.Model(energysystem=es)\n",
    "\n",
    "model.solve()\n"
   ]
  },
  {
   "cell_type": "code",
   "execution_count": 8,
   "metadata": {},
   "outputs": [
    {
     "data": {
      "image/png": "[encoded data removed]",
      "text/plain": [
       "<Figure size 640x480 with 1 Axes>"
      ]
     },
     "metadata": {},
     "output_type": "display_data"
    }
   ],
   "source": [
    "import matplotlib.pyplot as plt\n",
    "\n",
    "results = solph.processing.results(model)\n",
    "\n",
    "heat_supply = results[(b_heat_35C, heat_demand)][\"sequences\"][\"flow\"]\n",
    "\n",
    "plt.figure()\n",
    "plt.plot(heat_supply, \"r-\", label=\"heat supply\", drawstyle=\"steps-post\")\n",
    "\n",
    "plt.show()"
   ]
  }
 ],
 "metadata": {
  "interpreter": {
   "hash": "5d58ad09bc18dbf92091a0d8bfd798f14b7d8576287ef74bd7143d926b80fd25"
  },
  "kernelspec": {
   "display_name": "Python 3.10.0 ('oemof-workshop-osmses')",
   "language": "python",
   "name": "python3"
  },
  "language_info": {
   "codemirror_mode": {
    "name": "ipython",
    "version": 3
   },
   "file_extension": ".py",
   "mimetype": "text/x-python",
   "name": "python",
   "nbconvert_exporter": "python",
   "pygments_lexer": "ipython3",
   "version": "3.10.0"
  },
  "orig_nbformat": 4
 },
 "nbformat": 4,
 "nbformat_minor": 2
}
