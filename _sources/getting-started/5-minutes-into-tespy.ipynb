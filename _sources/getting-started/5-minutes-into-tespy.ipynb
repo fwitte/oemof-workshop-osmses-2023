{
 "cells": [
  {
   "cell_type": "markdown",
   "metadata": {},
   "source": [
    "# 5 minutes into TESPy\n",
    "\n",
    "## General information\n",
    "\n",
    "[TESPy](https://tespy.readthedocs.io) is an open-source framework for the simulation of component based thermodynamic\n",
    "conversion processes. With the software you can use predefined components such as a pump, compressor, heat exchanger,\n",
    "turbine or valve (and many more) to build thermodynamic systems. The system is set up by connecting the components in a\n",
    "generic way and then specifying respective process and component parameters.\n",
    "\n",
    "The software then performs a steady state simulation of your system by creating and solving a system of equations in the \n",
    "so-called *equation oriented (EO)* approach (see {cite}`Witte2022` for more information). The system represents the\n",
    "individual topology and component and process specifications provided by you. TESPy accomplishes this by solving for\n",
    "\n",
    "- mass flow,\n",
    "- pressure and\n",
    "- enthalpy\n",
    "\n",
    "of every connection between two components[^fluid-variable]. After solving a model, missing component and process\n",
    "parameters - for example: efficiencies, temperatures, pressure losses - are determined based on this information. The\n",
    "EO approach lets the modeler choose, which parameters are inputs and which parameters are results: For instance, a\n",
    "compressor efficiency can be an input and the system variables are solved to meet that constraint, or it can be a result\n",
    "of other inputs.\n",
    "\n",
    "## Mini example\n",
    "\n",
    "TESPy consists of three main building blocks:\n",
    "\n",
    "- class `Network` as container of the simulation\n",
    "- class `Component` (children of them: `Compressor`, `Valve`, ...), in which\n",
    "  thermodynamic conversion processes take place\n",
    "- class `Connection`, which define the topology of the `Network`\n",
    "  by connecting the individual components\n",
    "\n",
    "In this example, we will create two simple networks to show the principle of TESPy. For further tutorials and examples\n",
    "we recommend looking into the online documentation.\n",
    "\n",
    "### Modeling a Compressor\n",
    "\n",
    "First, we are modeling a compressor, which compresses fully saturated steam to a higher pressure level. The\n",
    "{numref}`compressor-flowsheet` shows the abstract representation of the component. The table below summarizes the\n",
    "process parameters we are going to apply in our example.\n",
    "\n",
    "```{figure} /figures/Compressor.svg\n",
    "---\n",
    "name: compressor-flowsheet\n",
    "---\n",
    "Compressor model.\n",
    "```\n",
    "\n",
    "(table_mini_example_compressor)=\n",
    "\n",
    "| parameter description   | model location | model parameter | value | unit |\n",
    "|:----------------------- |:-------------- |:--------------- | -----:|:---- |\n",
    "| saturated gas state     | in             | `x`             |   100 | %    |\n",
    "| temperature             |                | `T`             |    10 | °C   |\n",
    "| mass flow               |                | `m`             |   0.1 | kg/s |\n",
    "| efficiency              | compressor     | `eta_s`         |    80 | %    |\n",
    "| pressure ratio          |                | `pr`            |     3 | -    |"
   ]
  },
  {
   "cell_type": "code",
   "execution_count": null,
   "metadata": {},
   "outputs": [],
   "source": [
    "from tespy.networks import Network\n",
    "from tespy.components import Source, Sink, Compressor\n",
    "from tespy.connections import Connection\n",
    "\n",
    "\n",
    "nwk = Network(p_unit=\"bar\", T_unit=\"C\")\n",
    "\n",
    "so = Source(\"source\")\n",
    "cp = Compressor(\"compressor\")\n",
    "si = Sink(\"sink\")\n",
    "\n",
    "c1 = Connection(so, \"out1\", cp, \"in1\", label=\"1\")\n",
    "c2 = Connection(cp, \"out1\", si, \"in1\", label=\"2\")\n",
    "\n",
    "nwk.add_conns(c1, c2)"
   ]
  },
  {
   "cell_type": "markdown",
   "metadata": {},
   "source": [
    "To make a simulation it is now necessary to specify relevant component and process parameters. We start with the values\n",
    "as provided in {ref}`Table 1 <table_mini_example_compressor>`."
   ]
  },
  {
   "cell_type": "code",
   "execution_count": null,
   "metadata": {},
   "outputs": [],
   "source": [
    "c1.set_attr(fluid={\"R290\": 1}, T=10, x=1, m=0.1)\n",
    "\n",
    "cp.set_attr(eta_s=0.8, pr=3)\n",
    "\n",
    "nwk.solve(\"design\")"
   ]
  },
  {
   "cell_type": "markdown",
   "metadata": {},
   "source": [
    "We can have a look at the results. An overview is provided by the `print_results` method of the `Network`."
   ]
  },
  {
   "cell_type": "code",
   "execution_count": null,
   "metadata": {},
   "outputs": [],
   "source": [
    "nwk.print_results()"
   ]
  },
  {
   "cell_type": "markdown",
   "metadata": {},
   "source": [
    "Since TESPy is working with an equation oriented solver, we can now change things up. For example, instead of providing\n",
    "the efficiency of the compressor, we could provide an outlet temperature. Given that temperature, the efficiency of the\n",
    "compressor will be a result of the calculation.\n",
    "\n",
    "```{note}\n",
    "With the equation oriented structure the user is not constraint in the inputs. As long as the network is well\n",
    "determined, the solver be able to find a result. One downside of the equation oriented approach is that the a initial\n",
    "guess for all variables is required. Bad starting values often lead to the solver being unable to find a solution. For\n",
    "more information please have a look at the TESPy documentation. Here in detail information and best practices are\n",
    "provided for this topic.\n",
    "```"
   ]
  },
  {
   "cell_type": "code",
   "execution_count": null,
   "metadata": {},
   "outputs": [],
   "source": [
    "cp.set_attr(eta_s=None)  # unset the isentropic efficiency\n",
    "c2.set_attr(T=70)\n",
    "nwk.set_attr(iterinfo=False)\n",
    "nwk.solve(\"design\")\n",
    "nwk.print_results()"
   ]
  },
  {
   "cell_type": "markdown",
   "metadata": {},
   "source": [
    "For example, we can make an invalid parameter specification by setting the mass flow at the inlet and at the outlet of\n",
    "the compressor. This overdetermines the system of equations and will result in an error when trying to solve."
   ]
  },
  {
   "cell_type": "code",
   "execution_count": null,
   "metadata": {},
   "outputs": [],
   "source": [
    "c2.set_attr(T=None, m=0.1)\n",
    "nwk.solve(\"design\")"
   ]
  },
  {
   "cell_type": "markdown",
   "metadata": {},
   "source": [
    "### Modeling a Heat Exchanger\n",
    "\n",
    "In the second example we are going to model a heat exchanger as shown in {numref}`heat-exchanger-flowsheet`, specifically\n",
    "an evaporator using heat from ambient air to evaporate the working fluid R290 (Propane). The parameter we want to\n",
    "provide are listed in the table below.\n",
    "\n",
    "```{figure} /figures/HeatExchanger.svg\n",
    "---\n",
    "name: heat-exchanger-flowsheet\n",
    "---\n",
    "Evaporator model.\n",
    "```\n",
    "\n",
    "Similar to the compressor example we work with a `Network` instance, this time two fluids are required, i.e. air and\n",
    "R290. We create the `HeatExchanger` component and connect and parametrize it according to the flowsheet and the data\n",
    "listed in the table."
   ]
  },
  {
   "cell_type": "code",
   "execution_count": null,
   "metadata": {},
   "outputs": [],
   "source": [
    "from tespy.networks import Network\n",
    "from tespy.components import Source, Sink, HeatExchanger\n",
    "from tespy.connections import Connection\n",
    "from CoolProp.CoolProp import PropsSI as PSI\n",
    "\n",
    "\n",
    "nwk = Network(p_unit=\"bar\", T_unit=\"C\", iterinfo=False)\n",
    "\n",
    "so_wf = Source(\"working fluid source\")\n",
    "si_wf = Sink(\"working fluid sink\")\n",
    "so_air = Source(\"air source\")\n",
    "si_air = Sink(\"air sink\")\n",
    "eva = HeatExchanger(\"evaporator\")\n",
    "\n",
    "c1 = Connection(so_air, \"out1\", eva, \"in1\", label=\"1\")\n",
    "c2 = Connection(eva, \"out1\", si_air, \"in1\", label=\"2\")\n",
    "c3 = Connection(so_wf, \"out1\", eva, \"in2\", label=\"3\")\n",
    "c4 = Connection(eva, \"out2\", si_wf, \"in1\", label=\"4\")\n",
    "\n",
    "nwk.add_conns(c1, c2, c3, c4)\n",
    "\n",
    "c1.set_attr(fluid={\"Air\": 1}, T=7, p=1, m=1)\n",
    "c2.set_attr(T=4)\n",
    "c3.set_attr(fluid={\"R290\": 1}, T=0, x=0.25)\n",
    "# specification of a pressure guess value for convergence improvement\n",
    "c4.set_attr(x=1, p0=5)\n",
    "\n",
    "eva.set_attr(pr1=1, pr2=1)\n",
    "\n",
    "nwk.solve(\"design\")\n",
    "nwk.print_results()"
   ]
  },
  {
   "cell_type": "markdown",
   "metadata": {},
   "source": [
    "After running the simulation we can see the heat transferred from the air to the working fluid, both mass flows, or the\n",
    "temperature differences between the hot side (air) and the cold side (R290). Instead of providing a fixed temperature\n",
    "value for the evaporation temperature level, we can provide a temperature difference to the air temperature level. When\n",
    "the air temperature changes, adjusts the evaporation pressure/temperature of the working fluid automatically."
   ]
  },
  {
   "cell_type": "code",
   "execution_count": null,
   "metadata": {},
   "outputs": [],
   "source": [
    "eva.set_attr(ttd_l=5)\n",
    "c3.set_attr(T=None)\n",
    "nwk.solve(\"design\")\n",
    "c3.T.val"
   ]
  },
  {
   "cell_type": "code",
   "execution_count": null,
   "metadata": {},
   "outputs": [],
   "source": [
    "T_evaporation = []\n",
    "for T_air in [-5, 0, 5, 10]:\n",
    "    c1.set_attr(T=T_air)\n",
    "    c2.set_attr(T=T_air - 3)\n",
    "    nwk.solve(\"design\")\n",
    "    T_evaporation += [round(c3.T.val, 1)]\n",
    "\n",
    "T_evaporation"
   ]
  },
  {
   "cell_type": "markdown",
   "metadata": {},
   "source": [
    "## Learn more\n",
    "\n",
    "TESPy relies on CoolProp to provide fluid property data for a large range of different fluids {cite}`Bell2014`. The\n",
    "online documentation of TESPy provides a large variety of examples and tutorials to learn to use the software as well as\n",
    "extensive background information and code documentation:\n",
    "\n",
    "- online documentation [https://tespy.readthedocs.io](https://tespy.readthedocs.io)\n",
    "- github repository [https://github.com/oemof/tespy](https://github.com/oemof/tespy)\n",
    "- user forum [https://github.com/oemof/tespy/discussions](https://github.com/oemof/tespy/discussions)\n",
    "\n",
    "[^fluid-variable]: The fluid mass fractions of mixture components are system\n",
    "variables as well, but this is not relevant for this tutorial."
   ]
  }
 ],
 "metadata": {
  "interpreter": {
   "hash": "bd8d683b2b7a984c708b0e285fe12e85cc3979cad656f2247d8c1435c45a50dd"
  },
  "kernelspec": {
   "display_name": "Python 3.9.13 ('tespy_env')",
   "language": "python",
   "name": "python3"
  },
  "language_info": {
   "codemirror_mode": {
    "name": "ipython",
    "version": 3
   },
   "file_extension": ".py",
   "mimetype": "text/x-python",
   "name": "python",
   "nbconvert_exporter": "python",
   "pygments_lexer": "ipython3",
   "version": "3.11.6"
  },
  "orig_nbformat": 4
 },
 "nbformat": 4,
 "nbformat_minor": 2
}
