{
 "cells": [
  {
   "cell_type": "markdown",
   "metadata": {},
   "source": [
    "(solph-minimal-load)=\n",
    "\n",
    "# oemof-solph model with minimal load\n",
    "\n",
    "In this section we are looking into the introduction of minimal load in the `oemof-solph` model. Until now, we assumed\n",
    "the heat pump can deliver any amount of heat up to its nominal capacity. This assumption holds especially in large scale\n",
    "energy systems, where single plant instances do not affect the overall outcomes and part load operation blurs in the\n",
    "system, in small scale systems this might not be the case. Therefore, we have a look how a minimal load affects our\n",
    "model.\n",
    "\n",
    "We recreate the latest setup, where we combine the TESPy simulation outcome with the energy system. Then we add a heat\n",
    "pump which, if operated, must at least provide a heat load of 50 % of its nominal capacity.\n"
   ]
  },
  {
   "cell_type": "code",
   "execution_count": null,
   "metadata": {},
   "outputs": [],
   "source": [
    "from utilities import load_input_data, create_energy_system_stub\n",
    "input_data = load_input_data().head(24*3)\n",
    "\n",
    "es, bus_electricity, bus_heat_35C, thermal_storage, electricity_grid = create_energy_system_stub(input_data)\n",
    "\n",
    "from utilities import load_tespy_cop\n",
    "\n",
    "tespy_cop = load_tespy_cop()\n",
    "input_data[\"simple TESPy COP\"] = input_data[\"Ambient temperature (d°C)\"].map(tespy_cop[\"COP\"])"
   ]
  },
  {
   "cell_type": "markdown",
   "metadata": {},
   "source": [
    "The important modification we have to apply to our heat pump is constraining the heat production with a minimum value\n",
    "and using a `NonConvex` flow instead of a `Flow`, which introduces a binary variable. All other parts remain untouched."
   ]
  },
  {
   "cell_type": "code",
   "execution_count": null,
   "metadata": {},
   "outputs": [],
   "source": [
    "import oemof.solph as solph\n",
    "\n",
    "\n",
    "hp_thermal_power = 9.1  # kW\n",
    "cop = input_data[\"simple TESPy COP\"][:-1]\n",
    "\n",
    "heat_pump = solph.components.Transformer(\n",
    "    label=\"heat pump\",\n",
    "    inputs={bus_electricity: solph.Flow()},\n",
    "    outputs={\n",
    "        bus_heat_35C: solph.Flow(\n",
    "            nominal_value=hp_thermal_power,\n",
    "            nonconvex=solph.NonConvex(),\n",
    "            min=0.5,\n",
    "        )\n",
    "    },\n",
    "    conversion_factors={\n",
    "        bus_electricity: 1 / cop,\n",
    "        bus_heat_35C: 1,\n",
    "    },\n",
    ")\n",
    "\n",
    "es.add(heat_pump)"
   ]
  },
  {
   "cell_type": "markdown",
   "metadata": {},
   "source": [
    "We can again run our model and have a look at the results."
   ]
  },
  {
   "cell_type": "code",
   "execution_count": null,
   "metadata": {},
   "outputs": [],
   "source": [
    "\n",
    "model = solph.Model(energysystem=es)\n",
    "model.solve()\n",
    "results = solph.processing.results(model)"
   ]
  },
  {
   "cell_type": "code",
   "execution_count": null,
   "metadata": {},
   "outputs": [],
   "source": [
    "import numpy as np\n",
    "from matplotlib import pyplot as plt\n",
    "\n",
    "\n",
    "demand = input_data[\"Heat load (kW)\"][:-1]\n",
    "heat_supply = results[(heat_pump, bus_heat_35C)][\"sequences\"][\"flow\"]\n",
    "storage_content = results[(thermal_storage, None)][\"sequences\"][\"storage_content\"]\n",
    "\n",
    "plt.plot(np.sort(heat_supply)[::-1], \"r-\", label=\"heat supply\")\n",
    "plt.plot(np.sort(demand)[::-1], \"b--\", label=\"heat demand\")\n",
    "plt.ylabel(\"Power (kW)\")\n",
    "plt.grid()\n",
    "plt.legend()\n",
    "\n",
    "plt.figure()\n",
    "plt.plot(heat_supply, \"r-\", label=\"heat supply\", drawstyle=\"steps-post\")\n",
    "plt.plot(demand, \"b--\", label=\"heat demand\", drawstyle=\"steps-post\")\n",
    "plt.plot(storage_content, \"k-\", label=\"storage content\")\n",
    "plt.ylabel(\"Power (kW) or Energy (kWh)\")\n",
    "plt.grid()\n",
    "plt.legend()\n",
    "\n",
    "electricity_consumption = float(results[(electricity_grid, bus_electricity)][\"sequences\"].sum())\n",
    "print(f\"Electricity demand: {electricity_consumption:.1f} kWh\")\n"
   ]
  }
 ],
 "metadata": {
  "interpreter": {
   "hash": "bd8d683b2b7a984c708b0e285fe12e85cc3979cad656f2247d8c1435c45a50dd"
  },
  "kernelspec": {
   "display_name": "Python 3.9.13 ('tespy_env')",
   "language": "python",
   "name": "python3"
  },
  "language_info": {
   "codemirror_mode": {
    "name": "ipython",
    "version": 3
   },
   "file_extension": ".py",
   "mimetype": "text/x-python",
   "name": "python",
   "nbconvert_exporter": "python",
   "pygments_lexer": "ipython3",
   "version": "3.10.0"
  },
  "orig_nbformat": 4
 },
 "nbformat": 4,
 "nbformat_minor": 2
}
