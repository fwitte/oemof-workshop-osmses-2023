{
 "cells": [
  {
   "cell_type": "markdown",
   "metadata": {},
   "source": [
    "(tespy-partload-disection)=\n",
    "\n",
    "# Disection of the partload efficiency\n",
    "\n",
    "In this section we will provide some more insights on the part load modeling of the individual components of the heat\n",
    "pump. For this we are looking in the characteristics for\n",
    "\n",
    "- compressor efficiency,\n",
    "- evaporator heat transfer coefficient and\n",
    "- condenser heat transfer coefficient.\n",
    "\n",
    "We investigate the heat load influence at the design point ambient temperature for all cases as this has a stronger\n",
    "effect than the temperature dependency as show in the section on the\n",
    "{ref}`part load efficiency modeling <tespy-part-load>`.\n",
    "\n",
    "First, we can import the `partload_heat_pump` function from the provided python script and create a network.\n",
    "\n",
    "```{tip}\n",
    "The `partload_heat_pump` function imported in this section lies in a separate python document. You can download it:\n",
    "{download}`heat_pump_models.py </excursion/heat_pump_models.py>`.\n",
    "```"
   ]
  },
  {
   "cell_type": "code",
   "execution_count": null,
   "metadata": {},
   "outputs": [],
   "source": [
    "from heat_pump_models import partload_heat_pump\n",
    "from heat_pump_models import AMBIENT_TEMP_NOMINAL, HEAT_NOMINAL\n",
    "\n",
    "\n",
    "import pandas as pd\n",
    "import numpy as np\n",
    "from matplotlib import pyplot as plt\n",
    "\n",
    "\n",
    "nwk = partload_heat_pump(\"R290\")\n",
    "nwk.save(\"R290-design-state\")"
   ]
  },
  {
   "cell_type": "markdown",
   "metadata": {},
   "source": [
    "Next we create a design simulation as reference for all part load simulations."
   ]
  },
  {
   "cell_type": "code",
   "execution_count": null,
   "metadata": {},
   "outputs": [],
   "source": [
    "heat_range = np.linspace(0.5, 1.0, 11) * HEAT_NOMINAL\n",
    "results_heat = pd.DataFrame(\n",
    "    index=heat_range,\n",
    "    columns=[\"compressor-power\", \"pressure-ratio\", \"COP\"]\n",
    ")\n",
    "\n",
    "cd, cp, ev = nwk.get_comp([\"condenser\", \"compressor\", \"evaporator\"])\n",
    "c11, c12 = nwk.get_conn([\"11\", \"12\"])\n",
    "\n",
    "c11.set_attr(T=AMBIENT_TEMP_NOMINAL)\n",
    "\n",
    "for heat in heat_range[::-1]:\n",
    "    cd.set_attr(Q=heat)\n",
    "    nwk.solve(\"design\")\n",
    "\n",
    "    results_heat.loc[heat, \"compressor-power\"] = cp.P.val\n",
    "    results_heat.loc[heat, \"pressure-ratio\"] = cp.pr.val\n",
    "    results_heat.loc[heat, \"COP\"] = abs(cd.Q.val) / cp.P.val"
   ]
  },
  {
   "cell_type": "markdown",
   "metadata": {},
   "source": [
    "## Effect of compressor efficiency\n",
    "\n",
    "Now we can investigate the compressor efficiency effect on the part load operation. For that, we set up the part load\n",
    "modeling assumptions and test the implementation."
   ]
  },
  {
   "cell_type": "code",
   "execution_count": null,
   "metadata": {},
   "outputs": [],
   "source": [
    "cd.set_attr(Q=HEAT_NOMINAL)\n",
    "cp.set_attr(design=[\"eta_s\"], offdesign=[\"eta_s_char\"])\n",
    "cp.eta_s_char.char_func.extrapolate = True\n",
    "\n",
    "# check if the model runs\n",
    "nwk.solve(\"offdesign\", design_path=\"R290-design-state\")"
   ]
  },
  {
   "cell_type": "markdown",
   "metadata": {},
   "source": [
    "Then we can loop over the heat load range and calculate respective results."
   ]
  },
  {
   "cell_type": "code",
   "execution_count": null,
   "metadata": {},
   "outputs": [],
   "source": [
    "results_heat_partload = pd.DataFrame(\n",
    "    index=heat_range,\n",
    "    columns=[\"compressor-power\", \"pressure-ratio\", \"COP\"]\n",
    ")\n",
    "\n",
    "for heat in heat_range[::-1]:\n",
    "    cd.set_attr(Q=heat)\n",
    "    nwk.solve(\"offdesign\", design_path=\"R290-design-state\")\n",
    "\n",
    "    results_heat_partload.loc[heat, \"compressor-power\"] = cp.P.val\n",
    "    results_heat_partload.loc[heat, \"pressure-ratio\"] = cp.pr.val\n",
    "    results_heat_partload.loc[heat, \"COP\"] = abs(cd.Q.val) / cp.P.val"
   ]
  },
  {
   "cell_type": "markdown",
   "metadata": {},
   "source": [
    "Finally, we plot the results. We can see, that the pressure ratio does not depend on the compressor's efficiency. Still,\n",
    "the COP drops with decreased heat load. The reason for that is the lower part load efficiency of the compressor.\n",
    "\n",
    "```{glue:figure} heat-pump-influence-efficiency\n",
    ":name: \"heat-pump-influence-efficiency\"\n",
    "\n",
    "Influence of the compressor efficiency part load model with varying heat load.\n",
    "```"
   ]
  },
  {
   "cell_type": "code",
   "execution_count": null,
   "metadata": {},
   "outputs": [],
   "source": [
    "fig, ax = plt.subplots(3, sharex=True)\n",
    "\n",
    "ax[0].plot(np.abs(heat_range), results_heat[\"compressor-power\"], label=\"no partload\")\n",
    "ax[1].plot(np.abs(heat_range), results_heat[\"pressure-ratio\"])\n",
    "ax[2].plot(np.abs(heat_range), results_heat[\"COP\"])\n",
    "ax[0].plot(np.abs(heat_range), results_heat_partload[\"compressor-power\"], label=\"partload\")\n",
    "ax[1].plot(np.abs(heat_range), results_heat_partload[\"pressure-ratio\"])\n",
    "ax[2].plot(np.abs(heat_range), results_heat_partload[\"COP\"])\n",
    "\n",
    "ax[0].set_ylabel(\"$\\dot W_\\\\mathrm{cp}$ in W\")\n",
    "ax[1].set_ylabel(\"Pressure ratio\")\n",
    "ax[2].set_ylabel(\"COP\")\n",
    "\n",
    "ax[0].set_ylim([0, results_heat[\"compressor-power\"].max() * 1.05])\n",
    "ax[1].set_ylim([2, 4])\n",
    "ax[2].set_ylim([3, 6])\n",
    "ax[2].set_xlim([0, np.abs(heat_range).max() * 1.05])\n",
    "\n",
    "_ = ax[2].set_xlabel(\"Consumer heat demand in W\")\n",
    "\n",
    "plt.close()"
   ]
  },
  {
   "cell_type": "code",
   "execution_count": null,
   "metadata": {
    "tags": [
     "remove-cell"
    ]
   },
   "outputs": [],
   "source": [
    "from myst_nb import glue\n",
    "glue(\"heat-pump-influence-efficiency\", fig, display=False)"
   ]
  },
  {
   "cell_type": "markdown",
   "metadata": {},
   "source": [
    "## Effect of evaporator heat transfer coefficient\n",
    "\n",
    "Next, we have a look at the evaporator. We reset the heat demand to the nominal demand, unset the compressor efficiency\n",
    "characteristic to make it use the constant design efficiency and apply the characteristic for the heat transfer\n",
    "coefficient of the evaporator. Then we loop over the heat range again and plot the results."
   ]
  },
  {
   "cell_type": "code",
   "execution_count": null,
   "metadata": {},
   "outputs": [],
   "source": [
    "cd.set_attr(Q=HEAT_NOMINAL)\n",
    "cp.set_attr(design=[], offdesign=[], eta_s=cp.eta_s.design, eta_s_char=None)\n",
    "ev.set_attr(design=[\"ttd_u\"], offdesign=[\"kA_char\"])\n",
    "\n",
    "# check if the model runs\n",
    "nwk.solve(\"offdesign\", design_path=\"R290-design-state\")"
   ]
  },
  {
   "cell_type": "code",
   "execution_count": null,
   "metadata": {},
   "outputs": [],
   "source": [
    "results_heat_partload = pd.DataFrame(\n",
    "    index=heat_range,\n",
    "    columns=[\"compressor-power\", \"pressure-ratio\", \"COP\"]\n",
    ")\n",
    "\n",
    "for heat in heat_range[::-1]:\n",
    "    cd.set_attr(Q=heat)\n",
    "    nwk.solve(\"offdesign\", design_path=\"R290-design-state\")\n",
    "\n",
    "    results_heat_partload.loc[heat, \"compressor-power\"] = cp.P.val\n",
    "    results_heat_partload.loc[heat, \"pressure-ratio\"] = cp.pr.val\n",
    "    results_heat_partload.loc[heat, \"COP\"] = abs(cd.Q.val) / cp.P.val"
   ]
  },
  {
   "cell_type": "markdown",
   "metadata": {},
   "source": [
    "In the plot we can see, that the increases at decreasing heat load. The reason for that lies in the reduced pressure\n",
    "ratio, which means that the compressor has to provide less power for compressing the same mass flow. The reduced \n",
    "pressure ratio is finally a result of the heat transfer at the evaporator: If less heat is transferred on the evaporator\n",
    "while the heat transfer coefficient remains more or less unchanged, the available surface for heat transfer allows for\n",
    "lower temperature difference. Since the ambient temperature level is fixed, the evaporation temperature rises compared\n",
    "to the design case reducing the pressure ratio inside the main cycle of the heat pump.\n",
    "\n",
    "```{glue:figure} heat-pump-influence-evaporator\n",
    ":name: \"heat-pump-influence-evaporator\"\n",
    "\n",
    "Influence of the evaporator heat transfer coefficient part load model with varying heat load.\n",
    "```"
   ]
  },
  {
   "cell_type": "code",
   "execution_count": null,
   "metadata": {},
   "outputs": [],
   "source": [
    "fig, ax = plt.subplots(3, sharex=True)\n",
    "\n",
    "ax[0].plot(np.abs(heat_range), results_heat[\"compressor-power\"], label=\"no partload\")\n",
    "ax[1].plot(np.abs(heat_range), results_heat[\"pressure-ratio\"])\n",
    "ax[2].plot(np.abs(heat_range), results_heat[\"COP\"])\n",
    "\n",
    "ax[0].plot(np.abs(heat_range), results_heat_partload[\"compressor-power\"], label=\"partload\")\n",
    "ax[1].plot(np.abs(heat_range), results_heat_partload[\"pressure-ratio\"])\n",
    "ax[2].plot(np.abs(heat_range), results_heat_partload[\"COP\"])\n",
    "\n",
    "ax[0].set_ylabel(\"$\\dot W_\\\\mathrm{cp}$ in W\")\n",
    "ax[1].set_ylabel(\"Pressure ratio\")\n",
    "ax[2].set_ylabel(\"COP\")\n",
    "\n",
    "ax[0].set_ylim([0, results_heat[\"compressor-power\"].max() * 1.05])\n",
    "ax[1].set_ylim([2, 4])\n",
    "ax[2].set_ylim([3, 6])\n",
    "ax[2].set_xlim([0, np.abs(heat_range).max() * 1.05])\n",
    "\n",
    "_ = ax[2].set_xlabel(\"Consumer heat demand in W\")\n",
    "\n",
    "plt.close()"
   ]
  },
  {
   "cell_type": "code",
   "execution_count": null,
   "metadata": {
    "tags": [
     "remove-cell"
    ]
   },
   "outputs": [],
   "source": [
    "glue(\"heat-pump-influence-evaporator\", fig, display=False)"
   ]
  },
  {
   "cell_type": "markdown",
   "metadata": {},
   "source": [
    "## Effect of condenser heat transfer coefficient\n",
    "\n",
    "Last we investigate the effect of the heat transfer coefficient of the condenser with the analogous setup as for the\n",
    "evaporator."
   ]
  },
  {
   "cell_type": "code",
   "execution_count": null,
   "metadata": {},
   "outputs": [],
   "source": [
    "cd.set_attr(Q=HEAT_NOMINAL)\n",
    "ev.set_attr(design=[], offdesign=[], ttd_l=ev.ttd_l.design, kA_char=None)\n",
    "cd.set_attr(design=[\"ttd_u\"], offdesign=[\"kA_char\"])\n",
    "\n",
    "# check if the model runs\n",
    "nwk.solve(\"offdesign\", design_path=\"R290-design-state\")"
   ]
  },
  {
   "cell_type": "code",
   "execution_count": null,
   "metadata": {},
   "outputs": [],
   "source": [
    "results_heat_partload = pd.DataFrame(\n",
    "    index=heat_range,\n",
    "    columns=[\"compressor-power\", \"pressure-ratio\", \"COP\"]\n",
    ")\n",
    "\n",
    "for heat in heat_range[::-1]:\n",
    "    cd.set_attr(Q=heat)\n",
    "    nwk.solve(\"offdesign\", design_path=\"R290-design-state\")\n",
    "\n",
    "    results_heat_partload.loc[heat, \"compressor-power\"] = cp.P.val\n",
    "    results_heat_partload.loc[heat, \"pressure-ratio\"] = cp.pr.val\n",
    "    results_heat_partload.loc[heat, \"COP\"] = abs(cd.Q.val) / cp.P.val"
   ]
  },
  {
   "cell_type": "markdown",
   "metadata": {},
   "source": [
    "In the plot we can see an even stronger relationship between the decrease of heat load and the decrease of pressure \n",
    "ratio, therefore the increase in COP. The effect is the same as we have observed in the evaporator.\n",
    "\n",
    "```{glue:figure} heat-pump-influence-condenser\n",
    ":name: \"heat-pump-influence-condenser\"\n",
    "\n",
    "Influence of the condenser heat transfer coefficient part load model with varying heat load.\n",
    "```"
   ]
  },
  {
   "cell_type": "code",
   "execution_count": null,
   "metadata": {},
   "outputs": [],
   "source": [
    "fig, ax = plt.subplots(3, sharex=True)\n",
    "\n",
    "ax[0].plot(np.abs(heat_range), results_heat[\"compressor-power\"], label=\"no partload\")\n",
    "ax[1].plot(np.abs(heat_range), results_heat[\"pressure-ratio\"])\n",
    "ax[2].plot(np.abs(heat_range), results_heat[\"COP\"])\n",
    "ax[0].plot(np.abs(heat_range), results_heat_partload[\"compressor-power\"], label=\"partload\")\n",
    "ax[1].plot(np.abs(heat_range), results_heat_partload[\"pressure-ratio\"])\n",
    "ax[2].plot(np.abs(heat_range), results_heat_partload[\"COP\"])\n",
    "\n",
    "ax[0].set_ylabel(\"$\\dot W_\\\\mathrm{cp}$ in W\")\n",
    "ax[1].set_ylabel(\"Pressure ratio\")\n",
    "ax[2].set_ylabel(\"COP\")\n",
    "\n",
    "ax[0].set_ylim([0, results_heat[\"compressor-power\"].max() * 1.05])\n",
    "ax[1].set_ylim([2, 4])\n",
    "ax[2].set_ylim([3, 6])\n",
    "ax[2].set_xlim([0, np.abs(heat_range).max() * 1.05])\n",
    "\n",
    "_ = ax[2].set_xlabel(\"Consumer heat demand in W\")\n",
    "\n",
    "plt.close()"
   ]
  },
  {
   "cell_type": "code",
   "execution_count": null,
   "metadata": {
    "tags": [
     "remove-cell"
    ]
   },
   "outputs": [],
   "source": [
    "glue(\"heat-pump-influence-condenser\", fig, display=False)"
   ]
  }
 ],
 "metadata": {
  "interpreter": {
   "hash": "bd8d683b2b7a984c708b0e285fe12e85cc3979cad656f2247d8c1435c45a50dd"
  },
  "kernelspec": {
   "display_name": "Python 3.9.13 ('tespy_env')",
   "language": "python",
   "name": "python3"
  },
  "language_info": {
   "codemirror_mode": {
    "name": "ipython",
    "version": 3
   },
   "file_extension": ".py",
   "mimetype": "text/x-python",
   "name": "python",
   "nbconvert_exporter": "python",
   "pygments_lexer": "ipython3",
   "version": "3.9.13"
  },
  "orig_nbformat": 4
 },
 "nbformat": 4,
 "nbformat_minor": 2
}
