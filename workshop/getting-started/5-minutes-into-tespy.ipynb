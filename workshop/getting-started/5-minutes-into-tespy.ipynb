{
 "cells": [
  {
   "cell_type": "markdown",
   "metadata": {},
   "source": [
    "# 5 minutes into TESPy\n",
    "\n",
    "## General information\n",
    "\n",
    "[TESPy](https://tespy.readthedocs.io) is an open-source framework for the\n",
    "simulation of component based thermodynamic conversion processes. With the\n",
    "software you can used predefined components such as a pump, compressor, heat\n",
    "exhcanger, turbine or valve (and many more) to build thermodynamic systems. The\n",
    "system is set up by connecting the components in a generic way and then\n",
    "specifying respective process and component parameters.\n",
    "\n",
    "The software then performs a steady state simulation of your system by creating\n",
    "and solving a system of equations in the so called *equation oriented (EO)*\n",
    "approach (see {cite}`Witte2022` for more information). The system represents the\n",
    "individual topology and compoent and process specifications provided by you.\n",
    "TESPy accomplishes this by solving for\n",
    "\n",
    "- mass flow,\n",
    "- pressure and\n",
    "- enthalpy\n",
    "\n",
    "of every connections between two components[^fluid-variable]. After solving a\n",
    "model, missing component and process parameters - for example: efficiencies,\n",
    "temperatures, pressure losses - are determined based on these information. The\n",
    "EO approach lets the modeler choose, which parameters are inputs and which\n",
    "parameters are results: For instance, a compressor efficiency can be an input\n",
    "and the system variables are solved to meet that constraint, or it can be a\n",
    "result of other inputs.\n",
    "\n",
    "## Mini example\n",
    "\n",
    "TESPy consists of three main building blocks:\n",
    "\n",
    "- class `Network` as container of the simulation\n",
    "- class `Component` (children of them: `Compressor`, `Valve`, ...), in which\n",
    "  thermodynamic conversion processes take place\n",
    "- class `Connection`, which define the topology of the `Network`\n",
    "  by connecting the individual components\n",
    "\n",
    "In this example, we will create two simple networks to show the principle of\n",
    "TESPy. For further tutorials and examples we recommend looking into the online\n",
    "documentation.\n",
    "\n",
    "### Modeling a Compressor\n",
    "\n",
    "- figure\n",
    "- parameter overview"
   ]
  },
  {
   "cell_type": "code",
   "execution_count": null,
   "metadata": {},
   "outputs": [],
   "source": [
    "from tespy.networks import Network\n",
    "from tespy.components import Source, Sink, Compressor\n",
    "from tespy.connections import Connection\n",
    "\n"
   ]
  },
  {
   "cell_type": "markdown",
   "metadata": {},
   "source": [
    "### Modeling a Heat Exchanger\n",
    "\n",
    "- figure\n",
    "- parameter overview"
   ]
  },
  {
   "cell_type": "code",
   "execution_count": null,
   "metadata": {},
   "outputs": [],
   "source": [
    "from tespy.networks import Network\n",
    "from tespy.components import Source, Sink, HeatExchanger\n",
    "from tespy.connections import Connection\n",
    "\n"
   ]
  },
  {
   "cell_type": "markdown",
   "metadata": {},
   "source": [
    "## Learn more\n",
    "\n",
    "In contrast to energy system optimization models working with linear or mixed\n",
    "integer programming, TESPy solves a linear system of (partially) highly\n",
    "non-linear equations with a custom, inbuilt solver. TESPy relies on CoolProp to\n",
    "provide fluid property data for a large range of different fluids\n",
    "{cite}`Bell2014`. The online documentation of TESPy provides a large variety of\n",
    "examples and tutorials to learn using the software as well as extensive\n",
    "background information and code documentation:\n",
    "\n",
    "- online documentation [https://tespy.readthedocs.io](https://tespy.readthedocs.io)\n",
    "- github repository [https://github.com/oemof/tespy](https://github.com/oemof/tespy)\n",
    "- user forum [https://github.com/oemof/tespy/discussions](https://github.com/oemof/tespy/discussions)\n",
    "\n",
    "[^fluid-variable]: The fluid mass fractions of mixture components are system\n",
    "variables as well, but this is not relevant for this tutorial.\n"
   ]
  }
 ],
 "metadata": {
  "language_info": {
   "name": "python"
  },
  "orig_nbformat": 4
 },
 "nbformat": 4,
 "nbformat_minor": 2
}
