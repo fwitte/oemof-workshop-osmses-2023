{
 "cells": [
  {
   "cell_type": "markdown",
   "metadata": {},
   "source": [
    "# solph heat pump with minimal load\n",
    "\n",
    "This is a transition section to get people from the other chapter and bring them to part load modeling\n",
    "\n",
    "- partload in general:\n",
    "  - difficulties in finding part load efficiency data\n",
    "  - BUT: we can model it in solph, and here is how\n",
    "\n",
    "Therefore \n",
    "\n",
    "- use simplified version of the TESPy model as input data\n",
    "- show how to model part load in solph\n",
    "  - constant efficiency, no offset\n",
    "  - prepare transfer to offset transformer\n",
    "- we can compare the results between the partload model and the full linear model\n",
    "\n",
    "However\n",
    "\n",
    "- We know how to have minimal load in solph, but what about partload COP?\n",
    "  - tespy section with partload performance\n"
   ]
  }
 ],
 "metadata": {
  "interpreter": {
   "hash": "bd8d683b2b7a984c708b0e285fe12e85cc3979cad656f2247d8c1435c45a50dd"
  },
  "kernelspec": {
   "display_name": "Python 3.9.13 ('tespy_env')",
   "language": "python",
   "name": "python3"
  },
  "language_info": {
   "codemirror_mode": {
    "name": "ipython",
    "version": 3
   },
   "file_extension": ".py",
   "mimetype": "text/x-python",
   "name": "python",
   "nbconvert_exporter": "python",
   "pygments_lexer": "ipython3",
   "version": "3.9.13"
  },
  "orig_nbformat": 4
 },
 "nbformat": 4,
 "nbformat_minor": 2
}
