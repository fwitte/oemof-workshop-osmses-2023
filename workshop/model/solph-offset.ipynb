{
 "cells": [
  {
   "cell_type": "markdown",
   "metadata": {},
   "source": [
    "(solph-offset)=\n",
    "\n",
    "# oemof-solph model with variable partload efficiency\n",
    "\n",
    "The final modification in our energy system model is to implement the load dependent variable COP. To do that we can\n",
    "use the `OffsetConverter`. This component requires different input compared to our previous implementations. Instead of\n",
    "a conversion factor connecting input with output as shown in eq. {eq}`simple-conversion`, we define a slope {math}`m`\n",
    "and a  normed offset {math}`E_0`. By setting the reference to the heat output of the heat pump, the compressor power\n",
    "can be determined from the slope and the offset following eq. {eq}`slope-offset-conversion`.\n",
    "This also changes the overall efficiency value in an interesting way per eq. {eq}`offset-efficiency`: We have nonlinear\n",
    "efficiency in a linear model. We can visualize the effect in {numref}`heatpump-offset-converter`. For that we load the\n",
    "TESPy results and plot the compressor power and COP over the heat production.\n",
    "\n",
    "```{math}\n",
    ":label: simple-conversion\n",
    "\\dot E_\\text{in} = \\frac{1}{\\text{COP}} \\cdot \\dot E_\\text{out}\n",
    "```\n",
    "\n",
    "```{math}\n",
    ":label: slope-offset-conversion\n",
    "\\dot E_\\text{in} = E_0 \\cdot \\dot E_\\text{out,nominal} + m \\cdot \\dot E_\\text{out}\n",
    "```\n",
    "\n",
    "```{math}\n",
    ":label: offset-efficiency\n",
    "\\text{COP} = \\frac{\\dot E_\\text{out}}{E_0 \\cdot \\dot E_\\text{out,nominal} + m \\cdot \\dot E_\\text{out}}\n",
    "```\n",
    "\n",
    "```{glue:figure} heatpump-offset-converter\n",
    ":name: \"heatpump-offset-converter\"\n",
    "\n",
    "Compressor power and COP as function of the heat pump heat production at 7 °C.\n",
    "```"
   ]
  },
  {
   "cell_type": "code",
   "execution_count": null,
   "metadata": {},
   "outputs": [],
   "source": [
    "from utilities import load_tespy_coefficients, load_input_data\n",
    "from matplotlib import pyplot as plt\n",
    "import numpy as np\n",
    "\n",
    "\n",
    "input_data = load_input_data().head(24*2)\n",
    "tespy_coefficients = load_tespy_coefficients()\n",
    "\n",
    "example = tespy_coefficients.loc[7]\n",
    "\n",
    "heat_nominal = 9.1e3\n",
    "heat_production_range = np.linspace(0.5, 1) * heat_nominal\n",
    "compressor_power = example.loc[\"offset\"] * heat_nominal + example.loc[\"slope\"] * heat_production_range\n",
    "cop = heat_production_range / compressor_power\n",
    "\n",
    "fig, ax = plt.subplots(2, sharex=True)\n",
    "\n",
    "ax[0].plot(heat_production_range, compressor_power)\n",
    "ax[0].set_ylim([0, compressor_power.max() * 1.05])\n",
    "ax[0].set_ylabel(\"Compressor power in W\")\n",
    "\n",
    "ax[1].plot(heat_production_range, cop)\n",
    "ax[1].set_ylim([0, cop.max() * 1.05])\n",
    "ax[1].set_ylabel(\"COP\")\n",
    "\n",
    "ax[1].set_xlabel(\"Heat production in W\")\n",
    "ax[1].set_xlim([0, heat_production_range.max() * 1.05])\n",
    "\n",
    "plt.close()"
   ]
  },
  {
   "cell_type": "code",
   "execution_count": null,
   "metadata": {
    "tags": [
     "remove-cell"
    ]
   },
   "outputs": [],
   "source": [
    "from myst_nb import glue\n",
    "glue(\"heatpump-offset-converter\", fig, display=False)"
   ]
  },
  {
   "cell_type": "markdown",
   "metadata": {},
   "source": [
    "We can transform the input data from the TESPy model by mapping them onto the ambient temperatures similarly as we had\n",
    "done this for the linear model."
   ]
  },
  {
   "cell_type": "code",
   "execution_count": null,
   "metadata": {},
   "outputs": [],
   "source": [
    "input_data[\"slope\"] = input_data[\"Ambient temperature (d°C)\"].map(tespy_coefficients[\"slope\"])\n",
    "input_data[\"offset\"] = input_data[\"Ambient temperature (d°C)\"].map(tespy_coefficients[\"offset\"])"
   ]
  },
  {
   "cell_type": "markdown",
   "metadata": {},
   "source": [
    "Then we load the energy system and add the heat pump with the necessary changes:"
   ]
  },
  {
   "cell_type": "code",
   "execution_count": null,
   "metadata": {},
   "outputs": [],
   "source": [
    "from utilities import create_energy_system_stub\n",
    "\n",
    "es, bus_electricity, bus_heat_35C = create_energy_system_stub(input_data)"
   ]
  },
  {
   "cell_type": "markdown",
   "metadata": {},
   "source": [
    "With respect to the previous version {ref}`using minimal load <solph-minimal-load>`), the `Converter` is replaced by an\n",
    "`OffsetConverter`."
   ]
  },
  {
   "cell_type": "code",
   "execution_count": null,
   "metadata": {},
   "outputs": [],
   "source": [
    "import oemof.solph as solph\n",
    "\n",
    "hp_thermal_power = heat_nominal / 1e3  # kW\n",
    "\n",
    "slope = input_data[\"slope\"][:-1]\n",
    "offset = input_data[\"offset\"][:-1]\n",
    "demand = input_data[\"Heat load (kW)\"][:-1]\n",
    "\n",
    "\n",
    "heat_pump = solph.components.OffsetConverter(\n",
    "        label=f\"heat pump\",\n",
    "        inputs={bus_electricity: solph.Flow()},\n",
    "        outputs={\n",
    "            bus_heat_35C: solph.Flow(\n",
    "                nominal_value=hp_thermal_power,\n",
    "                nonconvex=solph.NonConvex(),\n",
    "                min=0.5,\n",
    "            )\n",
    "        },\n",
    "        conversion_factors={bus_electricity: slope},\n",
    "        normed_offsets={bus_electricity: offset}\n",
    ")\n",
    "\n",
    "es.add(heat_pump)"
   ]
  },
  {
   "cell_type": "markdown",
   "metadata": {},
   "source": [
    "We can solve our model and have a look at the results."
   ]
  },
  {
   "cell_type": "code",
   "execution_count": null,
   "metadata": {},
   "outputs": [],
   "source": [
    "model = solph.Model(energysystem=es)\n",
    "model.solve()\n",
    "results = solph.processing.results(model)"
   ]
  },
  {
   "cell_type": "markdown",
   "metadata": {},
   "source": [
    "In our final example {numref}`results-solph-offset` shows that the heat pump is mostly operated at full load. This is\n",
    "because the COP of the heat pump in largest in that point (see {numref}`heatpump-offset-converter`). The storage\n",
    "losses are higher overall as the filling level is higher as well. However, the increased storage losses are lower than\n",
    "those induced by decrease of the heat pump's COP in part load. The overall electricity consumption consequently\n",
    "increases from {glue}`solph-minimal-load.ipynb::results-electricity-minload` kWh to {glue}`results-electricity-offset`\n",
    "kWh.\n",
    "\n",
    "```{glue:figure} results-solph-offset\n",
    ":name: \"results-solph-offset\"\n",
    "\n",
    "Operation of the heat pump modeled as OffsetConverter.\n",
    "```"
   ]
  },
  {
   "cell_type": "code",
   "execution_count": null,
   "metadata": {},
   "outputs": [],
   "source": [
    "from utilities import sumarise_solph_results\n",
    "\n",
    "fig, electricity_total = sumarise_solph_results(results)\n",
    "plt.close()"
   ]
  },
  {
   "cell_type": "code",
   "execution_count": null,
   "metadata": {
    "tags": [
     "remove-cell"
    ]
   },
   "outputs": [],
   "source": [
    "glue(\"results-solph-offset\", fig, display=False)\n",
    "glue(\"results-electricity-offset\", round(electricity_total, 2), display=False)"
   ]
  }
 ],
 "metadata": {
  "interpreter": {
   "hash": "bd8d683b2b7a984c708b0e285fe12e85cc3979cad656f2247d8c1435c45a50dd"
  },
  "kernelspec": {
   "display_name": "Python 3.9.13 ('tespy_env')",
   "language": "python",
   "name": "python3"
  },
  "language_info": {
   "codemirror_mode": {
    "name": "ipython",
    "version": 3
   },
   "file_extension": ".py",
   "mimetype": "text/x-python",
   "name": "python",
   "nbconvert_exporter": "python",
   "pygments_lexer": "ipython3",
   "version": "3.10.0"
  },
  "orig_nbformat": 4
 },
 "nbformat": 4,
 "nbformat_minor": 2
}
