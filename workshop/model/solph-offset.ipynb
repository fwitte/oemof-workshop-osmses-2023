{
 "cells": [
  {
   "cell_type": "markdown",
   "metadata": {},
   "source": [
    "(solph-offset)=\n",
    "\n",
    "# oemof-solph model with variable partload efficiency\n",
    "\n",
    "The final modification in our energy system model is to implement the load dependent variable COP. To do that we can use\n",
    "the `OffsetTransformer`. This component requires different input compared to our previous implementations. Instead of\n",
    "a conversion factor connecting input with output as shown in eq. {eq}`simple-conversion`, we define a slope and an \n",
    "offset (eq. {eq}`slope-offset-conversion`). This also changes the overall efficiency value in an interesting way per eq.\n",
    "{eq}`offset-efficiency`: We have nonlinear efficiency in a linear model. We can visualize the effect in\n",
    "{numref}`heatpump-offset-transformer`. For that we load the TESPy results and plot the compressor power and COP over the\n",
    "heat production.\n",
    "\n",
    "```{math}\n",
    ":label: simple-conversion\n",
    "E_\\text{out} = \\eta \\cdot E_\\text{in}\n",
    "```\n",
    "\n",
    "```{math}\n",
    ":label: slope-offset-conversion\n",
    "E_\\text{out} = E_0 + m \\cdot \\cdot E_\\text{in}\n",
    "```\n",
    "\n",
    "```{math}\n",
    ":label: offset-efficiency\n",
    "\\eta = \\frac{E_\\text{out}}{E_0 + m \\cdot \\cdot E_\\text{in}}\n",
    "```\n",
    "\n",
    "```{glue:figure} heatpump-offset-transformer\n",
    ":name: \"heatpump-offset-transformer\"\n",
    "\n",
    "Compressor power and COP as function of the heat pump heat production at 7 °C.\n",
    "```"
   ]
  },
  {
   "cell_type": "code",
   "execution_count": null,
   "metadata": {},
   "outputs": [],
   "source": [
    "from utilities import load_tespy_coefficients, load_input_data\n",
    "from matplotlib import pyplot as plt\n",
    "import numpy as np\n",
    "\n",
    "\n",
    "input_data = load_input_data().head(24*2).tail(24)\n",
    "tespy_coefficients = load_tespy_coefficients()\n",
    "\n",
    "example = tespy_coefficients.loc[7]\n",
    "\n",
    "heat_production_range = np.linspace(0.5, 1) * 9.1e3\n",
    "compressor_power = (heat_production_range - example.loc[\"offset\"]) / example.loc[\"slope\"]\n",
    "cop = heat_production_range / compressor_power\n",
    "\n",
    "\n",
    "fig, ax = plt.subplots(2, sharex=True)\n",
    "\n",
    "ax[0].plot(heat_production_range, compressor_power)\n",
    "ax[0].set_ylim([0, compressor_power.max() * 1.05])\n",
    "ax[0].set_ylabel(\"Compressor power in W\")\n",
    "\n",
    "ax[1].plot(heat_production_range, cop)\n",
    "ax[1].set_ylim([0, cop.max() * 1.05])\n",
    "ax[1].set_ylabel(\"COP\")\n",
    "\n",
    "ax[1].set_xlabel(\"Heat production in W\")\n",
    "ax[1].set_xlim([0, heat_production_range.max() * 1.05])\n",
    "\n",
    "plt.close()"
   ]
  },
  {
   "cell_type": "code",
   "execution_count": null,
   "metadata": {},
   "outputs": [],
   "source": [
    "from myst_nb import glue\n",
    "glue(\"heatpump-offset-transformer\", fig, display=False)"
   ]
  },
  {
   "cell_type": "markdown",
   "metadata": {},
   "source": [
    "We can transform the input data from the TESPy model by mapping them onto the ambient temperatures in a similar way as\n",
    "we had done this for the linear model."
   ]
  },
  {
   "cell_type": "code",
   "execution_count": null,
   "metadata": {},
   "outputs": [],
   "source": [
    "input_data[\"slope\"] = input_data[\"Ambient temperature (d°C)\"].map(tespy_coefficients[\"slope\"])\n",
    "input_data[\"offset\"] = input_data[\"Ambient temperature (d°C)\"].map(tespy_coefficients[\"offset\"])"
   ]
  },
  {
   "cell_type": "markdown",
   "metadata": {},
   "source": [
    "Then we load the energy system and add the heat pump with the necessary changes:"
   ]
  },
  {
   "cell_type": "code",
   "execution_count": null,
   "metadata": {},
   "outputs": [],
   "source": [
    "from utilities import create_energy_system_stub\n",
    "\n",
    "es, bus_electricity, bus_heat_35C, thermal_storage, electricity_grid = create_energy_system_stub(input_data)"
   ]
  },
  {
   "cell_type": "markdown",
   "metadata": {},
   "source": [
    "With respect to the previous version (solph-minimal-load), a the Transformer is replaced by an OffsetTransformer."
   ]
  },
  {
   "cell_type": "code",
   "execution_count": null,
   "metadata": {},
   "outputs": [],
   "source": [
    "import oemof.solph as solph\n",
    "\n",
    "hp_thermal_power = 9.1  # kW\n",
    "\n",
    "slope = input_data[\"slope\"][:-1]\n",
    "offset = input_data[\"offset\"][:-1]/1e3\n",
    "demand = input_data[\"Heat load (kW)\"][:-1]\n",
    "\n",
    "\n",
    "heat_pump = solph.components.OffsetTransformer(\n",
    "        label=f\"heat pump\",\n",
    "        inputs={bus_electricity: solph.Flow(\n",
    "            nominal_value=5,\n",
    "            min=0.0,\n",
    "            nonconvex=solph.NonConvex(),\n",
    "        )},\n",
    "        outputs={bus_heat_35C: solph.Flow(\n",
    "            nominal_value=hp_thermal_power,\n",
    "            nonconvex=solph.NonConvex(),\n",
    "            min=0.5,\n",
    "        )},\n",
    "        coefficients=[offset, slope]\n",
    ")\n",
    "\n",
    "es.add(heat_pump)"
   ]
  },
  {
   "cell_type": "markdown",
   "metadata": {},
   "source": [
    "We can solve our model and have a look at the results."
   ]
  },
  {
   "cell_type": "code",
   "execution_count": null,
   "metadata": {},
   "outputs": [],
   "source": [
    "model = solph.Model(energysystem=es)\n",
    "model.solve()\n",
    "results = solph.processing.results(model)"
   ]
  },
  {
   "cell_type": "code",
   "execution_count": null,
   "metadata": {},
   "outputs": [],
   "source": [
    "heat_supply = results[(heat_pump, bus_heat_35C)][\"sequences\"][\"flow\"]\n",
    "storage_content = results[(thermal_storage, None)][\"sequences\"][\"storage_content\"]\n",
    "\n",
    "plt.plot(np.sort(heat_supply)[::-1], \"r-\", label=\"heat supply\")\n",
    "plt.plot(np.sort(demand)[::-1], \"b--\", label=\"heat demand\")\n",
    "plt.ylabel(\"Power (kW)\")\n",
    "plt.grid()\n",
    "plt.legend()\n",
    "\n",
    "plt.figure()\n",
    "plt.plot(heat_supply, \"r-\", label=\"heat supply\", drawstyle=\"steps-post\")\n",
    "plt.plot(demand, \"b--\", label=\"heat demand\", drawstyle=\"steps-post\")\n",
    "plt.plot(storage_content, \"k-\", label=\"storage content\")\n",
    "plt.ylabel(\"Power (kW) or Energy (kWh)\")\n",
    "plt.grid()\n",
    "plt.legend()\n",
    "\n",
    "electricity_consumption = float(results[(electricity_grid, bus_electricity)][\"sequences\"].sum())\n",
    "print(f\"Electricity demand: {electricity_consumption:.1f} kWh\")\n"
   ]
  }
 ],
 "metadata": {
  "interpreter": {
   "hash": "bd8d683b2b7a984c708b0e285fe12e85cc3979cad656f2247d8c1435c45a50dd"
  },
  "kernelspec": {
   "display_name": "Python 3.9.13 ('tespy_env')",
   "language": "python",
   "name": "python3"
  },
  "language_info": {
   "codemirror_mode": {
    "name": "ipython",
    "version": 3
   },
   "file_extension": ".py",
   "mimetype": "text/x-python",
   "name": "python",
   "nbconvert_exporter": "python",
   "pygments_lexer": "ipython3",
   "version": "3.10.0"
  },
  "orig_nbformat": 4
 },
 "nbformat": 4,
 "nbformat_minor": 2
}
