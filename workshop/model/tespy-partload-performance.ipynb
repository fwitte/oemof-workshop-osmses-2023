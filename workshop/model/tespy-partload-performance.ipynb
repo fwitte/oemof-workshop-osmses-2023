{
 "cells": [
  {
   "cell_type": "markdown",
   "metadata": {},
   "source": [
    "(tespy-part-load)=\n",
    "\n",
    "# Part load performance in TESPy\n",
    "\n",
    "In this section we are investigating how operating the heat pump at part load affects the COP in the thermodynamic\n",
    "model. To do that, we will extend our model from the previous section to integrate the heat source and the heat sink\n",
    "air and water flow. Then we are investigating, how a specific design of the heat pump affects the operation at \n",
    "conditions different from that design state, i.e. when the ambient temperature changes, when the heat production changes\n",
    "and when both change simultaneously. The results are again fed back to the energy system optimization.\n",
    "\n",
    "```{tip}\n",
    "The TESPy documentation provides more information about part load modeling. There are some examples as well as a \n",
    "dedicated section in the documentation of the software's modules: [https://tespy.rtfd.io](https://tespy.rtfd.io).\n",
    "```\n",
    "\n",
    "## Introduction\n",
    "\n",
    "In TESPy it is possible to design a process and based on that design predict the part load operation of the overall\n",
    "system. To do that, component and process information are calculated from the design as a result and then remain \n",
    "unchanged in offdesign operation.\n",
    "\n",
    "For example, the heat exchanger's heat transfer coefficient can be calculated in the design based on the heat \n",
    "transferred and on the temperature levels at the two inlets and the two outlets of the component. Then for part load\n",
    "prediction, we can make the assumption that this value does not change (or it may follow a specific curve from a lookup\n",
    "table). This also means, that we reduce the degrees of freedom by one, for example the terminal temperature difference\n",
    "cannot be controlled anymore. It will be a result of changes in the flow regime at the heat exchanger and the \n",
    "assumptions concerning the heat transfer coefficient.\n",
    "\n",
    "```{note}\n",
    "A dedicated section in the excursion's chapter will outline the effect of the single part load specifications we are\n",
    "providing in this example. You can find it {ref}`here <tespy-partload-disection>`.\n",
    "```\n",
    "\n",
    "## Preparing the model\n",
    "\n",
    "First we are going to prepare our TESPy model. To do that, we will slightly modify our topology according to the figure\n",
    "below. The overall specifications on heat exchanger temperature differences, compressor efficiency etc. will remain the\n",
    "unchanged.\n",
    "\n",
    "```{figure} /figures/heat_pump_full.svg\n",
    "---\n",
    "alt: Component based thermodynamic model of the heat pump for part load modeling\n",
    "name: tespy-heat-pump-part-load-flowsheet\n",
    "---\n",
    "Component based thermodynamic model of the heat pump for part load modeling\n",
    "```\n",
    "\n",
    "First, we import the `HeatExchanger` class to model the evaporator, the `Condenser` class to model the condenser \n",
    "(instead of the `HeatExchangerSimple`) we used in the first model, and finally the `Source` and `Sink` classes to\n",
    "represent the ambient air in- and outlet as well as the heating system's feed and return flow. We create instances of\n",
    "the components and connect them according to the flowsheet."
   ]
  },
  {
   "cell_type": "code",
   "execution_count": null,
   "metadata": {},
   "outputs": [],
   "source": [
    "from tespy.tools import logger\n",
    "\n",
    "\n",
    "_ = logger.define_logging(screen_level=50)"
   ]
  },
  {
   "cell_type": "code",
   "execution_count": null,
   "metadata": {},
   "outputs": [],
   "source": [
    "from tespy.components import Condenser, HeatExchanger, CycleCloser, Compressor, Valve, Source, Sink\n",
    "from tespy.connections import Connection, Ref\n",
    "from tespy.networks import Network\n",
    "\n",
    "wf = \"R290\"\n",
    "nwk = Network(p_unit=\"bar\", T_unit=\"C\", iterinfo=False)\n",
    "\n",
    "cp = Compressor(\"compressor\")\n",
    "ev = HeatExchanger(\"evaporator\")\n",
    "cd = Condenser(\"condenser\")\n",
    "va = Valve(\"expansion valve\")\n",
    "cc = CycleCloser(\"cycle closer\")\n",
    "\n",
    "so1 = Source(\"ambient air source\")\n",
    "si1 = Sink(\"ambient air sink\")\n",
    "so2 = Source(\"heating source\")\n",
    "si2 = Sink(\"heating sink\")\n",
    "\n",
    "c0 = Connection(va, \"out1\", cc, \"in1\", label=\"0\")\n",
    "c1 = Connection(cc, \"out1\", ev, \"in2\", label=\"1\")\n",
    "c2 = Connection(ev, \"out2\", cp, \"in1\", label=\"2\")\n",
    "c3 = Connection(cp, \"out1\", cd, \"in1\", label=\"3\")\n",
    "c4 = Connection(cd, \"out1\", va, \"in1\", label=\"4\")\n",
    "\n",
    "nwk.add_conns(c0, c1, c2, c3, c4)\n",
    "\n",
    "c11 = Connection(so1, \"out1\", ev, \"in1\", label=\"11\")\n",
    "c12 = Connection(ev, \"out1\", si1, \"in1\", label=\"12\")\n",
    "\n",
    "c21 = Connection(so2, \"out1\", cd, \"in2\", label=\"21\")\n",
    "c22 = Connection(cd, \"out2\", si2, \"in1\", label=\"22\")\n",
    "\n",
    "nwk.add_conns(c11, c12, c21, c22)"
   ]
  },
  {
   "cell_type": "markdown",
   "metadata": {},
   "source": [
    "Next step is parametrization again. Initially, we are going to skip the specification of the terminal temperature\n",
    "difference at the condenser due to numerical instability.\n",
    "\n",
    "```{tip}\n",
    "TESPy relies on good starting values for the solver. Since the applications you can model with the software are generic,\n",
    "it is impossible to provide starting values natively without knowing what is modeled. Generally, providing mass flow,\n",
    "pressure and enthalpy values lead to more stable convergence than providing, for example isentropic efficiency or\n",
    "terminal temperature differences. Also when changing working fluids, the convergence behavior may change completely.\n",
    "Therefore we provide a tutorial on how to build models with stable starting values on the\n",
    "[TESPy documentation](https://tespy.readthedocs.io/en/main/tutorials.html).\n",
    "```"
   ]
  },
  {
   "cell_type": "code",
   "execution_count": null,
   "metadata": {},
   "outputs": [],
   "source": [
    "# connections\n",
    "c2.set_attr(T=2)\n",
    "c4.set_attr(T=40)\n",
    "\n",
    "# components\n",
    "Q_design = -9.1e3\n",
    "cp.set_attr(eta_s=0.675)\n",
    "cd.set_attr(Q=Q_design)\n",
    "\n",
    "# connections\n",
    "T_ambient_design = 7\n",
    "c2.set_attr(fluid={wf: 1}, x=1.0)\n",
    "c11.set_attr(fluid={\"air\": 1}, p=1.0, T=T_ambient_design)\n",
    "c12.set_attr(T=Ref(c11, 1, -2))\n",
    "c21.set_attr(fluid={\"Water\": 1}, p=3.0, T=30)\n",
    "c22.set_attr(T=35)\n",
    "\n",
    "# components\n",
    "cd.set_attr(pr1=1, pr2=1)\n",
    "ev.set_attr(pr1=1, pr2=1)\n",
    "\n",
    "nwk.solve(\"design\")"
   ]
  },
  {
   "cell_type": "markdown",
   "metadata": {},
   "source": [
    "In the second step we finalize the specification values and rerun the simulation."
   ]
  },
  {
   "cell_type": "code",
   "execution_count": null,
   "metadata": {},
   "outputs": [],
   "source": [
    "ev.set_attr(ttd_u=5)\n",
    "c2.set_attr(T=None)\n",
    "\n",
    "cd.set_attr(ttd_u=5)\n",
    "c4.set_attr(T=None)\n",
    "\n",
    "nwk.solve(\"design\")\n",
    "\n",
    "nwk.print_results(colored=False)\n",
    "nwk.save(\"design-state\")\n",
    "nwk.save(\"tmp\")\n",
    "\n",
    "nwk.results[\"Connection\"]"
   ]
  },
  {
   "cell_type": "markdown",
   "metadata": {},
   "source": [
    "## Design Mode\n",
    "\n",
    "Now we are going to investigate, how the COP of the heat pump changes, when changing the ambient temperature and the\n",
    "heat demand. For this two steps will be taken:\n",
    "\n",
    "1. Modification of temperature and heat without changing any of the component specifications. That means, e.g. that the\n",
    "   compressor's efficiency or the heat exchangers' temperature differences will stay constant.\n",
    "2. Modification of temperature and heat while applying part load assumptions for the compressor and the heat exchangers.\n",
    "   These are implemented with lookup tables, where the change of mass flow through the component leads to a change in\n",
    "   efficiency or temperature difference.\n",
    "\n",
    "### Influence of the ambient temperature\n",
    "\n",
    "First, we investigate the influence of the ambient temperature. We have done this in the first TESPy section already,\n",
    "see {ref}`tespy-simple`, but since we change the topology we repeat this step."
   ]
  },
  {
   "cell_type": "code",
   "execution_count": null,
   "metadata": {},
   "outputs": [],
   "source": [
    "import numpy as np\n",
    "import pandas as pd\n",
    "from matplotlib import pyplot as plt\n",
    "\n",
    "\n",
    "temperature_range = np.arange(-10, 21)\n",
    "results_temperature = pd.DataFrame(\n",
    "    index=temperature_range,\n",
    "    columns=[\"compressor-power\", \"pressure-ratio\", \"COP\"]\n",
    ")\n",
    "\n",
    "for temperature in temperature_range:\n",
    "\n",
    "    c11.set_attr(T=temperature)\n",
    "    nwk.solve(\"design\")\n",
    "\n",
    "    results_temperature.loc[temperature, \"compressor-power\"] = cp.P.val\n",
    "    results_temperature.loc[temperature, \"pressure-ratio\"] = cp.pr.val\n",
    "    results_temperature.loc[temperature, \"COP\"] = abs(cd.Q.val) / cp.P.val"
   ]
  },
  {
   "cell_type": "markdown",
   "metadata": {},
   "source": [
    "We create three subplots for the results: Compressor power {math}`\\dot W_\\text{cp}`, the compressor pressure ratio and\n",
    "COP over the ambient temperature level. We can see the same trend in\n",
    "{numref}`fig-heat-pump-ambient-temperature-design-mode` as we saw in the previous section in\n",
    "{numref}`fig-heat-pump-efficiency-factor`.\n",
    "\n",
    "```{glue:figure} fig-heat-pump-ambient-temperature-design-mode\n",
    ":name: \"fig-heat-pump-ambient-temperature-design-mode\"\n",
    "\n",
    "Influence of the ambient temperature on the compressor power, its pressure ratio and the COP without modeling part load\n",
    "behavior.\n",
    "```"
   ]
  },
  {
   "cell_type": "code",
   "execution_count": null,
   "metadata": {},
   "outputs": [],
   "source": [
    "fig, ax = plt.subplots(3, sharex=True)\n",
    "\n",
    "ax[0].plot(temperature_range, results_temperature[\"compressor-power\"])\n",
    "ax[1].plot(temperature_range, results_temperature[\"pressure-ratio\"])\n",
    "ax[2].plot(temperature_range, results_temperature[\"COP\"])\n",
    "\n",
    "ax[0].set_ylabel(\"$\\dot W_\\\\mathrm{cp}$ in W\")\n",
    "ax[1].set_ylabel(\"Pressure ratio\")\n",
    "ax[2].set_ylabel(\"COP\")\n",
    "_ = ax[2].set_xlabel(\"Ambient temperature\")\n",
    "\n",
    "plt.close()"
   ]
  },
  {
   "cell_type": "code",
   "execution_count": null,
   "metadata": {
    "tags": [
     "remove-cell"
    ]
   },
   "outputs": [],
   "source": [
    "from myst_nb import glue\n",
    "glue(\"fig-heat-pump-ambient-temperature-design-mode\", fig, display=False)"
   ]
  },
  {
   "cell_type": "markdown",
   "metadata": {},
   "source": [
    "### Influence of the heat production\n",
    "\n",
    "Second, we investigate the influence of the heat production. We can define a heat range relative to the design heat\n",
    "production spanning from 50 % to 100 % load. The ambient temperature is reset back to the previous state, and we can\n",
    "loop over the part load values.\n",
    "\n",
    "```{note}\n",
    "The compressor of a heat pump will be the component restricting lower and upper operational limits. Using 50 % heat\n",
    "production as minumum value scales to about 50 % compressor load. The value is an assumption we make for this tutorial.\n",
    "In the best case, you can retrieve exact data from a manufacturer.\n",
    "```"
   ]
  },
  {
   "cell_type": "code",
   "execution_count": null,
   "metadata": {},
   "outputs": [],
   "source": [
    "heat_range = np.linspace(0.5, 1.0, 11) * Q_design\n",
    "results_heat = pd.DataFrame(\n",
    "    index=heat_range,\n",
    "    columns=[\"compressor-power\", \"pressure-ratio\", \"COP\"]\n",
    ")\n",
    "c11.set_attr(T=T_ambient_design)\n",
    "\n",
    "for heat in heat_range[::-1]:\n",
    "    cd.set_attr(Q=heat)\n",
    "    nwk.solve(\"design\")\n",
    "\n",
    "    results_heat.loc[heat, \"compressor-power\"] = cp.P.val\n",
    "    results_heat.loc[heat, \"pressure-ratio\"] = cp.pr.val\n",
    "    results_heat.loc[heat, \"COP\"] = abs(cd.Q.val) / cp.P.val"
   ]
  },
  {
   "cell_type": "markdown",
   "metadata": {},
   "source": [
    "Again we create a plot with the influence of the heat production on the compressor's parameters and on the COP in \n",
    "{numref}`fig-heat-pump-heat-load-design-mode`. It becomes obvious that neither the compressor's pressure ratio nor the\n",
    "COP are affected by the changing heat load. Only the compressor power requirement scales with the load. The reason for\n",
    "this is, that the compressor's efficiency and the temperature differences (and therefore the evaporation and\n",
    "condensation temperatures) do not change with changing load due to our model specifications.\n",
    "\n",
    "```{glue:figure} fig-heat-pump-heat-load-design-mode\n",
    ":name: \"fig-heat-pump-heat-load-design-mode\"\n",
    "\n",
    "Influence of the heat load on the compressor power, its pressure ratio and the COP without modeling part load behavior.\n",
    "```"
   ]
  },
  {
   "cell_type": "code",
   "execution_count": null,
   "metadata": {},
   "outputs": [],
   "source": [
    "fig, ax = plt.subplots(3, sharex=True)\n",
    "\n",
    "ax[0].plot(np.abs(heat_range), results_heat[\"compressor-power\"])\n",
    "ax[1].plot(np.abs(heat_range), results_heat[\"pressure-ratio\"])\n",
    "ax[2].plot(np.abs(heat_range), results_heat[\"COP\"])\n",
    "\n",
    "ax[0].set_ylabel(\"$\\dot W_\\\\mathrm{cp}$ in W\")\n",
    "ax[1].set_ylabel(\"Pressure ratio\")\n",
    "ax[2].set_ylabel(\"COP\")\n",
    "\n",
    "ax[0].set_ylim([0, results_heat[\"compressor-power\"].max() * 1.05])\n",
    "ax[1].set_ylim([2, 4])\n",
    "ax[2].set_ylim([3, 5])\n",
    "ax[2].set_xlim([0, np.abs(heat_range).max() * 1.05])\n",
    "\n",
    "ax[2].set_xlabel(\"Consumer heat demand in W\")\n",
    "\n",
    "plt.close()"
   ]
  },
  {
   "cell_type": "code",
   "execution_count": null,
   "metadata": {
    "tags": [
     "remove-cell"
    ]
   },
   "outputs": [],
   "source": [
    "glue(\"fig-heat-pump-heat-load-design-mode\", fig, display=False)"
   ]
  },
  {
   "cell_type": "markdown",
   "metadata": {},
   "source": [
    "## Part load simulation\n",
    "\n",
    "The assumptions made in the previous section are not really reasonable: A heat exchanger cannot always hold the \n",
    "temperature difference independent of the (changing) flow regimes, when it has been constructed for a specific \n",
    "operational point. The same applies for the compressor: We can expect that the efficiency changes when it is not \n",
    "operated in optimal conditions. Therefore, this sections shows how we can make assumptions on the part load behavior of\n",
    "these components.\n",
    "\n",
    "### Influence of the ambient temperature\n",
    "\n",
    "First, we are going to investigate the ambient temperature influence. To do this, instead of using the `\"design\"` mode\n",
    "for our simulation we are using the `\"offdesign\"` mode. The offdesign mode can access a design specification and based\n",
    "on that and the current operational point predict part load efficiencies.\n",
    "\n",
    "For the components that means, that the compressor's efficiency will not be an input parameter anymore, but a \n",
    "characteristic curve will be applied instead. The characteristic holds a lookup table connecting the change of mass flow\n",
    "relative to the design point mass flow with the change in efficiency. For the evaporator and the condenser we make\n",
    "similar assumptions: Instead of having constant temperature difference values, the heat transfer coefficient `kA` is\n",
    "applied together with a characteristic curve, modifying its value depending on the change of mass flows relative to the\n",
    "design point mass flows.\n",
    "\n",
    "```{caution}\n",
    "The default characteristic lines in TESPy are very generic, do NOT consider them as written in stone!\n",
    "\n",
    "They may not represent components from specific manufacturers in the appropriate way. It is also possible to derive\n",
    "characteristics from measurement data. To implement your custom characteristic lines see the respective sections in the\n",
    "[TESPy online documentation](https://tespy.readthedocs.io).\n",
    "```\n",
    "\n",
    "In our setup we allow extrapolation on the compressor characteristic line, and we run the same loop over the temperature\n",
    "as we had in the first analysis."
   ]
  },
  {
   "cell_type": "code",
   "execution_count": null,
   "metadata": {},
   "outputs": [],
   "source": [
    "cd.set_attr(Q=Q_design)\n",
    "cp.set_attr(design=[\"eta_s\"], offdesign=[\"eta_s_char\"])\n",
    "cp.eta_s_char.char_func.extrapolate = True\n",
    "ev.set_attr(design=[\"ttd_u\"], offdesign=[\"kA_char\"])\n",
    "cd.set_attr(design=[\"ttd_u\"], offdesign=[\"kA_char\"])\n",
    "\n",
    "results_temperature_partload = pd.DataFrame(\n",
    "    index=temperature_range,\n",
    "    columns=[\"compressor-power\", \"pressure-ratio\", \"COP\"]\n",
    ")\n",
    "\n",
    "\n",
    "for temperature in temperature_range:\n",
    "\n",
    "    c11.set_attr(T=temperature)\n",
    "    nwk.solve(\"offdesign\", design_path=\"design-state\")\n",
    "\n",
    "    results_temperature_partload.loc[temperature, \"compressor-power\"] = cp.P.val\n",
    "    results_temperature_partload.loc[temperature, \"pressure-ratio\"] = cp.pr.val\n",
    "    results_temperature_partload.loc[temperature, \"COP\"] = abs(cd.Q.val) / cp.P.val"
   ]
  },
  {
   "cell_type": "markdown",
   "metadata": {},
   "source": [
    "We make the same plots as before, comparing the results of the design point calculations with those that take part-load\n",
    "into account. The {numref}`fig-heat-pump-ambient-temperature-offdesign-mode` shows the comparison of both approaches. \n",
    "The last subplot is the deviation in COP, which is at an overall low level. Only for very high ambient temperature \n",
    "levels, which are nearly at the heat supply temperature level the deviation increases to about 5 % with respect to the\n",
    "model accounting for part load behavior.\n",
    "\n",
    "```{glue:figure} fig-heat-pump-ambient-temperature-offdesign-mode\n",
    ":name: \"fig-heat-pump-ambient-temperature-offdesign-mode\"\n",
    "\n",
    "Influence of the ambient temperature on the compressor power, its pressure ratio and the COP when considering part load\n",
    "behavior.\n",
    "```"
   ]
  },
  {
   "cell_type": "code",
   "execution_count": null,
   "metadata": {},
   "outputs": [],
   "source": [
    "fig, ax = plt.subplots(4, sharex=True)\n",
    "\n",
    "ax[0].plot(temperature_range, results_temperature[\"compressor-power\"], label=\"design\")\n",
    "ax[1].plot(temperature_range, results_temperature[\"pressure-ratio\"])\n",
    "ax[2].plot(temperature_range, results_temperature[\"COP\"])\n",
    "\n",
    "ax[0].plot(temperature_range, results_temperature_partload[\"compressor-power\"], label=\"part load\")\n",
    "ax[1].plot(temperature_range, results_temperature_partload[\"pressure-ratio\"])\n",
    "ax[2].plot(temperature_range, results_temperature_partload[\"COP\"])\n",
    "\n",
    "ax[3].plot(temperature_range, (results_temperature[\"COP\"] - results_temperature_partload[\"COP\"]) / results_temperature_partload[\"COP\"] * 100)\n",
    "\n",
    "ax[0].set_ylabel(\"$\\dot W_\\\\mathrm{cp}$ in W\")\n",
    "ax[1].set_ylabel(\"Pressure ratio\")\n",
    "ax[2].set_ylabel(\"COP\")\n",
    "ax[3].set_ylabel(\"COP deviation in %\")\n",
    "\n",
    "ax[0].legend()\n",
    "\n",
    "_ = ax[3].set_xlabel(\"Ambient temperature\")\n",
    "\n",
    "plt.close()"
   ]
  },
  {
   "cell_type": "code",
   "execution_count": null,
   "metadata": {
    "tags": [
     "remove-cell"
    ]
   },
   "outputs": [],
   "source": [
    "glue(\"fig-heat-pump-ambient-temperature-offdesign-mode\", fig, display=False)"
   ]
  },
  {
   "cell_type": "markdown",
   "metadata": {},
   "source": [
    "```{note}\n",
    "A way of controlling whether your setup for the part load modeling is correct is to check if offdesign parameter\n",
    "settings of the model lead to the same result as in the design parameter specifications. If these numbers do not align,\n",
    "there might be something wrong the model setup. In this case, we always have the design heat load and we have to compare\n",
    "the results at the design ambient temperature, i.e. 2 °C.\n",
    "```"
   ]
  },
  {
   "cell_type": "code",
   "execution_count": null,
   "metadata": {},
   "outputs": [],
   "source": [
    "results_temperature.loc[T_ambient_design]"
   ]
  },
  {
   "cell_type": "code",
   "execution_count": null,
   "metadata": {},
   "outputs": [],
   "source": [
    "results_temperature_partload.loc[T_ambient_design]"
   ]
  },
  {
   "cell_type": "markdown",
   "metadata": {},
   "source": [
    "### Influence of the heat production\n",
    "\n",
    "Next we are checking the influence of the heat production of the heat pump on our COP. We reset the temperature back to\n",
    "the ambient design temperature value and rerun the offdesign simulations with the heat range specified earlier."
   ]
  },
  {
   "cell_type": "code",
   "execution_count": null,
   "metadata": {},
   "outputs": [],
   "source": [
    "c11.set_attr(T=T_ambient_design)\n",
    "results_heat_partload = pd.DataFrame(\n",
    "    index=heat_range,\n",
    "    columns=[\"compressor-power\", \"pressure-ratio\", \"COP\"]\n",
    ")\n",
    "\n",
    "for heat in heat_range[::-1]:\n",
    "    cd.set_attr(Q=heat)\n",
    "    nwk.solve(\"offdesign\", design_path=\"design-state\")\n",
    "\n",
    "    results_heat_partload.loc[heat, \"compressor-power\"] = cp.P.val\n",
    "    results_heat_partload.loc[heat, \"pressure-ratio\"] = cp.pr.val\n",
    "    results_heat_partload.loc[heat, \"COP\"] = abs(cd.Q.val) / cp.P.val"
   ]
  },
  {
   "cell_type": "markdown",
   "metadata": {},
   "source": [
    "Again we plot our results against the results of the simulation in design mode\n",
    "({numref}`fig-heat-pump-heat-load-offdesign-mode`). The COP of both simulations matches quite well for all heat loads\n",
    "above 75 % of design heat production. For lower heat production values the part load considering simulations show lower\n",
    "COP than the design simulation. When looking at the compressor's pressure ratio its value decreases with decreasing heat\n",
    "load. This seems odd at first, because a lower pressure ratio would indicate lower compressor power. The reason for the\n",
    "increasing compressor power demand is to be sought in its part load efficiency, which decreases faster than the pressure\n",
    "ratio.\n",
    "\n",
    "```{tip}\n",
    "A detailed analysis of the influence factors on the heat pump's performance in part load simulation is provided in\n",
    "{ref}`this excursion <tespy-partload-disection>`.\n",
    "```\n",
    "\n",
    "```{glue:figure} fig-heat-pump-heat-load-offdesign-mode\n",
    ":name: \"fig-heat-pump-heat-load-offdesign-mode\"\n",
    "\n",
    "Influence of the heat load on the compressor power, its pressure ratio and the COP when considering part load behavior.\n",
    "```"
   ]
  },
  {
   "cell_type": "code",
   "execution_count": null,
   "metadata": {},
   "outputs": [],
   "source": [
    "fig, ax = plt.subplots(4, sharex=True)\n",
    "\n",
    "ax[0].plot(np.abs(heat_range), results_heat[\"compressor-power\"], label=\"design\")\n",
    "ax[1].plot(np.abs(heat_range), results_heat[\"pressure-ratio\"])\n",
    "ax[2].plot(np.abs(heat_range), results_heat[\"COP\"])\n",
    "ax[0].plot(np.abs(heat_range), results_heat_partload[\"compressor-power\"], label=\"part load\")\n",
    "ax[1].plot(np.abs(heat_range), results_heat_partload[\"pressure-ratio\"])\n",
    "ax[2].plot(np.abs(heat_range), results_heat_partload[\"COP\"])\n",
    "\n",
    "ax[3].plot(np.abs(heat_range), (results_heat[\"COP\"] - results_heat_partload[\"COP\"]) / results_heat_partload[\"COP\"] * 100)\n",
    "\n",
    "ax[0].set_ylabel(\"$\\dot W_\\\\mathrm{cp}$ in W\")\n",
    "ax[1].set_ylabel(\"Pressure ratio\")\n",
    "ax[2].set_ylabel(\"COP\")\n",
    "ax[3].set_ylabel(\"COP deviation in %\")\n",
    "\n",
    "ax[0].set_ylim([0, results_heat[\"compressor-power\"].max() * 1.05])\n",
    "ax[1].set_ylim([2, 4])\n",
    "ax[2].set_ylim([3, 5])\n",
    "ax[3].set_xlim([0, np.abs(heat_range).max() * 1.05])\n",
    "\n",
    "ax[0].legend()\n",
    "\n",
    "_ = ax[3].set_xlabel(\"Consumer heat demand in W\")\n",
    "\n",
    "plt.close()"
   ]
  },
  {
   "cell_type": "code",
   "execution_count": null,
   "metadata": {
    "tags": [
     "remove-cell"
    ]
   },
   "outputs": [],
   "source": [
    "glue(\"fig-heat-pump-heat-load-offdesign-mode\", fig, display=False)"
   ]
  },
  {
   "cell_type": "markdown",
   "metadata": {},
   "source": [
    "We can have the same look at the results from the dataframes. Since we inspected the part load behavior for the heat\n",
    "output at the design temperature level of the ambient, we should see equal values in the results for the design heat\n",
    "production, i.e. `-10,000.0` W."
   ]
  },
  {
   "cell_type": "code",
   "execution_count": null,
   "metadata": {},
   "outputs": [],
   "source": [
    "results_heat_partload.loc[Q_design]"
   ]
  },
  {
   "cell_type": "code",
   "execution_count": null,
   "metadata": {},
   "outputs": [],
   "source": [
    "results_heat.loc[Q_design]"
   ]
  },
  {
   "cell_type": "markdown",
   "metadata": {},
   "source": [
    "## Variable temperature and heat production\n",
    "\n",
    "Now we want to combine both influence factors. We can do that by looping over the ambient temperature and the heat load\n",
    "simultaneously. Since our input data for the energy system optimization are based on the ambient temperature, we \n",
    "investigate the influence of the heat load per temperature value."
   ]
  },
  {
   "cell_type": "code",
   "execution_count": null,
   "metadata": {},
   "outputs": [],
   "source": [
    "temperature_range = np.arange(-10, 21)\n",
    "\n",
    "results = {}\n",
    "\n",
    "\n",
    "for temperature in temperature_range:\n",
    "    results[temperature] = pd.DataFrame(index=heat_range, columns=[\"COP\", \"compressor-power\", \"T-evaporation\", \"T-condensation\"])\n",
    "    c11.set_attr(T=temperature)\n",
    "    for heat in heat_range[::-1]:\n",
    "        cd.set_attr(Q=heat)\n",
    "        if heat == heat_range[-1]:\n",
    "            nwk.solve(\"offdesign\", design_path=\"design-state\", init_path=\"tmp\")\n",
    "            nwk.save(\"tmp\")\n",
    "        else:\n",
    "            nwk.solve(\"offdesign\", design_path=\"design-state\")\n",
    "\n",
    "        results[temperature].loc[heat, \"COP\"] = abs(cd.Q.val) / cp.P.val\n",
    "        results[temperature].loc[heat, \"compressor-power\"] = cp.P.val\n",
    "        results[temperature].loc[heat, \"T-evaporation\"] = c2.T.val\n",
    "        results[temperature].loc[heat, \"T-condensation\"] = c4.T.val"
   ]
  },
  {
   "cell_type": "markdown",
   "metadata": {},
   "source": [
    "We can plot some results, e.g. for every 10th temperature value in {numref}`fig-heat-pump-result-offdesign-mode`. These\n",
    "results can then be transferred to the `oemof-solph` simulation.\n",
    "\n",
    "```{glue:figure} fig-heat-pump-result-offdesign-mode\n",
    ":name: \"fig-heat-pump-result-offdesign-mode\"\n",
    "\n",
    "Influence of the ambienht temperature and heat load on the compressor power and the COP when considering part load\n",
    "behavior.\n",
    "```"
   ]
  },
  {
   "cell_type": "code",
   "execution_count": null,
   "metadata": {},
   "outputs": [],
   "source": [
    "power_max = 0\n",
    "COP_max = 0\n",
    "\n",
    "fig, ax = plt.subplots(2, sharex=True)\n",
    "\n",
    "for temp in temperature_range[::10]:\n",
    "\n",
    "    ax[0].plot(np.abs(results[temp].index), results[temp][\"compressor-power\"], label=\"$T_\\\\mathrm{amb}$=\" + str(temp) + \"°C\")\n",
    "    ax[1].plot(np.abs(results[temp].index), results[temp][\"COP\"])\n",
    "    COP_max = max(results[temp][\"COP\"].max(), COP_max)\n",
    "    power_max = max(results[temp][\"compressor-power\"].max(), power_max)\n",
    "\n",
    "ax[0].legend()\n",
    "ax[0].set_ylabel(\"$\\dot W_\\\\mathrm{cp}$ in W\")\n",
    "ax[0].set_ylim([0, power_max * 1.05])\n",
    "ax[1].set_ylabel(\"COP\")\n",
    "ax[1].set_ylim([0, COP_max + 1])\n",
    "ax[1].set_xlim([0, np.abs(heat_range).max() * 1.05])\n",
    "_ = ax[1].set_xlabel(\"Consumer heat demand in W\")\n",
    "\n",
    "plt.close()"
   ]
  },
  {
   "cell_type": "code",
   "execution_count": null,
   "metadata": {
    "tags": [
     "remove-cell"
    ]
   },
   "outputs": [],
   "source": [
    "glue(\"fig-heat-pump-result-offdesign-mode\", fig, display=False)"
   ]
  },
  {
   "cell_type": "markdown",
   "metadata": {},
   "source": [
    "## Preparing the data for oemof-solph\n",
    "\n",
    "To prepare the data for the usage in the mixed integer linear model, we have to linearize the outcomes of our \n",
    "simulation. To do that, we can use a simple least squares method from the numpy package {cite}`harris2020`,\n",
    "{cite}`numpyweb2023`. The least squares will give us the slope and the y-axis offset, both of which are required in the\n",
    "mixed integer model."
   ]
  },
  {
   "cell_type": "code",
   "execution_count": null,
   "metadata": {},
   "outputs": [],
   "source": [
    "def least_squares(x, y):\n",
    "    A = np.vstack([x, np.ones(len(x))]).T\n",
    "    slope, offset = np.linalg.lstsq(A, y, rcond=None)[0]\n",
    "    return slope, offset"
   ]
  },
  {
   "cell_type": "markdown",
   "metadata": {},
   "source": [
    "In {numref}`fig-heat-pump-result-comparison` we can make a plot to look at the deviation between the assumption of a\n",
    "constant efficiency value (as in the first attempt in {ref}`this section <solph-linear>`), the linearized variant and\n",
    "the actual simulation. For example, we can have a look at the design conditions for the ambient temperature. We can see\n",
    "that the deviation between the linearized model and the actual simulation is below 1.5 % for all heat load values. The\n",
    "assumption of a constant efficiency factor leads to a high deviation especially with lower heat production up to 18 %.\n",
    "\n",
    "```{glue:figure} fig-heat-pump-result-comparison\n",
    ":name: \"fig-heat-pump-result-comparison\"\n",
    "\n",
    "Comparison of the compressor power depending on the heat pump's heat load for the simplified approach and in the part\n",
    "load simulation.\n",
    "```\n",
    "\n",
    "Furthermore, we can plot the linearization of a selected amount of simulation points in\n",
    "{numref}`fig-heat-pump-result-linearization`. We can see, that both, offset and slope, change for every ambient\n",
    "temperature value.\n",
    "\n",
    "```{glue:figure} fig-heat-pump-result-linearization\n",
    ":name: \"fig-heat-pump-result-linearization\"\n",
    "\n",
    "Linearized compressor power to heat load.\n",
    "```"
   ]
  },
  {
   "cell_type": "code",
   "execution_count": null,
   "metadata": {},
   "outputs": [],
   "source": [
    "x = -results[T_ambient_design].index.values.astype(float)\n",
    "y = results[T_ambient_design][\"compressor-power\"].values.astype(float)\n",
    "yy_tespy = y\n",
    "\n",
    "\n",
    "COP_c_simple = (\n",
    "    (results[T_ambient_design][\"T-condensation\"] + 273.15) /\n",
    "    (results[T_ambient_design][\"T-condensation\"] - results[T_ambient_design][\"T-evaporation\"])\n",
    ")\n",
    "eta_c_simple = 0.5945\n",
    "\n",
    "fig, ax = plt.subplots(2, sharex=True)\n",
    "\n",
    "ax[0].plot(x, yy_tespy, label=\"TESPy (reference)\")\n",
    "\n",
    "slope, offset = least_squares(x, y)\n",
    "yy_offset = offset + slope * x\n",
    "ax[0].plot(x, yy_offset, label=\"Linear w Offset\")\n",
    "ax[0].plot(x, x / (COP_c_simple * eta_c_simple), label=\"COP simplified\")\n",
    "\n",
    "ax[1].plot(x, (yy_tespy - yy_tespy) / yy_tespy * 100)\n",
    "ax[1].plot(x, (yy_offset - yy_tespy) / yy_tespy * 100)\n",
    "ax[1].plot(x, (x / (COP_c_simple * eta_c_simple) - yy_tespy) / yy_tespy * 100)\n",
    "\n",
    "ax[0].legend()\n",
    "ax[0].set_ylabel(\"Compressor power in W\")\n",
    "ax[0].set_ylim([0, y.max() * 1.05])\n",
    "ax[1].set_ylabel(\"Relative deviation of power in %\")\n",
    "ax[1].set_xlim([0, x.max() * 1.05])\n",
    "_ = ax[1].set_xlabel(\"Consumer heat demand in W\")\n",
    "\n",
    "plt.close()"
   ]
  },
  {
   "cell_type": "code",
   "execution_count": null,
   "metadata": {
    "tags": [
     "remove-cell"
    ]
   },
   "outputs": [],
   "source": [
    "glue(\"fig-heat-pump-result-comparison\", fig, display=False)"
   ]
  },
  {
   "cell_type": "code",
   "execution_count": null,
   "metadata": {},
   "outputs": [],
   "source": [
    "\n",
    "fig, ax = plt.subplots(1)\n",
    "\n",
    "for temp in temperature_range[::10]:\n",
    "\n",
    "    x = -results[temp].index.values.astype(float)\n",
    "    y = results[temp][\"compressor-power\"].values.astype(float)\n",
    "    slope, offset = least_squares(x, y)\n",
    "    p = ax.plot(x, slope * x + offset, label=\"$T_\\\\mathrm{amb}=$\" + str(temp) + \" °C\")  # get line information to extract color\n",
    "    ax.plot([0, x.min()], slope * np.array([0, x.min()]) + offset, \"--\", color=p[0].get_color())\n",
    "    power_max = max(results[temp][\"compressor-power\"].max(), power_max)\n",
    "\n",
    "ax.set_ylim([0, power_max * 1.05])\n",
    "ax.set_ylabel(\"Compressor power in W\")\n",
    "ax.set_xlim([0, x.max() * 1.05])\n",
    "ax.legend()\n",
    "_ = ax.set_xlabel(\"Consumer heat demand in W\")\n",
    "\n",
    "plt.close()"
   ]
  },
  {
   "cell_type": "code",
   "execution_count": null,
   "metadata": {
    "tags": [
     "remove-cell"
    ]
   },
   "outputs": [],
   "source": [
    "glue(\"fig-heat-pump-result-linearization\", fig, display=False)"
   ]
  },
  {
   "cell_type": "markdown",
   "metadata": {},
   "source": [
    "The final step is to export the data for the `OffsetConverter` of `oemof-solph`.\n",
    "`oemof-solph` expects a conversion factor and the normed offset per ambient temperature level for the input and\n",
    "output flows except a single reference flow. The reference flow will be the heat output of the heat pump. Therefore,\n",
    "we need to calculate the electricity conversion factor and normed offset as a function of the heat output with the\n",
    "`least_squares` function, dump the results into a new `DataFrame` and export to csv.\n",
    "\n",
    "```{caution}\n",
    "`oemof-solph` expects a normed offset, that is the offset value divided by the rated heat output.\n",
    "```"
   ]
  },
  {
   "cell_type": "code",
   "execution_count": null,
   "metadata": {},
   "outputs": [],
   "source": [
    "export_df = pd.DataFrame(index=temperature_range, columns=[\"slope\", \"offset\"])\n",
    "\n",
    "for key, data in results.items():\n",
    "    x = -data.index.values.astype(float)\n",
    "    y = data[\"compressor-power\"].values.astype(float)\n",
    "    export_df.loc[key] = least_squares(x, y)\n",
    "\n",
    "export_df[\"offset\"] /= -Q_design\n",
    "export_df.to_csv(\"coefficients-offset-converter.csv\")"
   ]
  }
 ],
 "metadata": {
  "interpreter": {
   "hash": "bd8d683b2b7a984c708b0e285fe12e85cc3979cad656f2247d8c1435c45a50dd"
  },
  "kernelspec": {
   "display_name": "Python 3.9.13 ('tespy_env')",
   "language": "python",
   "name": "python3"
  },
  "language_info": {
   "codemirror_mode": {
    "name": "ipython",
    "version": 3
   },
   "file_extension": ".py",
   "mimetype": "text/x-python",
   "name": "python",
   "nbconvert_exporter": "python",
   "pygments_lexer": "ipython3",
   "version": "3.10.0"
  },
  "orig_nbformat": 4
 },
 "nbformat": 4,
 "nbformat_minor": 2
}
