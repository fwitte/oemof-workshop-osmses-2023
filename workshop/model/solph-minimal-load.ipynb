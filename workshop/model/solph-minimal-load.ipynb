{
 "cells": [
  {
   "cell_type": "markdown",
   "metadata": {},
   "source": [
    "(solph-minimal-load)=\n",
    "\n",
    "# oemof-solph model with minimal load\n",
    "\n",
    "In this section we are looking into the introduction of minimal load in the `oemof-solph` model. Until now, we assumed\n",
    "the heat pump can deliver any amount of heat up to its nominal capacity. This assumption holds especially in large scale\n",
    "energy systems, where single plant instances do not affect the overall outcomes and part load operation blurs in the\n",
    "system, in small scale systems this might not be the case. Therefore, we have a look how a minimal load affects our\n",
    "model.\n",
    "\n",
    "We recreate the latest setup, where we combine the TESPy simulation outcome with the energy system. Then we add a heat\n",
    "pump which, if operated, must at least provide a heat load of 50 % of its nominal capacity.\n"
   ]
  },
  {
   "cell_type": "code",
   "execution_count": null,
   "metadata": {},
   "outputs": [],
   "source": [
    "from utilities import load_input_data, create_energy_system_stub\n",
    "input_data = load_input_data().head(24*3)\n",
    "\n",
    "es, bus_electricity, bus_heat_35C = create_energy_system_stub(input_data)\n",
    "\n",
    "from utilities import load_tespy_cop\n",
    "\n",
    "tespy_cop = load_tespy_cop()\n",
    "input_data[\"simple TESPy COP\"] = input_data[\"Ambient temperature (d°C)\"].map(tespy_cop[\"COP\"])"
   ]
  },
  {
   "cell_type": "markdown",
   "metadata": {},
   "source": [
    "The important modification we have to apply to our heat pump is constraining the heat production with a minimum value\n",
    "and using a `NonConvex` flow instead of a `Flow`, which introduces a binary variable. All other parts remain untouched."
   ]
  },
  {
   "cell_type": "code",
   "execution_count": null,
   "metadata": {},
   "outputs": [],
   "source": [
    "import oemof.solph as solph\n",
    "\n",
    "\n",
    "hp_thermal_power = 9.1  # kW\n",
    "cop = input_data[\"simple TESPy COP\"][:-1]\n",
    "\n",
    "heat_pump = solph.components.Transformer(\n",
    "    label=\"heat pump\",\n",
    "    inputs={bus_electricity: solph.Flow()},\n",
    "    outputs={\n",
    "        bus_heat_35C: solph.Flow(\n",
    "            nominal_value=hp_thermal_power,\n",
    "            nonconvex=solph.NonConvex(),\n",
    "            min=0.5,\n",
    "        )\n",
    "    },\n",
    "    conversion_factors={\n",
    "        bus_electricity: 1 / cop,\n",
    "        bus_heat_35C: 1,\n",
    "    },\n",
    ")\n",
    "\n",
    "es.add(heat_pump)"
   ]
  },
  {
   "cell_type": "markdown",
   "metadata": {},
   "source": [
    "We can again run our model and have a look at the results."
   ]
  },
  {
   "cell_type": "code",
   "execution_count": null,
   "metadata": {},
   "outputs": [],
   "source": [
    "\n",
    "model = solph.Model(energysystem=es)\n",
    "model.solve()\n",
    "results = solph.processing.results(model)"
   ]
  },
  {
   "cell_type": "markdown",
   "metadata": {},
   "source": [
    "From {numref}`results-solph-minload` you can see how the minimum load restrictions impacts the operation of the heat\n",
    "pump. While the storage was barely used in the first two examples, now heat demand below the minimum heat pump load\n",
    "cannot be met directly from the heat pump, but has to be buffered by the storage. Still, the storage operation is held\n",
    "at a minimum, to reduce the time dependent storage losses. The change in electricity consumption is larger compared to\n",
    "our previous model additions, i.e. it changes from {glue:text}`results-electricity-simple-tespy` kWh to\n",
    "{glue:text}`results-electricity-minload` kWh.\n",
    "\n",
    "```{glue:figure} results-solph-minload\n",
    ":name: \"results-solph-minload\"\n",
    "\n",
    "Operation of the heat pump modeled with a minimal load of 50 % of the nominal load.\n",
    "```"
   ]
  },
  {
   "cell_type": "code",
   "execution_count": null,
   "metadata": {},
   "outputs": [],
   "source": [
    "from matplotlib import pyplot as plt\n",
    "from utilities import sumarise_solph_results\n",
    "\n",
    "fig, electricity_total = sumarise_solph_results(results)\n",
    "plt.close()"
   ]
  },
  {
   "cell_type": "code",
   "execution_count": null,
   "metadata": {
    "tags": [
     "remove-cell"
    ]
   },
   "outputs": [],
   "source": [
    "from myst_nb import glue\n",
    "glue(\"results-solph-minload\", fig, display=False)\n",
    "glue(\"results-electricity-minload\", electricity_total, display=False)"
   ]
  }
 ],
 "metadata": {
  "interpreter": {
   "hash": "bd8d683b2b7a984c708b0e285fe12e85cc3979cad656f2247d8c1435c45a50dd"
  },
  "kernelspec": {
   "display_name": "Python 3.9.13 ('tespy_env')",
   "language": "python",
   "name": "python3"
  },
  "language_info": {
   "codemirror_mode": {
    "name": "ipython",
    "version": 3
   },
   "file_extension": ".py",
   "mimetype": "text/x-python",
   "name": "python",
   "nbconvert_exporter": "python",
   "pygments_lexer": "ipython3",
   "version": "3.10.0"
  }
 },
 "nbformat": 4,
 "nbformat_minor": 2
}
