{
 "cells": [
  {
   "cell_type": "markdown",
   "metadata": {},
   "source": [
    "(solph-linear-tespy)=\n",
    "\n",
    "# Combining oemof-solph and TESPy\n",
    "\n",
    "After running the TESPy model to determine the COP at different ambient temperature values, the next steps are as\n",
    "follows:\n",
    "\n",
    "- read the results fromt he TESPy model,\n",
    "- make an interpolation to map the results to the actual ambient temperature time series and\n",
    "- pass the COP time series to the heat pump in the `oemof-solph` model.\n",
    "\n",
    "```{note}\n",
    "The `oemof-solph` model will have the identical components as in the previous model. The only change is, that we use a\n",
    "different source for our COP time series. We will therefore import a ready to use `oemof-solph` `EnergySysten` from our\n",
    "utilities script to save some space here and only add the heat pump.\n",
    "```"
   ]
  },
  {
   "cell_type": "code",
   "execution_count": null,
   "metadata": {},
   "outputs": [],
   "source": [
    "from utilities import load_input_data, create_energy_system_stub\n",
    "input_data = load_input_data().head(24*3)\n",
    "\n",
    "es, bus_electricity, bus_heat_35C, thermal_storage, electricity_grid = create_energy_system_stub(input_data)"
   ]
  },
  {
   "cell_type": "markdown",
   "metadata": {},
   "source": [
    "## Build the heat pump model\n",
    "\n",
    "To build the heat pump model we load the COP from the TESPy simulation first and then map the ambient temperature data\n",
    "from our ambient temperature time series to the TESPy lookup data."
   ]
  },
  {
   "cell_type": "code",
   "execution_count": null,
   "metadata": {},
   "outputs": [],
   "source": [
    "from utilities import load_tespy_cop\n",
    "\n",
    "tespy_cop = load_tespy_cop()\n",
    "tespy_cop"
   ]
  },
  {
   "cell_type": "markdown",
   "metadata": {},
   "source": [
    "We can compare the TESPy COP with the datasheet and constant efficiency factor approach in\n",
    "{numref}`cop-timeseries-tespy-vs-efficiency-factor`. They are, as expected, very similar.\n",
    "\n",
    "```{glue:figure} cop-timeseries-tespy-vs-efficiency-factor\n",
    ":name: \"cop-timeseries-tespy-vs-efficiency-factor\"\n",
    "\n",
    "Comparison of the COP time series from the constant efficiency method with the TESPy model.\n",
    "```"
   ]
  },
  {
   "cell_type": "code",
   "execution_count": null,
   "metadata": {},
   "outputs": [],
   "source": [
    "input_data[\"simple TESPy COP\"] = input_data[\"Ambient temperature (d°C)\"].map(tespy_cop[\"COP\"])\n",
    "\n",
    "\n",
    "datasheet_cop = 4.9\n",
    "carnot_cop_2_40 = (40+273.15) / (40-2)\n",
    "cpf_2_40 = datasheet_cop / carnot_cop_2_40\n",
    "\n",
    "input_data[\"cpf COP 2 -> 40\"] = cpf_2_40 * (40 + 273.15) / (40 - input_data[\"Ambient temperature (°C)\"] + 5)\n",
    "\n",
    "\n",
    "from matplotlib import pyplot as plt\n",
    "\n",
    "\n",
    "fig, ax = plt.subplots(1)\n",
    "\n",
    "ax.plot(input_data[\"Ambient temperature (d°C)\"]/10, \"b-\")\n",
    "ax.set_ylabel(\"Ambient temperature (°C)\").set_color(\"blue\")\n",
    "ax.set_xlabel(\"timestamp\")\n",
    "\n",
    "ax2 = ax.twinx()\n",
    "\n",
    "ax2.plot(input_data[\"simple TESPy COP\"], \"r-\")\n",
    "ax2.plot(input_data[\"cpf COP 2 -> 40\"], \"r--\")\n",
    "ax2.set_ylabel(\"COP\").set_color(\"red\")\n",
    "\n",
    "plt.close()\n"
   ]
  },
  {
   "cell_type": "code",
   "execution_count": null,
   "metadata": {},
   "outputs": [],
   "source": [
    "from myst_nb import glue\n",
    "glue(\"cop-timeseries-tespy-vs-efficiency-factor\", fig, display=False)"
   ]
  },
  {
   "cell_type": "code",
   "execution_count": null,
   "metadata": {},
   "outputs": [],
   "source": [
    "import oemof.solph as solph\n",
    "\n",
    "\n",
    "hp_thermal_power = 9.1  # kW\n",
    "cop = input_data[\"simple TESPy COP\"][:-1]\n",
    "\n",
    "heat_pump = solph.components.Transformer(\n",
    "    label=\"heat pump\",\n",
    "    inputs={bus_electricity: solph.Flow()},\n",
    "    outputs={bus_heat_35C: solph.Flow(nominal_value=hp_thermal_power)},\n",
    "    conversion_factors={\n",
    "        bus_electricity: 1 / cop,\n",
    "        bus_heat_35C: 1,\n",
    "    },\n",
    ")\n",
    "\n",
    "es.add(heat_pump)"
   ]
  },
  {
   "cell_type": "markdown",
   "metadata": {},
   "source": [
    "## Run the model\n",
    "\n",
    "Finally we can run our optimization model and read the results again."
   ]
  },
  {
   "cell_type": "code",
   "execution_count": null,
   "metadata": {},
   "outputs": [],
   "source": [
    "model = solph.Model(energysystem=es)\n",
    "model.solve()\n",
    "results = solph.processing.results(model)"
   ]
  },
  {
   "cell_type": "code",
   "execution_count": null,
   "metadata": {},
   "outputs": [],
   "source": [
    "import numpy as np\n",
    "\n",
    "demand = input_data[\"Heat load (kW)\"][:-1]\n",
    "\n",
    "\n",
    "heat_supply = results[(heat_pump, bus_heat_35C)][\"sequences\"][\"flow\"]\n",
    "storage_content = results[(thermal_storage, None)][\"sequences\"][\"storage_content\"]\n",
    "\n",
    "plt.plot(np.sort(heat_supply)[::-1], \"r-\", label=\"heat supply\")\n",
    "plt.plot(np.sort(demand)[::-1], \"b--\", label=\"heat demand\")\n",
    "plt.ylabel(\"Power (kW)\")\n",
    "plt.grid()\n",
    "plt.legend()\n",
    "\n",
    "plt.figure()\n",
    "plt.plot(heat_supply, \"r-\", label=\"heat supply\", drawstyle=\"steps-post\")\n",
    "plt.plot(demand, \"b--\", label=\"heat demand\", drawstyle=\"steps-post\")\n",
    "plt.plot(storage_content, \"k-\", label=\"storage content\")\n",
    "plt.ylabel(\"Power (kW) or Energy (kWh)\")\n",
    "plt.grid()\n",
    "plt.legend()\n",
    "\n",
    "electricity_consumption = float(results[(electricity_grid, bus_electricity)][\"sequences\"].sum())\n",
    "print(f\"Electricity demand: {electricity_consumption:.1f} kWh\")"
   ]
  }
 ],
 "metadata": {
  "interpreter": {
   "hash": "bd8d683b2b7a984c708b0e285fe12e85cc3979cad656f2247d8c1435c45a50dd"
  },
  "kernelspec": {
   "display_name": "Python 3.9.13 ('tespy_env')",
   "language": "python",
   "name": "python3"
  },
  "language_info": {
   "codemirror_mode": {
    "name": "ipython",
    "version": 3
   },
   "file_extension": ".py",
   "mimetype": "text/x-python",
   "name": "python",
   "nbconvert_exporter": "python",
   "pygments_lexer": "ipython3",
   "version": "3.10.0"
  },
  "orig_nbformat": 4
 },
 "nbformat": 4,
 "nbformat_minor": 2
}
