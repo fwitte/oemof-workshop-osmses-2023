{
 "cells": [
  {
   "cell_type": "markdown",
   "metadata": {},
   "source": [
    "(solph-linear)=\n",
    "\n",
    "# Linear oemof-solph heat pump model\n",
    "\n",
    "In the first section we will implement a heat pump with the Carnot COP method and a linear efficiency factor. For that\n",
    "we are going to build the system shown in {numref}`Systemoverview` using `oemof-solph`.\n",
    "\n",
    "## Build the model\n",
    "\n",
    "### General setup\n",
    "\n",
    "First we are building the components of the system. We do that, by importing the library and create the `Bus` components\n",
    "and the electricity grid connection first."
   ]
  },
  {
   "cell_type": "code",
   "execution_count": null,
   "metadata": {},
   "outputs": [],
   "source": [
    "import oemof.solph as solph\n",
    "\n",
    "\n",
    "b_electricity = solph.Bus(label=\"electricity\")\n",
    "b_heat_35C = solph.Bus(label=\"heat 35C\")\n",
    "\n",
    "electricity_grid = solph.components.Source(\n",
    "    label=\"electricity grid\",\n",
    "    outputs={b_electricity: solph.Flow(variable_costs=0.4)},  # €/kWh\n",
    ")"
   ]
  },
  {
   "cell_type": "markdown",
   "metadata": {},
   "source": [
    "### Storage\n",
    "\n",
    "Next we add our storage to the system. The storage is connected to the heat bus and has a specified loss rate of 2 %.\n",
    "The nominal capacity of the storage will be 8.7 kWh."
   ]
  },
  {
   "cell_type": "code",
   "execution_count": null,
   "metadata": {},
   "outputs": [],
   "source": [
    "thermal_storage = solph.components.GenericStorage(\n",
    "    label='thermal storage',\n",
    "    inputs={b_heat_35C: solph.Flow()},\n",
    "    outputs={b_heat_35C: solph.Flow()},\n",
    "    loss_rate=0.02,\n",
    "    nominal_storage_capacity=8.7,  # Assume 5 k of spread and 1.5 m³ volume \n",
    ")"
   ]
  },
  {
   "cell_type": "markdown",
   "metadata": {},
   "source": [
    "### Heat demand\n",
    "\n",
    "For our heat demand we need a timeseries. We have prepared the data and can load them with a predefined function in\n",
    "this tutorial."
   ]
  },
  {
   "cell_type": "code",
   "execution_count": null,
   "metadata": {},
   "outputs": [],
   "source": [
    "from utilities import load_input_data\n",
    "\n",
    "\n",
    "input_data = load_input_data().head(24*2)\n",
    "demand = input_data[\"Heat load (kW)\"][:-1]\n",
    "\n",
    "demand"
   ]
  },
  {
   "cell_type": "markdown",
   "metadata": {},
   "source": [
    "That demand time series can be connected to a `Sink` component."
   ]
  },
  {
   "cell_type": "code",
   "execution_count": null,
   "metadata": {},
   "outputs": [],
   "source": [
    "heat_demand = solph.components.Sink(\n",
    "    label=\"heat demand\",\n",
    "    inputs={b_heat_35C: solph.Flow(nominal_value=1, fix=demand)},  # kW\n",
    ")"
   ]
  },
  {
   "cell_type": "markdown",
   "metadata": {},
   "source": [
    "### Heat Pump\n",
    "\n",
    "Now, we want to add an air-source heat-pump. From a quick research we find the following example {cite}`viessmann2023`:\n",
    "\n",
    "* Rated heating output (kW) at operating point A7/W35: 9.1 kW\n",
    "* Coefficient of performance COP A7/W35: 4.9\n",
    "\n",
    "From the datasheet we know what the COP of the heat pump is for a specific set of temperatures at nominal load, i.e.\n",
    "\n",
    "- an ambient temperature of 7 °C and\n",
    "- heat production temperature of 35 °C.\n",
    "\n",
    "However, we do not know, the COP at ambient temperature levels different from 7 °C. With the efficiency factor from\n",
    "eq. {eq}`cop-heat-pump-carnot-and-efficiency` and the definition of the Carnot COP (eq. {eq}`carnot-cop-heat-pump`) we\n",
    "can find the actual COP of the heat pump **under the assumption, that the efficiency factor is a constant value**. We\n",
    "can plot the data "
   ]
  },
  {
   "cell_type": "code",
   "execution_count": null,
   "metadata": {},
   "outputs": [],
   "source": [
    "datasheet_cop = 4.9\n",
    "\n",
    "carnot_cop_7_35 = (35+273.15) / (35-7)\n",
    "cpf_7_35 = datasheet_cop / carnot_cop_7_35\n",
    "\n",
    "input_data[\"cpf COP 7 -> 35\"] = cpf_7_35 * (35+273.15) / (35 - input_data[\"Ambient temperature (°C)\"])"
   ]
  },
  {
   "cell_type": "code",
   "execution_count": null,
   "metadata": {
    "tags": [
     "remove-cell"
    ]
   },
   "outputs": [],
   "source": [
    "from myst_nb import glue\n",
    "from utilities import TTD_HEAT_EXCHANGERS, HEATING_SYSTEM_FEED_TEMP, AMBIENT_TEMP_NOMINAL\n",
    "glue(\"heat-exchanger-ttd\", TTD_HEAT_EXCHANGERS, display=False)\n",
    "glue(\"evaporation-temperature\", AMBIENT_TEMP_NOMINAL - TTD_HEAT_EXCHANGERS, display=False)\n",
    "glue(\"condensation-temperature\", HEATING_SYSTEM_FEED_TEMP + TTD_HEAT_EXCHANGERS, display=False)"
   ]
  },
  {
   "cell_type": "markdown",
   "metadata": {},
   "source": [
    "However, note that we have to use the maximum and minimum temperature of the process when working with the Carnot COP.\n",
    "The figure {numref}`heat-pump-black-box-vs-process` shows two different representations of the heat pump: One as a black\n",
    "box and one as component based process. In the black box process, we only see the temperature levels of the air and the\n",
    "water system. In the actual heat pump heat is transferred from the air to the working fluid and from the working fluid\n",
    "to the water system. This cannot happen without thermodynamic losses, meaning that the temperature of the working fluid\n",
    "must be lower than the air temperature when evaporating and the temperature must be higher when condensing and providing\n",
    "heat to the water system. This however changes our reference temperature levels for the Carnot COP, as the maximum and\n",
    "minimum temperatures of the process are not the air and water temperatures but refer to the working fluid.\n",
    "\n",
    "```{figure} /figures/heat_pump_blackbox_comparison.svg\n",
    "---\n",
    "alt: Heat pump black box compared to actual heat pump process\n",
    "name: heat-pump-black-box-vs-process\n",
    "---\n",
    "Heat pump black box compared to actual heat pump process\n",
    "```\n",
    "\n",
    "Since we do not have any internal data of the heat pump, we have to make an assumption to determine the Carnot COP in\n",
    "this way. For both heat exchangers we assume a temperature difference of {glue:text}`heat-exchanger-ttd` K, therefore\n",
    "a condensation temperature of {glue:text}`condensation-temperature` °C and an evaporation temperature of\n",
    "{glue:text}`evaporation-temperature` °C. This changes our Carnot COP, and given, that we want to have the same COP as in\n",
    "our first assessment, the efficiency factor."
   ]
  },
  {
   "cell_type": "code",
   "execution_count": null,
   "metadata": {},
   "outputs": [],
   "source": [
    "import numpy as np\n",
    "\n",
    "carnot_cop_2_40 = (40+273.15) / (40-2)\n",
    "cpf_2_40 = datasheet_cop / carnot_cop_2_40\n",
    "\n",
    "input_data[\"cpf COP 2 -> 40\"] = cpf_2_40 * (40 + 273.15) / (40 - input_data[\"Ambient temperature (°C)\"] + 5)\n",
    "\n",
    "\n",
    "temperature_range = np.arange(-10, 21)\n",
    "cop_7_35 = cpf_7_35 * (35 + 273.15) / (35 - temperature_range)\n",
    "cop_2_40 = cpf_2_40 * (40 + 273.15) / (40 - temperature_range + 5)"
   ]
  },
  {
   "cell_type": "markdown",
   "metadata": {},
   "source": [
    "We can have a look at the difference between both approaches in {numref}`cop-reference-temperature-variants`. The left\n",
    "subplot shows the COP with both approaches over a range of the ambient temperature between -10 and 20 °C. There we can\n",
    "see, that both methods yield the same outcome for 7 °C, i.e. 4.9. For higher temperatures the variant with 7/35 as\n",
    "reference temperatures is higher, for the lower temperatures the variant with 2/40 as reference temperatures has a\n",
    "higher COP. The right subplot shows the COP time series for our application example. Since the ambient temperature is\n",
    "mostly higher than 7 °C, the implementation of the 7/35 variant will have higher COP most of the time.\n",
    "\n",
    "```{glue:figure} cop-reference-temperature-variants\n",
    ":name: \"cop-reference-temperature-variants\"\n",
    "\n",
    "Comparison of the COP of the heat pump calculated with 7/35 and 2/40 as reference temperature values.\n",
    "```"
   ]
  },
  {
   "cell_type": "code",
   "execution_count": null,
   "metadata": {},
   "outputs": [],
   "source": [
    "import matplotlib.pyplot as plt\n",
    "\n",
    "\n",
    "fig, ax  = plt.subplots(1, 2, sharey=True, figsize=(12, 5))\n",
    "\n",
    "ax[0].plot(temperature_range, cop_7_35, label=\"COP 7;35\")\n",
    "ax[0].plot(temperature_range, cop_2_40, label=\"COP 2;40\")\n",
    "\n",
    "ax[0].set_ylabel(\"COP\")\n",
    "ax[0].set_xlabel(\"Ambient temperature\")\n",
    "\n",
    "ax[1].plot(input_data[\"cpf COP 7 -> 35\"])\n",
    "ax[1].plot(input_data[\"cpf COP 2 -> 40\"])\n",
    "\n",
    "ax[0].legend()\n",
    "\n",
    "_ = ax[1].set_xlabel(\"timestep\")\n",
    "\n",
    "plt.close()"
   ]
  },
  {
   "cell_type": "code",
   "execution_count": null,
   "metadata": {
    "tags": [
     "remove-cell"
    ]
   },
   "outputs": [],
   "source": [
    "glue(\"cop-reference-temperature-variants\", fig, display=False)"
   ]
  },
  {
   "cell_type": "markdown",
   "metadata": {},
   "source": [
    "With this information we can create the heat pump, we will use the 2/40 temperature reference."
   ]
  },
  {
   "cell_type": "code",
   "execution_count": null,
   "metadata": {},
   "outputs": [],
   "source": [
    "hp_thermal_power = 9.1  # kW\n",
    "\n",
    "cop = input_data[\"cpf COP 2 -> 40\"][:-1]"
   ]
  },
  {
   "cell_type": "code",
   "execution_count": null,
   "metadata": {},
   "outputs": [],
   "source": [
    "heat_pump = solph.components.Transformer(\n",
    "    label=\"heat pump\",\n",
    "    inputs={b_electricity: solph.Flow()},\n",
    "    outputs={b_heat_35C: solph.Flow(nominal_value=hp_thermal_power)},\n",
    "    conversion_factors={\n",
    "        b_electricity: 1 / cop,\n",
    "        b_heat_35C: 1,\n",
    "    },\n",
    ")"
   ]
  },
  {
   "cell_type": "markdown",
   "metadata": {},
   "source": [
    "### Optimize the energy system\n",
    "\n",
    "Finally, with all components in place we can create the energy system, add the components and run the optimization."
   ]
  },
  {
   "cell_type": "code",
   "execution_count": null,
   "metadata": {},
   "outputs": [],
   "source": [
    "es = solph.EnergySystem(timeindex=input_data.index, infer_last_interval=False)\n",
    "\n",
    "es.add(b_electricity, b_heat_35C)\n",
    "es.add(electricity_grid, heat_demand)\n",
    "es.add(heat_pump)\n",
    "es.add(thermal_storage)\n",
    "\n",
    "model = solph.Model(energysystem=es)\n",
    "model.solve()\n",
    "results = solph.processing.results(model)"
   ]
  },
  {
   "cell_type": "markdown",
   "metadata": {},
   "source": [
    "After running the optimization we extract the results and create a figure for the duration curve of the heat pump\n",
    "operation and the demand time series as well as the dispatch of the heat pump and the storage.\n",
    "{numref}`results-solph-simple` shows the results of our first simple implementation. The heat pump is mostly operated in\n",
    "a way to provide the heat demand directly without using the storage as the storage losses make that option unattractive.\n",
    "Only in a single time step the heat pump feeds additional heat to the storage to make use of a advantageous COP for the\n",
    "production of the heat. A total of {glue}`results-electricity-simple` kWh of electricity is consumed.\n",
    "\n",
    "```{glue:figure} results-solph-simple\n",
    ":name: \"results-solph-simple\"\n",
    "\n",
    "Results of the simple heat pump setup.\n",
    "```\n",
    "\n",
    "```{tip}\n",
    "We have included a function `sumarise_solph_results`, which extracts the dispatch of the heat pump, the demand and the\n",
    "storage filling level to create comparable plots in all sections.\n",
    "```\n",
    "\n",
    "```{literalinclude} utilities.py\n",
    ":language: python\n",
    ":pyobject: sumarise_solph_results\n",
    "```"
   ]
  },
  {
   "cell_type": "code",
   "execution_count": null,
   "metadata": {},
   "outputs": [],
   "source": [
    "from utilities import sumarise_solph_results\n",
    "\n",
    "fig, electricity_total = sumarise_solph_results(results)\n",
    "plt.close()"
   ]
  },
  {
   "cell_type": "code",
   "execution_count": null,
   "metadata": {
    "tags": [
     "remove-cell"
    ]
   },
   "outputs": [],
   "source": [
    "glue(\"results-solph-simple\", fig, display=False)\n",
    "glue(\"results-electricity-simple\", round(electricity_total, 2), display=False)"
   ]
  }
 ],
 "metadata": {
  "interpreter": {
   "hash": "bd8d683b2b7a984c708b0e285fe12e85cc3979cad656f2247d8c1435c45a50dd"
  },
  "kernelspec": {
   "display_name": "Python 3.9.13 ('tespy_env')",
   "language": "python",
   "name": "python3"
  },
  "language_info": {
   "codemirror_mode": {
    "name": "ipython",
    "version": 3
   },
   "file_extension": ".py",
   "mimetype": "text/x-python",
   "name": "python",
   "nbconvert_exporter": "python",
   "pygments_lexer": "ipython3",
   "version": "3.10.0"
  },
  "orig_nbformat": 4
 },
 "nbformat": 4,
 "nbformat_minor": 2
}
