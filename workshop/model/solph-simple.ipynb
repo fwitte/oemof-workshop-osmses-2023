{
 "cells": [
  {
   "cell_type": "markdown",
   "metadata": {},
   "source": [
    "(solph-linear)=\n",
    "\n",
    "# Linear solph heat pump model"
   ]
  },
  {
   "cell_type": "code",
   "execution_count": null,
   "metadata": {},
   "outputs": [],
   "source": [
    "import pandas as pd\n",
    "import numpy as np\n",
    "import matplotlib.pyplot as plt\n",
    "\n",
    "def load_temperature_data():\n",
    "    \"\"\"Returns temperature (in °C) over timestamp\n",
    "    \"\"\"\n",
    "    # weather data from https://wetterstation.physik.rwth-aachen.de/datenbank.php\n",
    "    df = pd.read_csv(\"../2023_Stundenstatistik.txt\", delim_whitespace=True)\n",
    "    df.index = (pd.to_datetime(\n",
    "        [\n",
    "            f\"{year}-{month}-{day} {hour}:00:00\"\n",
    "            for year, month, day, hour in zip(df['#Jahr'], df['Monat'], df['Tag'], df['Stunde'])\n",
    "        ]\n",
    "    ))\n",
    "    df = df[[\"T_Mid\"]]\n",
    "    df.rename(columns={\"T_Mid\": \"Ambient temperature (°C)\"}, inplace=True)\n",
    "\n",
    "    return df\n",
    "\n",
    "\n",
    "input_data = load_temperature_data().head(24*3)\n",
    "\n",
    "# A crude demand model should be enough for us. Let the demand be 500 W per K below 15 °C.\n",
    "input_data[\"Heat load (kW)\"] = (0.5 * (15 - input_data[\"Ambient temperature (°C)\"])).clip(lower=0)\n",
    "\n",
    "plt.plot(input_data[\"Ambient temperature (d°C)\"]/10, \"b-\")\n",
    "plt.ylabel(\"Ambient temperature (°C)\").set_color(\"blue\")\n",
    "\n",
    "plt.twinx()\n",
    "\n",
    "plt.plot(input_data[\"simple TESPy COP\"], \"r-\")\n",
    "plt.ylabel(\"COP\").set_color(\"red\")\n",
    "\n",
    "plt.show()\n"
   ]
  },
  {
   "cell_type": "markdown",
   "metadata": {},
   "source": [
    "Now, we want to add an air-source heat-pump centered heat supply system.  Short online research for example yields:\n",
    "\n",
    "* Rated heating output (kW) at operating point A7/W35: 9.1 kW\n",
    "* Coefficient of performance ε (COP) A7/W35: 4.9\n",
    "\n",
    "(https://www.viessmann.co.uk/en/products/heat-pump/vitocal-150a.html,  type 150.A16)"
   ]
  },
  {
   "cell_type": "code",
   "execution_count": null,
   "metadata": {},
   "outputs": [],
   "source": [
    "datasheet_cop = 4.9\n",
    "carnot_cop_7_35 = (35+273.15) / (35-7)\n",
    "cpf_7_35 = datasheet_cop / carnot_cop_7_35\n",
    "\n",
    "carnot_cop_2_40 = (40+273.15) / (40-2)\n",
    "cpf_2_40 = datasheet_cop / carnot_cop_2_40\n",
    "\n",
    "input_data[\"cpf COP 7 -> 35\"] = cpf_7_35 * (35+273.15) / (35 - input_data[\"Ambient temperature (°C)\"])\n",
    "input_data[\"cpf COP 2 -> 40\"] = cpf_2_40 * (40+273.15) / (40 - input_data[\"Ambient temperature (°C)\"] + 5)"
   ]
  },
  {
   "cell_type": "code",
   "execution_count": null,
   "metadata": {},
   "outputs": [],
   "source": [
    "plt.plot(input_data[\"Ambient temperature (°C)\"], \"b-\")\n",
    "plt.ylabel(\"Ambient temperature (°C)\").set_color(\"blue\")\n",
    "\n",
    "plt.twinx()\n",
    "\n",
    "plt.plot(input_data[\"cpf COP 7 -> 35\"], \"r-\")\n",
    "plt.plot(input_data[\"cpf COP 2 -> 40\"], \"r--\")\n",
    "plt.ylabel(\"COP\").set_color(\"red\")\n",
    "\n",
    "plt.show()"
   ]
  },
  {
   "cell_type": "code",
   "execution_count": null,
   "metadata": {},
   "outputs": [],
   "source": [
    "hp_thermal_power = 9.1  # kW\n",
    "cop = input_data[\"constant efficiency COP\"][:-1]\n",
    "demand = input_data[\"Heat load (kW)\"][:-1]"
   ]
  },
  {
   "cell_type": "code",
   "execution_count": null,
   "metadata": {},
   "outputs": [],
   "source": [
    "import oemof.solph as solph\n",
    "\n",
    "es = solph.EnergySystem(timeindex=input_data.index, infer_last_interval=False)\n",
    "\n",
    "b_electricity = solph.Bus(label=\"electricity\")\n",
    "b_heat_35C = solph.Bus(label=\"heat 35C\")\n",
    "es.add(b_electricity, b_heat_35C)\n",
    "\n",
    "electricity_grid = solph.components.Source(\n",
    "    label=\"electricity grid\",\n",
    "    outputs={b_electricity: solph.Flow(variable_costs=0.4)},  # €/kWh\n",
    ")\n",
    "\n",
    "heat_demand = solph.components.Sink(\n",
    "    label=\"heat demand\",\n",
    "    inputs={b_heat_35C: solph.Flow(nominal_value=1, fix=demand)},  # kW\n",
    ")\n",
    "es.add(electricity_grid, heat_demand)\n",
    "\n",
    "\n",
    "heat_pump = solph.components.Transformer(\n",
    "    label=\"heat pump\",\n",
    "    inputs={b_electricity: solph.Flow()},\n",
    "    outputs={b_heat_35C: solph.Flow(nominal_value=hp_thermal_power)},\n",
    "    conversion_factors={\n",
    "        b_electricity: 1 / cop,\n",
    "        b_heat_35C: 1,\n",
    "    },\n",
    ")\n",
    "\n",
    "es.add(heat_pump)\n",
    "\n",
    "es.add(solph.components.Transformer(\n",
    "    label=\"heating rod\",\n",
    "    inputs={b_electricity: solph.Flow()},\n",
    "    outputs={b_heat_35C: solph.Flow()},\n",
    "))\n",
    "\n",
    "thermal_storage = solph.components.GenericStorage(\n",
    "    label='thermal_storage',\n",
    "    inputs={b_heat_35C: solph.Flow()},\n",
    "    outputs={b_heat_35C: solph.Flow()},\n",
    "    nominal_storage_capacity=8.7,  # Assume 5 k of spread and 1.5 m³ volume \n",
    ")\n",
    "\n",
    "es.add(thermal_storage)\n",
    "\n",
    "model = solph.Model(energysystem=es)\n",
    "\n",
    "model.solve()\n",
    "\n",
    "results = solph.processing.results(model)\n",
    "\n"
   ]
  },
  {
   "cell_type": "code",
   "execution_count": null,
   "metadata": {},
   "outputs": [],
   "source": [
    "heat_supply = results[(heat_pump, b_heat_35C)][\"sequences\"][\"flow\"]\n",
    "\n",
    "plt.plot(np.sort(heat_supply)[::-1], \"r-\", label=\"heat supply\")\n",
    "plt.plot(np.sort(demand)[::-1], \"b-\", label=\"heat demand\")\n",
    "plt.ylabel(\"Power (kW)\")\n",
    "plt.grid()\n",
    "plt.legend()\n",
    "\n",
    "electricity_consumption = float(results[(electricity_grid, b_electricity)][\"sequences\"].sum())\n",
    "print(f\"Electricity demand: {electricity_consumption:.1f} kWh\")\n",
    "\n",
    "plt.show()\n"
   ]
  }
 ],
 "metadata": {
  "interpreter": {
   "hash": "bd8d683b2b7a984c708b0e285fe12e85cc3979cad656f2247d8c1435c45a50dd"
  },
  "kernelspec": {
   "display_name": "Python 3.9.13 ('tespy_env')",
   "language": "python",
   "name": "python3"
  },
  "language_info": {
   "codemirror_mode": {
    "name": "ipython",
    "version": 3
   },
   "file_extension": ".py",
   "mimetype": "text/x-python",
   "name": "python",
   "nbconvert_exporter": "python",
   "pygments_lexer": "ipython3",
   "version": "3.10.8"
  },
  "orig_nbformat": 4
 },
 "nbformat": 4,
 "nbformat_minor": 2
}
