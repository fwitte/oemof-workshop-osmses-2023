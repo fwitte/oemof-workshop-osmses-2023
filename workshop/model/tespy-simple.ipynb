{
 "cells": [
  {
   "cell_type": "markdown",
   "metadata": {},
   "source": [
    "(tespy-simple)=\n",
    "\n",
    "# Simple TESPy heat pump model\n",
    "\n",
    "## Introduction\n",
    "\n",
    "In this section we will build a thermodynamic simulation model of the heat pump to determine the efficiency as function\n",
    "of the ambient air temperature. For that, we build a TESPy model following the information from the flowsheet in figure\n",
    "{ref}`tespy-heat-pump-flowsheet`.\n",
    "\n",
    "```{figure} /figures/heat_pump.svg\n",
    "---\n",
    "alt: Component based thermodynamic model of the heat pump in TESPy\n",
    "name: tespy-heat-pump-flowsheet\n",
    "---\n",
    "Component based thermodynamic model of the heat pump in TESPy\n",
    "```\n",
    "\n",
    "The table summarizes the assumptions made for the heat pump model.\n",
    "\n",
    "| parameter description   | model location | model parameter | value | unit |\n",
    "|:----------------------- |:-------------- |:--------------- | -----:|:---- |\n",
    "| compressor efficiency   | compressor     | `eta_s`         |    80 | %    |\n",
    "| evaporation temperature | 2              | `T`             |    10 | °C   |\n",
    "| condensation temperatre | 4              | `T`             |    50 | °C   |\n",
    "| heat delivered          | condenser      | `Q`             |   -10 | kW   |\n",
    "\n",
    "````{note}\n",
    "The delivered heat value is negative, since heat is extracted from the fluid. The sign convention in TESPy refers to\n",
    "the open system energy balance, where heat and work transferred over the systems boundary change the enthalpy {math}`h`\n",
    "of a mass flow {math}`\\dot m` between the inlet (1) and the outlet (2):\n",
    "\n",
    "```{math}\n",
    "    :label: energy-balance-general\n",
    "    \\dot W + \\dot Q = \\dot m \\cdot \\left( h_2 - h_1 \\right)\n",
    "```\n",
    "\n",
    "With this definition, the sum of work and heat transferred is negative when enthalpy change is negative, which is the\n",
    "case for the condenser.\n",
    "````\n",
    "\n",
    "## Building the model\n",
    "\n",
    "To build the model we wirst import all dependencies from the `TESPy` library. We need the components shown in the\n",
    "flowsheet as well as connections to connect them and a network, which does all the pre- and postprocessing as well as\n",
    "solving the model for us:"
   ]
  },
  {
   "cell_type": "code",
   "execution_count": null,
   "metadata": {},
   "outputs": [],
   "source": [
    "from tespy.components import HeatExchangerSimple, CycleCloser, Compressor, Valve\n",
    "from tespy.connections import Connection\n",
    "from tespy.networks import Network\n"
   ]
  },
  {
   "cell_type": "markdown",
   "metadata": {},
   "source": [
    "Then, we start by defining our working fluid of the heat pump, for example R290 (Propane) and set up the network\n",
    "instance:"
   ]
  },
  {
   "cell_type": "code",
   "execution_count": null,
   "metadata": {},
   "outputs": [],
   "source": [
    "wf = \"R290\"\n",
    "nwk = Network(fluids=[wf], p_unit=\"bar\", T_unit=\"C\", iterinfo=False)"
   ]
  },
  {
   "cell_type": "markdown",
   "metadata": {},
   "source": [
    "Next step is to build the components and the respective connections as indicated in the figure\n",
    "{numref}`tespy-heat-pump-flowsheet`."
   ]
  },
  {
   "cell_type": "code",
   "execution_count": null,
   "metadata": {},
   "outputs": [],
   "source": [
    "cp = Compressor(\"compressor\")\n",
    "ev = HeatExchangerSimple(\"evaporator\")\n",
    "cd = HeatExchangerSimple(\"condenser\")\n",
    "va = Valve(\"expansion valve\")\n",
    "cc = CycleCloser(\"cycle closer\")\n",
    "\n",
    "\n",
    "c0 = Connection(va, \"out1\", cc, \"in1\", label=\"0\")\n",
    "c1 = Connection(cc, \"out1\", ev, \"in1\", label=\"1\")\n",
    "c2 = Connection(ev, \"out1\", cp, \"in1\", label=\"2\")\n",
    "c3 = Connection(cp, \"out1\", cd, \"in1\", label=\"3\")\n",
    "c4 = Connection(cd, \"out1\", va, \"in1\", label=\"4\")"
   ]
  },
  {
   "cell_type": "markdown",
   "metadata": {},
   "source": [
    "Then, we can add the connections to our `Network` instance."
   ]
  },
  {
   "cell_type": "code",
   "execution_count": null,
   "metadata": {},
   "outputs": [],
   "source": [
    "nwk.add_conns(c0, c1, c2, c3, c4)"
   ]
  },
  {
   "cell_type": "markdown",
   "metadata": {},
   "source": [
    "To run the simulation model, we first have to provide model parameters as described in the table earlier."
   ]
  },
  {
   "cell_type": "code",
   "execution_count": null,
   "metadata": {},
   "outputs": [],
   "source": [
    "# connections\n",
    "c2.set_attr(T=2)\n",
    "c4.set_attr(T=40)\n",
    "\n",
    "# components\n",
    "cp.set_attr(eta_s=0.8)\n",
    "cd.set_attr(Q=-10e3)"
   ]
  },
  {
   "cell_type": "markdown",
   "metadata": {},
   "source": [
    "Besides these parameters, more information are required:\n",
    "\n",
    "- The fluid's state at the evaporator's and condenser's outlet.\n",
    "- The pressure values at the same components' inlets.\n",
    "\n",
    "We can make the following assumptions to add the missing parameters to our model.\n",
    "\n",
    "| parameter description   | model location | model parameter | value | unit |\n",
    "|:----------------------- |:-------------- |:--------------- | -----:|:---- |\n",
    "| saturated gas stream    | 2              | `x`             |   100 | %    |\n",
    "| saturated liquid stream | 4              | `x`             |     0 | %    |\n",
    "| pressure losses         | condenser      | `pr`            |   100 | %    |\n",
    "|                         | evaporator     | `pr`            |   100 | %    |\n",
    "\n",
    "Finally, we can also specify the fluid mass fractions at any of the connections.\n",
    "\n",
    "```{note}\n",
    "The fluid mass fractions have to be provided also, if a network only operates with a single fluid. We are working to\n",
    "improve the fluid property back-end of the software in other aspects, where this specific setting might change in the\n",
    "future as well.\n",
    "```"
   ]
  },
  {
   "cell_type": "code",
   "execution_count": null,
   "metadata": {},
   "outputs": [],
   "source": [
    "# connections\n",
    "c2.set_attr(fluid={wf: 1}, x=1.0)\n",
    "c4.set_attr(x=0.0)\n",
    "\n",
    "# components\n",
    "cd.set_attr(pr=1)\n",
    "ev.set_attr(pr=1)"
   ]
  },
  {
   "cell_type": "markdown",
   "metadata": {},
   "source": [
    "## Running the model\n",
    "\n",
    "Finally, we can solve the model and then have a look at the components' and the connections' results. The\n",
    "`print_results()` method prints an overview of all results to the terminal."
   ]
  },
  {
   "cell_type": "code",
   "execution_count": null,
   "metadata": {},
   "outputs": [],
   "source": [
    "nwk.solve(\"design\")\n",
    "nwk.print_results()"
   ]
  },
  {
   "cell_type": "markdown",
   "metadata": {},
   "source": [
    "To calculate the COP of the heat pump according to the definition in {eq}`cop-heat-pump-simple`, we divide the heat\n",
    "delivered by the work required in the compressor. The component parameters are available either from the component\n",
    "objects or from the network's result dataframes. Note, that the compressor's power is saved in the attribute `P`."
   ]
  },
  {
   "cell_type": "code",
   "execution_count": null,
   "metadata": {},
   "outputs": [],
   "source": [
    "cp.P.val"
   ]
  },
  {
   "cell_type": "code",
   "execution_count": null,
   "metadata": {},
   "outputs": [],
   "source": [
    "nwk.results[\"Compressor\"].loc[\"compressor\", \"P\"]"
   ]
  },
  {
   "cell_type": "code",
   "execution_count": null,
   "metadata": {},
   "outputs": [],
   "source": [
    "cop = abs(cd.Q.val) / cp.P.val\n",
    "cop"
   ]
  },
  {
   "cell_type": "markdown",
   "metadata": {},
   "source": [
    "We can see, that the compressor efficiency does not match the data from DATASHEETSOURCE. To adjust our model to match\n",
    "those data, i.e. a COP of 4.9, there are a coulpe of degrees of freedom that we can adjust:\n",
    "\n",
    "- The assumptions on temperature differences at the heat exchangers (condenser and evaporator)\n",
    "- The pressure losses in the heat exchangers\n",
    "- The compressor efficiency\n",
    "- Non-accounted heat losses\n",
    "\n",
    "To keep things simple, we will take the **compressor efficiency** as adjustment screw. We find the value of the\n",
    "efficiency to match the COP from the datasheet, it is at about {glue:text}`result-compressor-efficiency:.1f`  %."
   ]
  },
  {
   "cell_type": "code",
   "execution_count": null,
   "metadata": {},
   "outputs": [],
   "source": [
    "eta_s_max = 0.8\n",
    "eta_s_min = 0.4\n",
    "\n",
    "i = 0\n",
    "\n",
    "while True:\n",
    "    eta_s = (eta_s_max + eta_s_min) / 2\n",
    "    cp.set_attr(eta_s=eta_s)\n",
    "    nwk.solve(\"design\")\n",
    "    COP = abs(cd.Q.val) / cp.P.val\n",
    "    if round(COP - 4.9, 3) > 0:\n",
    "        eta_s_max = eta_s\n",
    "    elif round(COP - 4.9, 3) < 0:\n",
    "        eta_s_min = eta_s\n",
    "    else:\n",
    "        break\n",
    "\n",
    "    if i > 10:\n",
    "        print(\"no solution found\")\n",
    "        break\n",
    "    \n",
    "    i += 1\n",
    "\n",
    "efficiency = round(cp.eta_s.val, 3)"
   ]
  },
  {
   "cell_type": "code",
   "execution_count": null,
   "metadata": {},
   "outputs": [],
   "source": [
    "from myst_nb import glue\n",
    "glue(\"result-compressor-efficiency\", efficiency * 100, display=False)"
   ]
  },
  {
   "cell_type": "markdown",
   "metadata": {},
   "source": [
    "Now, we can make an investigation of the COP at different temperature levels of the heat source side. To do this, we\n",
    "create a loop and run the model with changing temperature input. On the same loop we can also calculate the widely used\n",
    "formula for the Carnot COP (eq. {eq}`carnot-cop-heat-pump`) of the heat pump as introduced in the previous chapter. We\n",
    "can check our assumption of a constant efficiency factor for the heat pump by reordering the eq.\n",
    "{eq}`cop-heat-pump-carnot-and-efficiency` to the efficiency factor. Then, we plot the results over the temperature range\n",
    "assessed.\n",
    "\n",
    "\n",
    "```{math}\n",
    "    :label: efficiency-heat-pump\n",
    "    \\eta_\\text{hp} = \\frac{\\text{COP}}{\\text{COP}_\\text{c}}\n",
    "```"
   ]
  },
  {
   "cell_type": "code",
   "execution_count": null,
   "metadata": {},
   "outputs": [],
   "source": [
    "import pandas as pd\n",
    "import numpy as np\n",
    "\n",
    "\n",
    "temperature_range = np.arange(-10, 21)\n",
    "results = pd.DataFrame(index=temperature_range + 5, columns=[\"COP\", \"COP_carnot\"])\n",
    "\n",
    "cp.eta_s.val\n",
    "\n",
    "for T in temperature_range:\n",
    "    c2.set_attr(T=T)\n",
    "    nwk.solve(\"design\")\n",
    "    results.loc[T + 5, \"COP\"] = abs(cd.Q.val) / cp.P.val\n",
    "    results.loc[T + 5, \"COP_carnot\"] = c4.T.val_SI / (c4.T.val - c2.T.val)\n",
    "\n",
    "results[\"efficiency\"] = results[\"COP\"] / results[\"COP_carnot\"]"
   ]
  },
  {
   "cell_type": "code",
   "execution_count": null,
   "metadata": {},
   "outputs": [],
   "source": [
    "from matplotlib import pyplot as plt\n",
    "\n",
    "\n",
    "T_for_eta = 7\n",
    "eta_const = results.loc[T_for_eta, \"efficiency\"]\n",
    "\n",
    "fig, ax = plt.subplots(2, sharex=True)\n",
    "\n",
    "label = \"$\\mathrm{COP}_\\mathrm{c}$\"\n",
    "ax[0].plot(temperature_range, results[\"COP_carnot\"], label=label)\n",
    "ax[0].plot(temperature_range, results[\"COP\"], label=\"$\\mathrm{COP}$\")\n",
    "label = \"$\\mathrm{COP}$: $\\eta\\left(T=\" + str(T_for_eta) + \"°C\\\\right)=\" + str(round(eta_const, 3)) + \"$\"\n",
    "ax[0].plot(temperature_range, results[\"COP_carnot\"] * eta_const, label=label)\n",
    "ax[0].set_ylabel(\"COP\")\n",
    "ax[0].legend()\n",
    "\n",
    "ax[1].plot(temperature_range, results[\"efficiency\"], color=\"tab:orange\")\n",
    "ax[1].plot(temperature_range, [eta_const for _ in temperature_range], color=\"tab:green\")\n",
    "ax[1].set_ylabel(\"Efficiency factor\")\n",
    "\n",
    "ax[1].set_xlabel(\"Evaporation temperature in °C\")\n",
    "\n",
    "[(a.grid(), a.set_axisbelow(True)) for a in ax];\n",
    "\n",
    "plt.close()"
   ]
  },
  {
   "cell_type": "code",
   "execution_count": null,
   "metadata": {
    "tags": [
     "remove-cell"
    ]
   },
   "outputs": [],
   "source": [
    "from myst_nb import glue\n",
    "glue(\"fig-heat-pump-efficiency-factor\", fig, display=False)"
   ]
  },
  {
   "cell_type": "markdown",
   "metadata": {},
   "source": [
    "```{glue:figure} fig-heat-pump-efficiency-factor\n",
    ":name: \"fig-heat-pump-efficiency-factor\"\n",
    "\n",
    "Comparison of the COP of the heat pump calculated with a constant and a variable efficiency factor.\n",
    "```\n",
    "\n",
    "From the graphs we can easily see, that the carnot COP {math}`\\text{COP}_\\text{c}` is (expectedly) higher than the \n",
    "actual COP. However, in the second subplot we see that the efficiency factor {math}`\\eta` is not constant.\n",
    "\n",
    "There are two reasons for this. First, the definition of the Carnot COP in equation (eq. {eq}`carnot-cop-heat-pump`) is\n",
    "not strictly correct. The effect of this is however only a minor one. The stronger effect is, that the thermodynamic\n",
    "losses (entropy production due to irreverisbility) in each component are simply higher at lower temperature. We have\n",
    "prepared a separate section with the details on this phenomenom as a thermodynamic excursion\n",
    "{ref}`here <tespy-carnot-cop>`. This section will however not be part of the in-person workshop."
   ]
  },
  {
   "cell_type": "markdown",
   "metadata": {},
   "source": [
    "## Preparing the results for the solph model\n",
    "\n",
    "To make these results usable for our solph model, we can simply export them to a .csv file:"
   ]
  },
  {
   "cell_type": "code",
   "execution_count": null,
   "metadata": {},
   "outputs": [],
   "source": [
    "export = results[[\"COP\"]]\n",
    "export.index.names = [\"temperature\"]\n",
    "export.to_csv(\"COP-T-tespy.csv\")"
   ]
  }
 ],
 "metadata": {
  "interpreter": {
   "hash": "bd8d683b2b7a984c708b0e285fe12e85cc3979cad656f2247d8c1435c45a50dd"
  },
  "kernelspec": {
   "display_name": "Python 3 (ipykernel)",
   "language": "python",
   "name": "python3"
  },
  "language_info": {
   "codemirror_mode": {
    "name": "ipython",
    "version": 3
   },
   "file_extension": ".py",
   "mimetype": "text/x-python",
   "name": "python",
   "nbconvert_exporter": "python",
   "pygments_lexer": "ipython3",
   "version": "3.9.13"
  }
 },
 "nbformat": 4,
 "nbformat_minor": 2
}
