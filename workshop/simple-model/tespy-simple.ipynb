{
 "cells": [
  {
   "cell_type": "markdown",
   "metadata": {},
   "source": [
    "# Simple TESPy heat pump model\n",
    "\n",
    "## Introduction\n",
    "\n",
    "In this section we will build a thermodynamic simulation model of the heat pump to determine the efficiency as function\n",
    "of the ambient air temperature. For that, we build a TESPy model following the information from the flowsheet in figure\n",
    "{ref}`tespy-heat-pump-flowsheet`.\n",
    "\n",
    "```{figure} /figures/heat_pump.svg\n",
    "---\n",
    "alt: Component based thermodynamic model of the heat pump in TESPy\n",
    "name: tespy-heat-pump-flowsheet\n",
    "---\n",
    "Component based thermodynamic model of the heat pump in TESPy\n",
    "```\n",
    "\n",
    "The table summarizes the assumptions made for the heat pump model.\n",
    "\n",
    "| parameter description   | model location | model parameter | value | unit |\n",
    "|:----------------------- |:-------------- |:--------------- | -----:|:---- |\n",
    "| compressor efficiency   | compressor     | `eta_s`         |    80 | %    |\n",
    "| evaporation temperature | 2              | `T`             |    10 | °C   |\n",
    "| condensation temperatre | 4              | `T`             |    50 | °C   |\n",
    "| heat delivered          | condenser      | `Q`             |   -10 | kW   |\n",
    "\n",
    "````{note}\n",
    "The delivered heat value is negative, since heat is extracted from the fluid. The sign convention in TESPy refers to\n",
    "the open system energy balance, where heat and work transferred over the systems boundary change the enthalpy {math}`h`\n",
    "of a mass flow {math}`\\dot m` between the inlet (1) and the outlet (2):\n",
    "\n",
    "```{math}\n",
    "    :label: energy-balance-general\n",
    "    \\dot W + \\dot Q = \\dot m \\cdot \\left( h_2 - h_1 \\right)\n",
    "```\n",
    "\n",
    "With this definition, the sum of work and heat transferred is negative when enthalpy change is negative, which is the\n",
    "case for the condenser.\n",
    "````\n",
    "\n",
    "## Building the model\n",
    "\n",
    "To build the model we wirst import all dependencies from the `TESPy` library. We need the components shown in the\n",
    "flowsheet as well as connections to connect them and a network, which does all the pre- and postprocessing as well as\n",
    "solving the model for us:"
   ]
  },
  {
   "cell_type": "code",
   "execution_count": 31,
   "metadata": {},
   "outputs": [],
   "source": [
    "from tespy.components import HeatExchangerSimple, CycleCloser, Compressor, Valve\n",
    "from tespy.connections import Connection\n",
    "from tespy.networks import Network\n"
   ]
  },
  {
   "cell_type": "markdown",
   "metadata": {},
   "source": [
    "Then, we start by defining our working fluid of the heat pump, for example R290 (Propane) and set up the network\n",
    "instance:"
   ]
  },
  {
   "cell_type": "code",
   "execution_count": 32,
   "metadata": {},
   "outputs": [],
   "source": [
    "wf = \"R290\"\n",
    "nwk = Network(fluids=[wf], p_unit=\"bar\", T_unit=\"C\", iterinfo=False)"
   ]
  },
  {
   "cell_type": "markdown",
   "metadata": {},
   "source": [
    "Next step is to build the components and the respective connections as indicated in the figure\n",
    "{numref}`tespy-heat-pump-flowsheet`."
   ]
  },
  {
   "cell_type": "code",
   "execution_count": 33,
   "metadata": {},
   "outputs": [],
   "source": [
    "cp = Compressor(\"compressor\")\n",
    "ev = HeatExchangerSimple(\"evaporator\")\n",
    "cd = HeatExchangerSimple(\"condenser\")\n",
    "va = Valve(\"expansion valve\")\n",
    "cc = CycleCloser(\"cycle closer\")\n",
    "\n",
    "\n",
    "c0 = Connection(va, \"out1\", cc, \"in1\", label=\"0\")\n",
    "c1 = Connection(cc, \"out1\", ev, \"in1\", label=\"1\")\n",
    "c2 = Connection(ev, \"out1\", cp, \"in1\", label=\"2\")\n",
    "c3 = Connection(cp, \"out1\", cd, \"in1\", label=\"3\")\n",
    "c4 = Connection(cd, \"out1\", va, \"in1\", label=\"4\")"
   ]
  },
  {
   "cell_type": "markdown",
   "metadata": {},
   "source": [
    "Then, we can add the connections to our `Network` instance."
   ]
  },
  {
   "cell_type": "code",
   "execution_count": 34,
   "metadata": {},
   "outputs": [],
   "source": [
    "nwk.add_conns(c0, c1, c2, c3, c4)"
   ]
  },
  {
   "cell_type": "markdown",
   "metadata": {},
   "source": [
    "To run the simulation model, we first have to provide model parameters as described in the table earlier."
   ]
  },
  {
   "cell_type": "code",
   "execution_count": 35,
   "metadata": {},
   "outputs": [],
   "source": [
    "# connections\n",
    "c2.set_attr(T=0)\n",
    "c4.set_attr(T=40)\n",
    "\n",
    "# components\n",
    "cp.set_attr(eta_s=0.8)\n",
    "cd.set_attr(Q=-10e3)"
   ]
  },
  {
   "cell_type": "markdown",
   "metadata": {},
   "source": [
    "Besides these parameters, more information are required:\n",
    "\n",
    "- The fluid's state at the evaporator's and condenser's outlet.\n",
    "- The pressure values at the same components' inlets.\n",
    "\n",
    "We can make the following assumptions to add the missing parameters to our model.\n",
    "\n",
    "| parameter description   | model location | model parameter | value | unit |\n",
    "|:----------------------- |:-------------- |:--------------- | -----:|:---- |\n",
    "| saturated gas stream    | 2              | `x`             |   100 | %    |\n",
    "| saturated liquid stream | 4              | `x`             |     0 | %    |\n",
    "| pressure losses         | condenser      | `pr`            |   100 | %    |\n",
    "|                         | evaporator     | `pr`            |   100 | %    |\n",
    "\n",
    "Finally, we can also specify the fluid mass fractions at any of the connections.\n",
    "\n",
    "```{note}\n",
    "The fluid mass fractions have to be provided also, if a network only operates with a single fluid. We are working to\n",
    "improve the fluid property back-end of the software in other aspects, where this specific setting might change in the\n",
    "future as well.\n",
    "```"
   ]
  },
  {
   "cell_type": "code",
   "execution_count": 36,
   "metadata": {},
   "outputs": [],
   "source": [
    "# connections\n",
    "c2.set_attr(fluid={wf: 1}, x=1.0)\n",
    "c4.set_attr(x=0.0)\n",
    "\n",
    "# components\n",
    "cd.set_attr(pr=1)\n",
    "ev.set_attr(pr=1)"
   ]
  },
  {
   "cell_type": "markdown",
   "metadata": {},
   "source": [
    "## Running the model\n",
    "\n",
    "Finally, we can solve the model and then have a look at the components' and the connections' results. The\n",
    "`print_results()` method prints an overview of all results to the terminal."
   ]
  },
  {
   "cell_type": "code",
   "execution_count": 37,
   "metadata": {},
   "outputs": [
    {
     "name": "stdout",
     "output_type": "stream",
     "text": [
      "\n",
      "##### RESULTS (Compressor) #####\n",
      "+------------+----------+----------+----------+--------+\n",
      "|            |        P |    eta_s |       pr |   igva |\n",
      "|------------+----------+----------+----------+--------|\n",
      "| compressor | 1.88e+03 | \u001b[94m8.00e-01\u001b[0m | 2.89e+00 |    nan |\n",
      "+------------+----------+----------+----------+--------+\n",
      "##### RESULTS (Valve) #####\n",
      "+-----------------+----------+----------+\n",
      "|                 |       pr |     zeta |\n",
      "|-----------------+----------+----------|\n",
      "| expansion valve | 3.46e-01 | 7.72e+10 |\n",
      "+-----------------+----------+----------+\n",
      "##### RESULTS (HeatExchangerSimple) #####\n",
      "+------------+-----------+----------+----------+-----+-----+------+------+--------+\n",
      "|            |         Q |       pr |     zeta |   D |   L |   ks |   kA |   Tamb |\n",
      "|------------+-----------+----------+----------+-----+-----+------+------+--------|\n",
      "| evaporator |  8.12e+03 | \u001b[94m1.00e+00\u001b[0m | 0.00e+00 | nan | nan |  nan |  nan |    nan |\n",
      "| condenser  | \u001b[94m-1.00e+04\u001b[0m | \u001b[94m1.00e+00\u001b[0m | 0.00e+00 | nan | nan |  nan |  nan |    nan |\n",
      "+------------+-----------+----------+----------+-----+-----+------+------+--------+\n",
      "##### RESULTS (CycleCloser) #####\n",
      "+--------------+------------------+-------------------+\n",
      "|              |   mass_deviation |   fluid_deviation |\n",
      "|--------------+------------------+-------------------|\n",
      "| cycle closer |         0.00e+00 |          0.00e+00 |\n",
      "+--------------+------------------+-------------------+\n",
      "##### RESULTS (Connection) #####\n",
      "+----+-----------+-----------+-----------+------------+\n",
      "|    |         m |         p |         h |          T |\n",
      "|----+-----------+-----------+-----------+------------|\n",
      "|  0 | 3.033e-02 | 4.745e+00 | 3.071e+05 | -5.230e-12 |\n",
      "|  1 | 3.033e-02 | 4.745e+00 | 3.071e+05 | -5.230e-12 |\n",
      "|  2 | 3.033e-02 | 4.745e+00 | 5.749e+05 | \u001b[94m-5.230e-12\u001b[0m |\n",
      "|  3 | 3.033e-02 | 1.369e+01 | 6.368e+05 |  5.020e+01 |\n",
      "|  4 | 3.033e-02 | 1.369e+01 | 3.071e+05 |  \u001b[94m4.000e+01\u001b[0m |\n",
      "+----+-----------+-----------+-----------+------------+\n"
     ]
    }
   ],
   "source": [
    "nwk.solve(\"design\")\n",
    "nwk.print_results()"
   ]
  },
  {
   "cell_type": "markdown",
   "metadata": {},
   "source": [
    "To calculate the COP of the heat pump according to the definition in {eq}`cop-heat-pump-simple`, we divide the heat\n",
    "delivered by the work required in the compressor. The component parameters are available either from the component\n",
    "objects or from the network's result dataframes. Note, that the compressor's power is saved in the attribute `P`."
   ]
  },
  {
   "cell_type": "code",
   "execution_count": 38,
   "metadata": {},
   "outputs": [
    {
     "data": {
      "text/plain": [
       "1879.9357047389012"
      ]
     },
     "execution_count": 38,
     "metadata": {},
     "output_type": "execute_result"
    }
   ],
   "source": [
    "cp.P.val"
   ]
  },
  {
   "cell_type": "code",
   "execution_count": 39,
   "metadata": {},
   "outputs": [
    {
     "data": {
      "text/plain": [
       "1879.9357047389012"
      ]
     },
     "execution_count": 39,
     "metadata": {},
     "output_type": "execute_result"
    }
   ],
   "source": [
    "nwk.results[\"Compressor\"].loc[\"compressor\", \"P\"]"
   ]
  },
  {
   "cell_type": "code",
   "execution_count": 40,
   "metadata": {},
   "outputs": [
    {
     "data": {
      "text/plain": [
       "5.31933085519479"
      ]
     },
     "execution_count": 40,
     "metadata": {},
     "output_type": "execute_result"
    }
   ],
   "source": [
    "cop = abs(cd.Q.val) / cp.P.val\n",
    "cop"
   ]
  },
  {
   "cell_type": "markdown",
   "metadata": {},
   "source": [
    "We can see, that the compressor efficiency does not match the data from DATASHEETSOURCE. To adjust our model to match\n",
    "those data, i.e. a COP of 4.9, there are a coulpe of degrees of freedom that we can adjust:\n",
    "\n",
    "- The assumptions on temperature differences at the heat exchangers (condenser and evaporator)\n",
    "- The pressure losses in the heat exchangers\n",
    "- The compressor efficiency\n",
    "- Non-accounted heat losses\n",
    "\n",
    "To keep things simple, we will take the **compressor efficiency** as adjustment screw. We find the value of the\n",
    "efficiency to match the COP from the datasheet, it is at about {glue:text}`result-compressor-efficiency:.1f`  %."
   ]
  },
  {
   "cell_type": "code",
   "execution_count": 41,
   "metadata": {},
   "outputs": [],
   "source": [
    "eta_s_max = 0.8\n",
    "eta_s_min = 0.4\n",
    "\n",
    "i = 0\n",
    "\n",
    "while True:\n",
    "    eta_s = (eta_s_max + eta_s_min) / 2\n",
    "    cp.set_attr(eta_s=eta_s)\n",
    "    nwk.solve(\"design\")\n",
    "    COP = abs(cd.Q.val) / cp.P.val\n",
    "    if round(COP - 4.9, 3) > 0:\n",
    "        eta_s_max = eta_s\n",
    "    elif round(COP - 4.9, 3) < 0:\n",
    "        eta_s_min = eta_s\n",
    "    else:\n",
    "        break\n",
    "\n",
    "    if i > 10:\n",
    "        print(\"no solution found\")\n",
    "        break\n",
    "    \n",
    "    i += 1\n",
    "\n",
    "efficiency = round(cp.eta_s.val, 3)"
   ]
  },
  {
   "cell_type": "code",
   "execution_count": 42,
   "metadata": {},
   "outputs": [
    {
     "data": {
      "application/papermill.record/text/plain": "72.2"
     },
     "metadata": {
      "scrapbook": {
       "mime_prefix": "application/papermill.record/",
       "name": "result-compressor-efficiency"
      }
     },
     "output_type": "display_data"
    }
   ],
   "source": [
    "from myst_nb import glue\n",
    "glue(\"result-compressor-efficiency\", efficiency * 100, display=False)"
   ]
  },
  {
   "cell_type": "markdown",
   "metadata": {},
   "source": [
    "Now, we can make an investigation of the COP at different temperature levels of the heat source side. To do this, we\n",
    "create a loop and run the model with changing temperature input. On the same loop we can also calculate the widely used\n",
    "formula for the Carnot COP (eq. {eq}`carnot-cop-heat-pump`) of the heat pump as introduced in the previous chapter. We\n",
    "can check our assumption of a constant efficiency factor for the heat pump by reordering the eq.\n",
    "{eq}`cop-heat-pump-carnot-and-efficiency` to the efficiency factor. Then, we plot the results over the temperature range\n",
    "assessed.\n",
    "\n",
    "\n",
    "```{math}\n",
    "    :label: efficiency-heat-pump\n",
    "    \\eta_\\text{hp} = \\frac{\\text{COP}}{\\text{COP}_\\text{c}}\n",
    "```"
   ]
  },
  {
   "cell_type": "code",
   "execution_count": 43,
   "metadata": {},
   "outputs": [],
   "source": [
    "import pandas as pd\n",
    "import numpy as np\n",
    "\n",
    "\n",
    "temperature_range = np.arange(-10, 21)\n",
    "results = pd.DataFrame(index=temperature_range, columns=[\"COP\", \"COP_carnot\"])\n",
    "\n",
    "for T in temperature_range:\n",
    "    c2.set_attr(T=T)\n",
    "    nwk.solve(\"design\")\n",
    "    results.loc[T, \"COP\"] = abs(cd.Q.val) / cp.P.val\n",
    "    results.loc[T, \"COP_carnot\"] = c4.T.val_SI / (c4.T.val - c2.T.val)\n",
    "\n",
    "results[\"efficiency\"] = results[\"COP\"] / results[\"COP_carnot\"]"
   ]
  },
  {
   "cell_type": "code",
   "execution_count": 44,
   "metadata": {},
   "outputs": [],
   "source": [
    "from matplotlib import pyplot as plt\n",
    "\n",
    "\n",
    "T_for_eta = 0\n",
    "eta_const = results.loc[T_for_eta, \"efficiency\"]\n",
    "\n",
    "fig, ax = plt.subplots(2, sharex=True)\n",
    "\n",
    "label = \"$\\mathrm{COP}_\\mathrm{c}$\"\n",
    "ax[0].plot(temperature_range, results[\"COP_carnot\"], label=label)\n",
    "ax[0].plot(temperature_range, results[\"COP\"], label=\"$\\mathrm{COP}$\")\n",
    "label = \"$\\mathrm{COP}$: $\\eta\\left(T=\" + str(T_for_eta) + \"°C\\\\right)=\" + str(round(eta_const, 3)) + \"$\"\n",
    "ax[0].plot(temperature_range, results[\"COP_carnot\"] * eta_const, label=label)\n",
    "ax[0].set_ylabel(\"COP\")\n",
    "ax[0].legend()\n",
    "\n",
    "ax[1].plot(temperature_range, results[\"efficiency\"], color=\"tab:orange\")\n",
    "ax[1].plot(temperature_range, [eta_const for _ in temperature_range], color=\"tab:green\")\n",
    "ax[1].set_ylabel(\"Efficiency factor\")\n",
    "\n",
    "ax[1].set_xlabel(\"Evaporation temperature in °C\")\n",
    "\n",
    "[(a.grid(), a.set_axisbelow(True)) for a in ax];\n",
    "\n",
    "plt.close()"
   ]
  },
  {
   "cell_type": "code",
   "execution_count": 45,
   "metadata": {
    "tags": [
     "remove-cell"
    ]
   },
   "outputs": [
    {
     "data": {
      "application/papermill.record/image/png": "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\n",
      "application/papermill.record/text/plain": "<Figure size 640x480 with 2 Axes>"
     },
     "metadata": {
      "scrapbook": {
       "mime_prefix": "application/papermill.record/",
       "name": "fig-heat-pump-efficiency-factor"
      }
     },
     "output_type": "display_data"
    }
   ],
   "source": [
    "from myst_nb import glue\n",
    "glue(\"fig-heat-pump-efficiency-factor\", fig, display=False)"
   ]
  },
  {
   "cell_type": "markdown",
   "metadata": {},
   "source": [
    "```{glue:figure} fig-heat-pump-efficiency-factor\n",
    ":name: \"fig-heat-pump-efficiency-factor\"\n",
    "\n",
    "Comparison of the COP of the heat pump calculated with a constant and a variable efficiency factor.\n",
    "```\n",
    "\n",
    "From the graphs we can easily see, that the carnot COP {math}`\\text{COP}_\\text{c}` is (expectedly) higher than the \n",
    "actual COP. However, in the second subplot we see that the efficiency factor {math}`\\eta` is not constant.\n",
    "\n",
    "There are two reasons for this. First, the definition of the Carnot COP in equation (eq. {eq}`carnot-cop-heat-pump`) is\n",
    "not strictly correct. The effect of this is however only a minor one. The stronger effect is, that the thermodynamic\n",
    "losses (entropy production due to irreverisbility) in each component are simply higher at lower temperature. We have\n",
    "prepared a separate section with the details on this phenomenom as a thermodynamic excursion\n",
    "{ref}`here <tespy-carnot-cop>`. This section will however not be part of the in-person workshop."
   ]
  },
  {
   "cell_type": "markdown",
   "metadata": {},
   "source": [
    "## Preparing the results for the solph model\n",
    "\n",
    "To make these results usable for our solph model, we can simply export them to a .csv file:"
   ]
  },
  {
   "cell_type": "code",
   "execution_count": 46,
   "metadata": {},
   "outputs": [],
   "source": [
    "export = results[[\"COP\"]]\n",
    "export.index.names = [\"temperature\"]\n",
    "export.to_csv(\"COP-T-tespy.csv\")"
   ]
  }
 ],
 "metadata": {
  "interpreter": {
   "hash": "bd8d683b2b7a984c708b0e285fe12e85cc3979cad656f2247d8c1435c45a50dd"
  },
  "kernelspec": {
   "display_name": "Python 3 (ipykernel)",
   "language": "python",
   "name": "python3"
  },
  "language_info": {
   "codemirror_mode": {
    "name": "ipython",
    "version": 3
   },
   "file_extension": ".py",
   "mimetype": "text/x-python",
   "name": "python",
   "nbconvert_exporter": "python",
   "pygments_lexer": "ipython3",
   "version": "3.9.13"
  }
 },
 "nbformat": 4,
 "nbformat_minor": 2
}
