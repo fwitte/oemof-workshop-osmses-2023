{
 "cells": [
  {
   "cell_type": "markdown",
   "metadata": {},
   "source": [
    "# Simple TESPy heat pump model\n",
    "\n",
    "## Introduction\n",
    "\n",
    "In this section we will build a thermodynamic simulation model of the heat pump to determine the efficiency as function\n",
    "of the ambient air temperature. For that, we build a TESPy model following the information from the flowsheet in figure\n",
    "{ref}`tespy-heat-pump-flowsheet`.\n",
    "\n",
    "```{figure} /figures/heat_pump.svg\n",
    "---\n",
    "alt: Component based thermodynamic model of the heat pump in TESPy\n",
    "name: tespy-heat-pump-flowsheet\n",
    "---\n",
    "Component based thermodynamic model of the heat pump in TESPy\n",
    "```\n",
    "\n",
    "The table summarizes the assumptions made for the heat pump model.\n",
    "\n",
    "| parameter description   | model location | model parameter | value | unit |\n",
    "|:----------------------- |:-------------- |:--------------- | -----:|:---- |\n",
    "| compressor efficiency   | compressor     | `eta_s`         |    80 | %    |\n",
    "| evaporation temperature | 2              | `T`             |    10 | °C   |\n",
    "| condensation temperatre | 4              | `T`             |    50 | °C   |\n",
    "| heat delivered          | condenser      | `Q`             |   -10 | kW   |\n",
    "\n",
    "````{note}\n",
    "The delivered heat value is negative, since heat is extracted from the fluid. The sign convention in TESPy refers to\n",
    "the open system energy balance, where heat and work transferred over the systems boundary change the enthalpy {math}`h`\n",
    "of a mass flow {math}`\\dot m` between the inlet (1) and the outlet (2):\n",
    "\n",
    "```{math}\n",
    "    :label: energy-balance-general\n",
    "    \\dot W + \\dot Q = \\dot m \\cdot \\left( h_2 - h_1 \\right)\n",
    "```\n",
    "\n",
    "With this definition, the sum of work and heat transferred is negative when enthalpy change is negative, which is the\n",
    "case for the condenser.\n",
    "````\n",
    "\n",
    "## Building the model\n",
    "\n",
    "To build the model we wirst import all dependencies from the `TESPy` library. We need the components shown in the\n",
    "flowsheet as well as connections to connect them and a network, which does all the pre- and postprocessing as well as\n",
    "solving the model for us:"
   ]
  },
  {
   "cell_type": "code",
   "execution_count": 1,
   "metadata": {},
   "outputs": [],
   "source": [
    "from tespy.components import HeatExchangerSimple, CycleCloser, Compressor, Valve\n",
    "from tespy.connections import Connection\n",
    "from tespy.networks import Network\n"
   ]
  },
  {
   "cell_type": "markdown",
   "metadata": {},
   "source": [
    "Then, we start by defining our working fluid of the heat pump, for example R290 (Propane) and set up the network\n",
    "instance:"
   ]
  },
  {
   "cell_type": "code",
   "execution_count": 2,
   "metadata": {},
   "outputs": [],
   "source": [
    "wf = \"R290\"\n",
    "nwk = Network(fluids=[wf], p_unit=\"bar\", T_unit=\"C\", iterinfo=False)"
   ]
  },
  {
   "cell_type": "markdown",
   "metadata": {},
   "source": [
    "Next step is to build the components and the respective connections as indicated in the figure\n",
    "{numref}`tespy-heat-pump-flowsheet`."
   ]
  },
  {
   "cell_type": "code",
   "execution_count": 3,
   "metadata": {},
   "outputs": [],
   "source": [
    "cp = Compressor(\"compressor\")\n",
    "ev = HeatExchangerSimple(\"evaporator\")\n",
    "cd = HeatExchangerSimple(\"condenser\")\n",
    "va = Valve(\"expansion valve\")\n",
    "cc = CycleCloser(\"cycle closer\")\n",
    "\n",
    "\n",
    "c0 = Connection(va, \"out1\", cc, \"in1\", label=\"0\")\n",
    "c1 = Connection(cc, \"out1\", ev, \"in1\", label=\"1\")\n",
    "c2 = Connection(ev, \"out1\", cp, \"in1\", label=\"2\")\n",
    "c3 = Connection(cp, \"out1\", cd, \"in1\", label=\"3\")\n",
    "c4 = Connection(cd, \"out1\", va, \"in1\", label=\"4\")"
   ]
  },
  {
   "cell_type": "markdown",
   "metadata": {},
   "source": [
    "Then, we can add the connections to our `Network` instance."
   ]
  },
  {
   "cell_type": "code",
   "execution_count": 4,
   "metadata": {},
   "outputs": [],
   "source": [
    "nwk.add_conns(c0, c1, c2, c3, c4)"
   ]
  },
  {
   "cell_type": "markdown",
   "metadata": {},
   "source": [
    "To run the simulation model, we first have to provide model parameters as described in the table earlier."
   ]
  },
  {
   "cell_type": "code",
   "execution_count": 5,
   "metadata": {},
   "outputs": [],
   "source": [
    "# connections\n",
    "c2.set_attr(T=10)\n",
    "c4.set_attr(T=50)\n",
    "\n",
    "# components\n",
    "cp.set_attr(eta_s=0.8)\n",
    "cd.set_attr(Q=-10e3)"
   ]
  },
  {
   "cell_type": "markdown",
   "metadata": {},
   "source": [
    "Besides these parameters, more information are required:\n",
    "\n",
    "- The fluid's state at the evaporator's and condenser's outlet.\n",
    "- The pressure values at the same components' inlets.\n",
    "\n",
    "We can make the following assumptions to add the missing parameters to our model.\n",
    "\n",
    "| parameter description   | model location | model parameter | value | unit |\n",
    "|:----------------------- |:-------------- |:--------------- | -----:|:---- |\n",
    "| saturated gas stream    | 2              | `x`             |   100 | %    |\n",
    "| saturated liquid stream | 4              | `x`             |     0 | %    |\n",
    "| pressure losses         | condenser      | `pr`            |   100 | %    |\n",
    "|                         | evaporator     | `pr`            |   100 | %    |\n",
    "\n",
    "Finally, we can also specify the fluid mass fractions at any of the connections.\n",
    "\n",
    "```{note}\n",
    "The fluid mass fractions have to be provided also, if a network only operates with a single fluid. We are working to\n",
    "improve the fluid property back-end of the software in other aspects, where this specific setting might change in the\n",
    "future as well.\n",
    "```"
   ]
  },
  {
   "cell_type": "code",
   "execution_count": 6,
   "metadata": {},
   "outputs": [],
   "source": [
    "# connections\n",
    "c2.set_attr(fluid={wf: 1}, x=1.0)\n",
    "c4.set_attr(x=0.0)\n",
    "\n",
    "# components\n",
    "cd.set_attr(pr=1)\n",
    "ev.set_attr(pr=1)"
   ]
  },
  {
   "cell_type": "markdown",
   "metadata": {},
   "source": [
    "## Running the model\n",
    "\n",
    "Finally, we can solve the model and then have a look at the components' and the connections' results. The\n",
    "`print_results()` method prints an overview of all results to the terminal."
   ]
  },
  {
   "cell_type": "code",
   "execution_count": 7,
   "metadata": {},
   "outputs": [
    {
     "name": "stdout",
     "output_type": "stream",
     "text": [
      "##### RESULTS (CycleCloser) #####\n",
      "+--------------+------------------+-------------------+\n",
      "|              |   mass_deviation |   fluid_deviation |\n",
      "|--------------+------------------+-------------------|\n",
      "| cycle closer |         0.00e+00 |          0.00e+00 |\n",
      "+--------------+------------------+-------------------+\n",
      "##### RESULTS (HeatExchangerSimple) #####\n",
      "+------------+-----------+----------+----------+-----+-----+------+------+--------+\n",
      "|            |         Q |       pr |     zeta |   D |   L |   ks |   kA |   Tamb |\n",
      "|------------+-----------+----------+----------+-----+-----+------+------+--------|\n",
      "| condenser  | \u001b[94m-1.00e+04\u001b[0m | \u001b[94m1.00e+00\u001b[0m | 1.80e-05 | nan | nan |  nan |  nan |    nan |\n",
      "| evaporator |  8.12e+03 | \u001b[94m1.00e+00\u001b[0m | 0.00e+00 | nan | nan |  nan |  nan |    nan |\n",
      "+------------+-----------+----------+----------+-----+-----+------+------+--------+\n",
      "##### RESULTS (Compressor) #####\n",
      "+------------+----------+----------+----------+--------+\n",
      "|            |        P |    eta_s |       pr |   igva |\n",
      "|------------+----------+----------+----------+--------|\n",
      "| compressor | 1.88e+03 | \u001b[94m8.00e-01\u001b[0m | 2.69e+00 |    nan |\n",
      "+------------+----------+----------+----------+--------+\n",
      "##### RESULTS (Valve) #####\n",
      "+-----------------+----------+----------+\n",
      "|                 |       pr |     zeta |\n",
      "|-----------------+----------+----------|\n",
      "| expansion valve | 3.72e-01 | 9.59e+10 |\n",
      "+-----------------+----------+----------+\n",
      "##### RESULTS (Connection) #####\n",
      "+----+-----------+-----------+-----------+-----------+\n",
      "|    |         m |         p |         h |         T |\n",
      "|----+-----------+-----------+-----------+-----------|\n",
      "|  0 | 3.264e-02 | 6.366e+00 | 3.368e+05 | 1.000e+01 |\n",
      "|  1 | 3.264e-02 | 6.366e+00 | 3.368e+05 | 1.000e+01 |\n",
      "|  2 | 3.264e-02 | 6.366e+00 | 5.857e+05 | \u001b[94m1.000e+01\u001b[0m |\n",
      "|  3 | 3.264e-02 | 1.713e+01 | 6.432e+05 | 5.890e+01 |\n",
      "|  4 | 3.264e-02 | 1.713e+01 | 3.368e+05 | \u001b[94m5.000e+01\u001b[0m |\n",
      "+----+-----------+-----------+-----------+-----------+\n"
     ]
    }
   ],
   "source": [
    "nwk.solve(\"design\")\n",
    "nwk.print_results()"
   ]
  },
  {
   "cell_type": "markdown",
   "metadata": {},
   "source": [
    "To calculate the COP of the heat pump according to the definition in {eq}`cop-heat-pump-simple`, we divide the heat\n",
    "delivered by the work required in the compressor. The component parameters are available either from the component\n",
    "objects or from the network's result dataframes. Note, that the compressor's power is saved in the attribute `P`."
   ]
  },
  {
   "cell_type": "code",
   "execution_count": 8,
   "metadata": {},
   "outputs": [
    {
     "data": {
      "text/plain": [
       "1877.6825194417213"
      ]
     },
     "execution_count": 8,
     "metadata": {},
     "output_type": "execute_result"
    }
   ],
   "source": [
    "cp.P.val"
   ]
  },
  {
   "cell_type": "code",
   "execution_count": 9,
   "metadata": {},
   "outputs": [
    {
     "data": {
      "text/plain": [
       "1877.6825194417213"
      ]
     },
     "execution_count": 9,
     "metadata": {},
     "output_type": "execute_result"
    }
   ],
   "source": [
    "nwk.results[\"Compressor\"].loc[\"compressor\", \"P\"]"
   ]
  },
  {
   "cell_type": "code",
   "execution_count": 10,
   "metadata": {},
   "outputs": [
    {
     "data": {
      "text/plain": [
       "5.325713956677421"
      ]
     },
     "execution_count": 10,
     "metadata": {},
     "output_type": "execute_result"
    }
   ],
   "source": [
    "cop = abs(cd.Q.val) / cp.P.val\n",
    "cop"
   ]
  },
  {
   "cell_type": "markdown",
   "metadata": {},
   "source": [
    "Now, we can make an investigation of the COP at different temperature levels of the heat source side. To do this, we\n",
    "create a loop and run the model with changing temperature input. On the same loop we can also calculate the widely used\n",
    "formula for the Carnot COP (eq. {eq}`carnot-cop-heat-pump`) of the heat pump as introduced in the previous chapter. We\n",
    "can check our assumption of a constant efficiency factor for the heat pump by reordering the eq.\n",
    "{eq}`cop-heat-pump-carnot-and-efficiency` to the efficiency factor. Then, we plot the results over the temperature range\n",
    "assessed.\n",
    "\n",
    "\n",
    "```{math}\n",
    "    :label: efficiency-heat-pump\n",
    "    \\eta_\\text{hp} = \\frac{\\text{COP}}{\\text{COP}_\\text{c}}\n",
    "```"
   ]
  },
  {
   "cell_type": "code",
   "execution_count": 17,
   "metadata": {},
   "outputs": [
    {
     "data": {
      "text/html": [
       "<div>\n",
       "<style scoped>\n",
       "    .dataframe tbody tr th:only-of-type {\n",
       "        vertical-align: middle;\n",
       "    }\n",
       "\n",
       "    .dataframe tbody tr th {\n",
       "        vertical-align: top;\n",
       "    }\n",
       "\n",
       "    .dataframe thead th {\n",
       "        text-align: right;\n",
       "    }\n",
       "</style>\n",
       "<table border=\"1\" class=\"dataframe\">\n",
       "  <thead>\n",
       "    <tr style=\"text-align: right;\">\n",
       "      <th></th>\n",
       "      <th>COP</th>\n",
       "      <th>COP_carnot</th>\n",
       "      <th>efficiency</th>\n",
       "    </tr>\n",
       "  </thead>\n",
       "  <tbody>\n",
       "    <tr>\n",
       "      <th>-10.0</th>\n",
       "      <td>3.410899</td>\n",
       "      <td>5.385833</td>\n",
       "      <td>0.633309</td>\n",
       "    </tr>\n",
       "    <tr>\n",
       "      <th>-9.0</th>\n",
       "      <td>3.47497</td>\n",
       "      <td>5.477119</td>\n",
       "      <td>0.634452</td>\n",
       "    </tr>\n",
       "    <tr>\n",
       "      <th>-8.0</th>\n",
       "      <td>3.54134</td>\n",
       "      <td>5.571552</td>\n",
       "      <td>0.635611</td>\n",
       "    </tr>\n",
       "    <tr>\n",
       "      <th>-7.0</th>\n",
       "      <td>3.610131</td>\n",
       "      <td>5.669298</td>\n",
       "      <td>0.636786</td>\n",
       "    </tr>\n",
       "    <tr>\n",
       "      <th>-6.0</th>\n",
       "      <td>3.681473</td>\n",
       "      <td>5.770536</td>\n",
       "      <td>0.637978</td>\n",
       "    </tr>\n",
       "    <tr>\n",
       "      <th>-5.0</th>\n",
       "      <td>3.755503</td>\n",
       "      <td>5.875455</td>\n",
       "      <td>0.639185</td>\n",
       "    </tr>\n",
       "    <tr>\n",
       "      <th>-4.0</th>\n",
       "      <td>3.832372</td>\n",
       "      <td>5.984259</td>\n",
       "      <td>0.640409</td>\n",
       "    </tr>\n",
       "    <tr>\n",
       "      <th>-3.0</th>\n",
       "      <td>3.91224</td>\n",
       "      <td>6.09717</td>\n",
       "      <td>0.641649</td>\n",
       "    </tr>\n",
       "    <tr>\n",
       "      <th>-2.0</th>\n",
       "      <td>3.99528</td>\n",
       "      <td>6.214423</td>\n",
       "      <td>0.642904</td>\n",
       "    </tr>\n",
       "    <tr>\n",
       "      <th>-1.0</th>\n",
       "      <td>4.081677</td>\n",
       "      <td>6.336275</td>\n",
       "      <td>0.644176</td>\n",
       "    </tr>\n",
       "    <tr>\n",
       "      <th>0.0</th>\n",
       "      <td>4.171635</td>\n",
       "      <td>6.463</td>\n",
       "      <td>0.645464</td>\n",
       "    </tr>\n",
       "    <tr>\n",
       "      <th>1.0</th>\n",
       "      <td>4.26537</td>\n",
       "      <td>6.594898</td>\n",
       "      <td>0.646768</td>\n",
       "    </tr>\n",
       "    <tr>\n",
       "      <th>2.0</th>\n",
       "      <td>4.363119</td>\n",
       "      <td>6.732292</td>\n",
       "      <td>0.648088</td>\n",
       "    </tr>\n",
       "    <tr>\n",
       "      <th>3.0</th>\n",
       "      <td>4.465137</td>\n",
       "      <td>6.875532</td>\n",
       "      <td>0.649424</td>\n",
       "    </tr>\n",
       "    <tr>\n",
       "      <th>4.0</th>\n",
       "      <td>4.571703</td>\n",
       "      <td>7.025</td>\n",
       "      <td>0.650776</td>\n",
       "    </tr>\n",
       "    <tr>\n",
       "      <th>5.0</th>\n",
       "      <td>4.683121</td>\n",
       "      <td>7.181111</td>\n",
       "      <td>0.652144</td>\n",
       "    </tr>\n",
       "    <tr>\n",
       "      <th>6.0</th>\n",
       "      <td>4.799721</td>\n",
       "      <td>7.344318</td>\n",
       "      <td>0.653528</td>\n",
       "    </tr>\n",
       "    <tr>\n",
       "      <th>7.0</th>\n",
       "      <td>4.921864</td>\n",
       "      <td>7.515116</td>\n",
       "      <td>0.654929</td>\n",
       "    </tr>\n",
       "    <tr>\n",
       "      <th>8.0</th>\n",
       "      <td>5.049947</td>\n",
       "      <td>7.694048</td>\n",
       "      <td>0.656345</td>\n",
       "    </tr>\n",
       "    <tr>\n",
       "      <th>9.0</th>\n",
       "      <td>5.184404</td>\n",
       "      <td>7.881707</td>\n",
       "      <td>0.657777</td>\n",
       "    </tr>\n",
       "    <tr>\n",
       "      <th>10.0</th>\n",
       "      <td>5.325714</td>\n",
       "      <td>8.07875</td>\n",
       "      <td>0.659225</td>\n",
       "    </tr>\n",
       "    <tr>\n",
       "      <th>11.0</th>\n",
       "      <td>5.474403</td>\n",
       "      <td>8.285897</td>\n",
       "      <td>0.660689</td>\n",
       "    </tr>\n",
       "    <tr>\n",
       "      <th>12.0</th>\n",
       "      <td>5.631055</td>\n",
       "      <td>8.503947</td>\n",
       "      <td>0.66217</td>\n",
       "    </tr>\n",
       "    <tr>\n",
       "      <th>13.0</th>\n",
       "      <td>5.796315</td>\n",
       "      <td>8.733784</td>\n",
       "      <td>0.663666</td>\n",
       "    </tr>\n",
       "    <tr>\n",
       "      <th>14.0</th>\n",
       "      <td>5.970902</td>\n",
       "      <td>8.976389</td>\n",
       "      <td>0.665179</td>\n",
       "    </tr>\n",
       "    <tr>\n",
       "      <th>15.0</th>\n",
       "      <td>6.155613</td>\n",
       "      <td>9.232857</td>\n",
       "      <td>0.666707</td>\n",
       "    </tr>\n",
       "    <tr>\n",
       "      <th>16.0</th>\n",
       "      <td>6.351344</td>\n",
       "      <td>9.504412</td>\n",
       "      <td>0.668252</td>\n",
       "    </tr>\n",
       "    <tr>\n",
       "      <th>17.0</th>\n",
       "      <td>6.559097</td>\n",
       "      <td>9.792424</td>\n",
       "      <td>0.669813</td>\n",
       "    </tr>\n",
       "    <tr>\n",
       "      <th>18.0</th>\n",
       "      <td>6.779998</td>\n",
       "      <td>10.098438</td>\n",
       "      <td>0.671391</td>\n",
       "    </tr>\n",
       "    <tr>\n",
       "      <th>19.0</th>\n",
       "      <td>7.015322</td>\n",
       "      <td>10.424194</td>\n",
       "      <td>0.672985</td>\n",
       "    </tr>\n",
       "    <tr>\n",
       "      <th>20.0</th>\n",
       "      <td>7.26651</td>\n",
       "      <td>10.771667</td>\n",
       "      <td>0.674595</td>\n",
       "    </tr>\n",
       "    <tr>\n",
       "      <th>21.0</th>\n",
       "      <td>7.535205</td>\n",
       "      <td>11.143103</td>\n",
       "      <td>0.676221</td>\n",
       "    </tr>\n",
       "    <tr>\n",
       "      <th>22.0</th>\n",
       "      <td>7.823283</td>\n",
       "      <td>11.541071</td>\n",
       "      <td>0.677865</td>\n",
       "    </tr>\n",
       "    <tr>\n",
       "      <th>23.0</th>\n",
       "      <td>8.132898</td>\n",
       "      <td>11.968519</td>\n",
       "      <td>0.679524</td>\n",
       "    </tr>\n",
       "    <tr>\n",
       "      <th>24.0</th>\n",
       "      <td>8.466538</td>\n",
       "      <td>12.428846</td>\n",
       "      <td>0.681201</td>\n",
       "    </tr>\n",
       "    <tr>\n",
       "      <th>25.0</th>\n",
       "      <td>8.827085</td>\n",
       "      <td>12.926</td>\n",
       "      <td>0.682894</td>\n",
       "    </tr>\n",
       "    <tr>\n",
       "      <th>26.0</th>\n",
       "      <td>9.217905</td>\n",
       "      <td>13.464583</td>\n",
       "      <td>0.684604</td>\n",
       "    </tr>\n",
       "    <tr>\n",
       "      <th>27.0</th>\n",
       "      <td>9.642948</td>\n",
       "      <td>14.05</td>\n",
       "      <td>0.686331</td>\n",
       "    </tr>\n",
       "    <tr>\n",
       "      <th>28.0</th>\n",
       "      <td>10.106882</td>\n",
       "      <td>14.688636</td>\n",
       "      <td>0.688075</td>\n",
       "    </tr>\n",
       "    <tr>\n",
       "      <th>29.0</th>\n",
       "      <td>10.615265</td>\n",
       "      <td>15.388095</td>\n",
       "      <td>0.689836</td>\n",
       "    </tr>\n",
       "    <tr>\n",
       "      <th>30.0</th>\n",
       "      <td>11.174766</td>\n",
       "      <td>16.1575</td>\n",
       "      <td>0.691615</td>\n",
       "    </tr>\n",
       "    <tr>\n",
       "      <th>31.0</th>\n",
       "      <td>11.793459</td>\n",
       "      <td>17.007895</td>\n",
       "      <td>0.693411</td>\n",
       "    </tr>\n",
       "  </tbody>\n",
       "</table>\n",
       "</div>"
      ],
      "text/plain": [
       "             COP COP_carnot efficiency\n",
       "-10.0   3.410899   5.385833   0.633309\n",
       "-9.0     3.47497   5.477119   0.634452\n",
       "-8.0     3.54134   5.571552   0.635611\n",
       "-7.0    3.610131   5.669298   0.636786\n",
       "-6.0    3.681473   5.770536   0.637978\n",
       "-5.0    3.755503   5.875455   0.639185\n",
       "-4.0    3.832372   5.984259   0.640409\n",
       "-3.0     3.91224    6.09717   0.641649\n",
       "-2.0     3.99528   6.214423   0.642904\n",
       "-1.0    4.081677   6.336275   0.644176\n",
       " 0.0    4.171635      6.463   0.645464\n",
       " 1.0     4.26537   6.594898   0.646768\n",
       " 2.0    4.363119   6.732292   0.648088\n",
       " 3.0    4.465137   6.875532   0.649424\n",
       " 4.0    4.571703      7.025   0.650776\n",
       " 5.0    4.683121   7.181111   0.652144\n",
       " 6.0    4.799721   7.344318   0.653528\n",
       " 7.0    4.921864   7.515116   0.654929\n",
       " 8.0    5.049947   7.694048   0.656345\n",
       " 9.0    5.184404   7.881707   0.657777\n",
       " 10.0   5.325714    8.07875   0.659225\n",
       " 11.0   5.474403   8.285897   0.660689\n",
       " 12.0   5.631055   8.503947    0.66217\n",
       " 13.0   5.796315   8.733784   0.663666\n",
       " 14.0   5.970902   8.976389   0.665179\n",
       " 15.0   6.155613   9.232857   0.666707\n",
       " 16.0   6.351344   9.504412   0.668252\n",
       " 17.0   6.559097   9.792424   0.669813\n",
       " 18.0   6.779998  10.098438   0.671391\n",
       " 19.0   7.015322  10.424194   0.672985\n",
       " 20.0    7.26651  10.771667   0.674595\n",
       " 21.0   7.535205  11.143103   0.676221\n",
       " 22.0   7.823283  11.541071   0.677865\n",
       " 23.0   8.132898  11.968519   0.679524\n",
       " 24.0   8.466538  12.428846   0.681201\n",
       " 25.0   8.827085     12.926   0.682894\n",
       " 26.0   9.217905  13.464583   0.684604\n",
       " 27.0   9.642948      14.05   0.686331\n",
       " 28.0  10.106882  14.688636   0.688075\n",
       " 29.0  10.615265  15.388095   0.689836\n",
       " 30.0  11.174766    16.1575   0.691615\n",
       " 31.0  11.793459  17.007895   0.693411"
      ]
     },
     "execution_count": 17,
     "metadata": {},
     "output_type": "execute_result"
    }
   ],
   "source": [
    "import pandas as pd\n",
    "import numpy as np\n",
    "\n",
    "\n",
    "temperature_range = np.linspace(-10, 31, 42)\n",
    "results = pd.DataFrame(index=temperature_range, columns=[\"COP\", \"COP_carnot\"])\n",
    "\n",
    "for T in temperature_range:\n",
    "    c2.set_attr(T=T)\n",
    "    nwk.solve(\"design\")\n",
    "    results.loc[T, \"COP\"] = abs(cd.Q.val) / cp.P.val\n",
    "    results.loc[T, \"COP_carnot\"] = c4.T.val_SI / (c4.T.val - c2.T.val)\n",
    "\n",
    "results[\"efficiency\"] = results[\"COP\"] / results[\"COP_carnot\"]"
   ]
  },
  {
   "cell_type": "code",
   "execution_count": 19,
   "metadata": {},
   "outputs": [
    {
     "data": {
      "image/png": "[encoded data removed]",
      "text/plain": [
       "<Figure size 640x480 with 2 Axes>"
      ]
     },
     "metadata": {
      "scrapbook": {
       "mime_prefix": "",
       "name": "fig-heat-pump-efficiency-factor"
      }
     },
     "output_type": "display_data"
    }
   ],
   "source": [
    "from matplotlib import pyplot as plt\n",
    "\n",
    "\n",
    "eta_const = results.loc[3, \"efficiency\"]\n",
    "\n",
    "fig, ax = plt.subplots(2, sharex=True)\n",
    "\n",
    "label = \"$\\mathrm{COP}_\\mathrm{c}$\"\n",
    "ax[0].plot(temperature_range, results[\"COP_carnot\"], label=label)\n",
    "ax[0].plot(temperature_range, results[\"COP\"], label=\"$\\mathrm{COP}$\")\n",
    "label = \"$\\mathrm{COP}$ ($\\eta=\" + str(eta_const) + \"$)\"\n",
    "ax[0].plot(temperature_range, results[\"COP_carnot\"] * eta_const, label=label)\n",
    "ax[0].set_ylabel(\"COP\")\n",
    "ax[0].legend()\n",
    "\n",
    "ax[1].plot(temperature_range, results[\"efficiency\"])\n",
    "ax[1].plot(temperature_range, [eta_const for _ in temperature_range])\n",
    "ax[1].set_ylabel(\"COP ratio\")\n",
    "\n",
    "ax[1].set_xlabel(\"Evaporation temperature in °C\")\n",
    "\n",
    "_ = [_.grid() for _ in ax]\n",
    "_ = [_.set_axisbelow(True) for _ in ax]\n",
    "\n",
    "plt.close()"
   ]
  },
  {
   "cell_type": "code",
   "execution_count": null,
   "metadata": {
    "tags": [
     "remove-cell"
    ]
   },
   "outputs": [],
   "source": [
    "from myst_nb import glue\n",
    "glue(\"fig-heat-pump-efficiency-factor\", fig, display=False)"
   ]
  },
  {
   "cell_type": "markdown",
   "metadata": {},
   "source": [
    "```{glue:figure} fig-heat-pump-efficiency-factor\n",
    ":name: \"fig-heat-pump-efficiency-factor\"\n",
    "\n",
    "Comparison of the COP of the heat pump calculated with a constant and a variable efficiency factor.\n",
    "```\n",
    "\n",
    "From the graphs we can easily see, that the carnot COP {math}`\\text{COP}_\\text{c}` is (expectedly) higher than the \n",
    "actual COP. However, in the second subplot we see that the efficiency factor {math}`\\eta` is not constant.\n",
    "\n",
    "There are two reasons for this. First, the definition of the Carnot COP in equation (eq. {eq}`carnot-cop-heat-pump`) is\n",
    "not strictly correct. The effect of this is however only a minor one. The stronger effect is, that the thermodynamic\n",
    "losses (entropy production due to irreverisbility) in each component are simply higher at lower temperature. We have\n",
    "prepared a separate section with the details on this phenomenom as a thermodynamic excursion\n",
    "{ref}`here <tespy-carnot-cop>`. This section will however not be part of the in-person workshop."
   ]
  },
  {
   "cell_type": "markdown",
   "metadata": {},
   "source": [
    "## Preparing the results for the solph model\n",
    "\n",
    "To make these results usable for our solph model, we can simply export them to a .csv file:"
   ]
  },
  {
   "cell_type": "code",
   "execution_count": 13,
   "metadata": {},
   "outputs": [],
   "source": [
    "results.to_csv(\"COP-T-tespy.csv\")"
   ]
  }
 ],
 "metadata": {
  "interpreter": {
   "hash": "bd8d683b2b7a984c708b0e285fe12e85cc3979cad656f2247d8c1435c45a50dd"
  },
  "kernelspec": {
   "display_name": "Python 3.9.13 ('tespy_env')",
   "language": "python",
   "name": "python3"
  },
  "language_info": {
   "codemirror_mode": {
    "name": "ipython",
    "version": 3
   },
   "file_extension": ".py",
   "mimetype": "text/x-python",
   "name": "python",
   "nbconvert_exporter": "python",
   "pygments_lexer": "ipython3",
   "version": "3.9.13"
  },
  "orig_nbformat": 4
 },
 "nbformat": 4,
 "nbformat_minor": 2
}
