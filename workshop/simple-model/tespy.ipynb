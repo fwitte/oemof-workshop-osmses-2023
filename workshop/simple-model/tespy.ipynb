{
 "cells": [
  {
   "cell_type": "markdown",
   "metadata": {},
   "source": [
    "# Simple TESPy heat pump model\n",
    "\n",
    "## Introduction\n",
    "\n",
    "In this section we will build a thermodynamic simulation model of the heat pump to determine the efficiency as function\n",
    "of the ambient air temperature. For that, we build a TESPy model following the information from the flowsheet in figure\n",
    "{ref}`tespy-heat-pump-flowsheet`.\n",
    "\n",
    "```{figure} /figures/heat_pump.svg\n",
    "---\n",
    "alt: Component based thermodynamic model of the heat pump in TESPy\n",
    "name: tespy-heat-pump-flowsheet\n",
    "---\n",
    "Component based thermodynamic model of the heat pump in TESPy\n",
    "```\n",
    "\n",
    "The table summarizes the assumptions made for the heat pump model.\n",
    "\n",
    "| parameter description   | model location | model parameter | value | unit |\n",
    "|:----------------------- |:-------------- |:--------------- | -----:|:---- |\n",
    "| compressor efficiency   | compressor     | `eta_s`         |    80 | %    |\n",
    "| evaporation temperature | 2              | `T`             |    10 | °C   |\n",
    "| condensation temperatre | 4              | `T`             |    50 | °C   |\n",
    "| heat delivered          | condenser      | `Q`             |   -10 | kW   |\n",
    "\n",
    "````{note}\n",
    "The delivered heat value is negative, since heat is extracted from the fluid. The sign convention in TESPy refers to\n",
    "the open system energy balance, where heat and work transferred over the systems boundary change the enthalpy {math}`h`\n",
    "of a mass flow {math}`\\dot m` between the inlet (1) and the outlet (2):\n",
    "\n",
    "```{math}\n",
    "    :label: energy-balance-general\n",
    "    \\dot W + \\dot Q = \\dot m \\cdot \\left( h_2 - h_1 \\right)\n",
    "```\n",
    "\n",
    "With this definition, the sum of work and heat transferred is negative when enthalpy change is negative, which is the\n",
    "case for the condenser.\n",
    "````\n",
    "\n",
    "## Building the model\n",
    "\n",
    "To build the model we wirst import all dependencies from the `TESPy` library. We need the components shown in the\n",
    "flowsheet as well as connections to connect them and a network, which does all the pre- and postprocessing as well as\n",
    "solving the model for us:"
   ]
  },
  {
   "cell_type": "code",
   "execution_count": 124,
   "metadata": {},
   "outputs": [],
   "source": [
    "from tespy.components import HeatExchangerSimple, CycleCloser, Compressor, Valve\n",
    "from tespy.connections import Connection\n",
    "from tespy.networks import Network\n"
   ]
  },
  {
   "cell_type": "markdown",
   "metadata": {},
   "source": [
    "Then, we start by defining our working fluid of the heat pump, for example R290 (Propane) and set up the network\n",
    "instance:"
   ]
  },
  {
   "cell_type": "code",
   "execution_count": 125,
   "metadata": {},
   "outputs": [],
   "source": [
    "wf = \"R290\"\n",
    "nwk = Network(fluids=[wf], p_unit=\"bar\", T_unit=\"C\", iterinfo=False)"
   ]
  },
  {
   "cell_type": "markdown",
   "metadata": {},
   "source": [
    "Next step is to build the components and the respective connections as indicated in the figure\n",
    "{numref}`tespy-heat-pump-flowsheet`."
   ]
  },
  {
   "cell_type": "code",
   "execution_count": 126,
   "metadata": {},
   "outputs": [],
   "source": [
    "cp = Compressor(\"compressor\")\n",
    "ev = HeatExchangerSimple(\"evaporator\")\n",
    "cd = HeatExchangerSimple(\"condenser\")\n",
    "va = Valve(\"throttling valve\")\n",
    "cc = CycleCloser(\"cycle closer\")\n",
    "\n",
    "\n",
    "c0 = Connection(va, \"out1\", cc, \"in1\", label=\"0\")\n",
    "c1 = Connection(cc, \"out1\", ev, \"in1\", label=\"1\")\n",
    "c2 = Connection(ev, \"out1\", cp, \"in1\", label=\"2\")\n",
    "c3 = Connection(cp, \"out1\", cd, \"in1\", label=\"3\")\n",
    "c4 = Connection(cd, \"out1\", va, \"in1\", label=\"4\")"
   ]
  },
  {
   "cell_type": "markdown",
   "metadata": {},
   "source": [
    "Then, we can add the connections to our `Network` instance."
   ]
  },
  {
   "cell_type": "code",
   "execution_count": 127,
   "metadata": {},
   "outputs": [],
   "source": [
    "nwk.add_conns(c0, c1, c2, c3, c4)"
   ]
  },
  {
   "cell_type": "markdown",
   "metadata": {},
   "source": [
    "To run the simulation model, we first have to provide model parameters as described in the table earlier."
   ]
  },
  {
   "cell_type": "code",
   "execution_count": 128,
   "metadata": {},
   "outputs": [],
   "source": [
    "# connections\n",
    "c2.set_attr(T=10)\n",
    "c4.set_attr(T=50)\n",
    "\n",
    "# components\n",
    "cp.set_attr(eta_s=0.8)\n",
    "cd.set_attr(Q=-10e3)"
   ]
  },
  {
   "cell_type": "markdown",
   "metadata": {},
   "source": [
    "Besides these parameters, more information are required:\n",
    "\n",
    "- The fluid's state at the evaporator's and condenser's outlet.\n",
    "- The pressure values at the same components' inlets.\n",
    "\n",
    "We can make the following assumptions to add the missing parameters to our model.\n",
    "\n",
    "| parameter description   | model location | model parameter | value | unit |\n",
    "|:----------------------- |:-------------- |:--------------- | -----:|:---- |\n",
    "| saturated gas stream    | 2              | `x`             |   100 | %    |\n",
    "| saturated liquid stream | 4              | `x`             |     0 | %    |\n",
    "| pressure losses         | condenser      | `pr`            |   100 | %    |\n",
    "|                         | evaporator     | `pr`            |   100 | %    |\n",
    "\n",
    "Finally, we can also specify the fluid mass fractions at any of the connections.\n",
    "\n",
    "```{note}\n",
    "The fluid mass fractions have to be provided also, if a network only operates with a single fluid. We are working to\n",
    "improve the fluid property back-end of the software in other aspects, where this specific setting might change in the\n",
    "future as well.\n",
    "```"
   ]
  },
  {
   "cell_type": "code",
   "execution_count": 129,
   "metadata": {},
   "outputs": [],
   "source": [
    "# connections\n",
    "c2.set_attr(fluid={wf: 1}, x=1.0)\n",
    "c4.set_attr(x=0.0)\n",
    "\n",
    "# components\n",
    "cd.set_attr(pr=1)\n",
    "ev.set_attr(pr=1)"
   ]
  },
  {
   "cell_type": "markdown",
   "metadata": {},
   "source": [
    "## Running the model\n",
    "\n",
    "Finally, we can solve the model and then have a look at the components' and the connections' results. The\n",
    "`print_results()` method prints an overview of all results to the terminal."
   ]
  },
  {
   "cell_type": "code",
   "execution_count": 130,
   "metadata": {},
   "outputs": [
    {
     "name": "stdout",
     "output_type": "stream",
     "text": [
      "##### RESULTS (CycleCloser) #####\n",
      "+--------------+------------------+-------------------+\n",
      "|              |   mass_deviation |   fluid_deviation |\n",
      "|--------------+------------------+-------------------|\n",
      "| cycle closer |         0.00e+00 |          0.00e+00 |\n",
      "+--------------+------------------+-------------------+\n",
      "##### RESULTS (Compressor) #####\n",
      "+------------+----------+----------+----------+--------+\n",
      "|            |        P |    eta_s |       pr |   igva |\n",
      "|------------+----------+----------+----------+--------|\n",
      "| compressor | 1.88e+03 | \u001b[94m8.00e-01\u001b[0m | 2.69e+00 |    nan |\n",
      "+------------+----------+----------+----------+--------+\n",
      "##### RESULTS (Valve) #####\n",
      "+------------------+----------+----------+\n",
      "|                  |       pr |     zeta |\n",
      "|------------------+----------+----------|\n",
      "| throttling valve | 3.72e-01 | 9.59e+10 |\n",
      "+------------------+----------+----------+\n",
      "##### RESULTS (HeatExchangerSimple) #####\n",
      "+------------+-----------+----------+----------+-----+-----+------+------+--------+\n",
      "|            |         Q |       pr |     zeta |   D |   L |   ks |   kA |   Tamb |\n",
      "|------------+-----------+----------+----------+-----+-----+------+------+--------|\n",
      "| evaporator |  8.12e+03 | \u001b[94m1.00e+00\u001b[0m | 0.00e+00 | nan | nan |  nan |  nan |    nan |\n",
      "| condenser  | \u001b[94m-1.00e+04\u001b[0m | \u001b[94m1.00e+00\u001b[0m | 0.00e+00 | nan | nan |  nan |  nan |    nan |\n",
      "+------------+-----------+----------+----------+-----+-----+------+------+--------+\n",
      "##### RESULTS (Connection) #####\n",
      "+----+-----------+-----------+-----------+-----------+\n",
      "|    |         m |         p |         h |         T |\n",
      "|----+-----------+-----------+-----------+-----------|\n",
      "|  0 | 3.264e-02 | 6.366e+00 | 3.368e+05 | 1.000e+01 |\n",
      "|  1 | 3.264e-02 | 6.366e+00 | 3.368e+05 | 1.000e+01 |\n",
      "|  2 | 3.264e-02 | 6.366e+00 | 5.857e+05 | \u001b[94m1.000e+01\u001b[0m |\n",
      "|  3 | 3.264e-02 | 1.713e+01 | 6.432e+05 | 5.890e+01 |\n",
      "|  4 | 3.264e-02 | 1.713e+01 | 3.368e+05 | \u001b[94m5.000e+01\u001b[0m |\n",
      "+----+-----------+-----------+-----------+-----------+\n"
     ]
    }
   ],
   "source": [
    "nwk.solve(\"design\")\n",
    "nwk.print_results()"
   ]
  },
  {
   "cell_type": "markdown",
   "metadata": {},
   "source": [
    "To calculate the COP of the heat pump according to the definition in {eq}`cop-heat-pump`, we divide the heat delivered\n",
    "by the work required in the compressor. The component parameters are available either from the component objects or from\n",
    "the network's result dataframes. Note, that the compressor's power is saved in the attribute `P`."
   ]
  },
  {
   "cell_type": "code",
   "execution_count": 131,
   "metadata": {},
   "outputs": [
    {
     "data": {
      "text/plain": [
       "1877.6825194416995"
      ]
     },
     "execution_count": 131,
     "metadata": {},
     "output_type": "execute_result"
    }
   ],
   "source": [
    "cp.P.val"
   ]
  },
  {
   "cell_type": "code",
   "execution_count": 132,
   "metadata": {},
   "outputs": [
    {
     "data": {
      "text/plain": [
       "1877.6825194416995"
      ]
     },
     "execution_count": 132,
     "metadata": {},
     "output_type": "execute_result"
    }
   ],
   "source": [
    "nwk.results[\"Compressor\"].loc[\"compressor\", \"P\"]"
   ]
  },
  {
   "cell_type": "code",
   "execution_count": 133,
   "metadata": {},
   "outputs": [
    {
     "data": {
      "text/plain": [
       "5.325713956677485"
      ]
     },
     "execution_count": 133,
     "metadata": {},
     "output_type": "execute_result"
    }
   ],
   "source": [
    "cop = abs(cd.Q.val) / cp.P.val\n",
    "cop"
   ]
  },
  {
   "cell_type": "markdown",
   "metadata": {},
   "source": [
    "Now, we can make an investigation of the COP at different temperature levels of the heat source side. To do this, we\n",
    "create a loop and run the model with changing temperature input. On the same loop we can also calculate the widely used\n",
    "formula for the Carnot COP (eq. {eq}`carnot-cop-heat-pump`) of the heat pump as introduced in the previous chapter. We\n",
    "can check our assumption of a constant efficiency factor for the heat pump by reordering the eq.\n",
    "{eq}`cop-heat-pump-carnot-and-efficiency` to the efficiency factor. Then, we plot the results over the temperature range\n",
    "assessed.\n",
    "\n",
    "\n",
    "```{math}\n",
    "    :label: efficiency-heat-pump\n",
    "    \\eta_\\text{hp} = \\frac{\\text{COP}}{\\text{COP}_\\text{c}}\n",
    "```"
   ]
  },
  {
   "cell_type": "code",
   "execution_count": 134,
   "metadata": {},
   "outputs": [],
   "source": [
    "import pandas as pd\n",
    "import numpy as np\n",
    "\n",
    "\n",
    "temperature_range = np.linspace(-10, 31, 32)\n",
    "results = pd.DataFrame(index=temperature_range, columns=[\"COP\", \"COP_carnot\"])\n",
    "\n",
    "for T in temperature_range:\n",
    "    c2.set_attr(T=T)\n",
    "    nwk.solve(\"design\")\n",
    "    results.loc[T, \"COP\"] = abs(cd.Q.val) / cp.P.val\n",
    "    results.loc[T, \"COP_carnot\"] = c4.T.val_SI / (c4.T.val - c2.T.val)"
   ]
  },
  {
   "cell_type": "code",
   "execution_count": 135,
   "metadata": {},
   "outputs": [
    {
     "data": {
      "image/png": "[encoded data removed]",
      "text/plain": [
       "<Figure size 640x480 with 2 Axes>"
      ]
     },
     "metadata": {},
     "output_type": "display_data"
    }
   ],
   "source": [
    "from matplotlib import pyplot as plt\n",
    "\n",
    "fig, ax = plt.subplots(2, sharex=True)\n",
    "\n",
    "ax[0].plot(temperature_range, results[\"COP_carnot\"], label=\"$\\mathrm{COP}_\\mathrm{c}$\")\n",
    "ax[0].plot(temperature_range, results[\"COP\"], label=\"$\\mathrm{COP}$\")\n",
    "ax[0].set_ylabel(\"COP\")\n",
    "ax[0].legend()\n",
    "\n",
    "ax[1].plot(temperature_range, results[\"COP\"] / results[\"COP_carnot\"])\n",
    "ax[1].set_ylabel(\"COP ratio\")\n",
    "\n",
    "ax[1].set_xlabel(\"Temperature in °C\")\n",
    "\n",
    "_ = [_.grid() for _ in ax]\n",
    "_ = [_.set_axisbelow(True) for _ in ax]"
   ]
  },
  {
   "cell_type": "markdown",
   "metadata": {},
   "source": [
    "From the graphs we can easily see, that the carnot COP {math}`\\text{COP}_\\text{c}` is (expectedly) higher than the \n",
    "actual COP. However, in the second subplot we see that the efficiency factor {math}`\\eta` is not constant.\n",
    "\n",
    "There are two reasons for this. First, the definition of the Carnot COP in equation (eq. {eq}`cop-carnot-heat-pump`) is\n",
    "not strictly correct. The effect of this is however only a minor one. The stronger effect is, that the thermodynamic\n",
    "losses (entropy production due to irreverisbility) in each component are simply higher at lower temperature."
   ]
  },
  {
   "cell_type": "markdown",
   "metadata": {},
   "source": [
    "## Preparing the results for the solph model\n",
    "\n",
    "To make these results usable for our solph model, we can simply export them to a .csv file:"
   ]
  },
  {
   "cell_type": "code",
   "execution_count": null,
   "metadata": {},
   "outputs": [],
   "source": []
  }
 ],
 "metadata": {
  "interpreter": {
   "hash": "bd8d683b2b7a984c708b0e285fe12e85cc3979cad656f2247d8c1435c45a50dd"
  },
  "kernelspec": {
   "display_name": "Python 3.9.13 ('tespy_env')",
   "language": "python",
   "name": "python3"
  },
  "language_info": {
   "codemirror_mode": {
    "name": "ipython",
    "version": 3
   },
   "file_extension": ".py",
   "mimetype": "text/x-python",
   "name": "python",
   "nbconvert_exporter": "python",
   "pygments_lexer": "ipython3",
   "version": "3.9.13"
  },
  "orig_nbformat": 4
 },
 "nbformat": 4,
 "nbformat_minor": 2
}
