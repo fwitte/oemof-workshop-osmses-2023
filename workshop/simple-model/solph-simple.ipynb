{
 "cells": [
  {
   "cell_type": "markdown",
   "metadata": {},
   "source": [
    "# Simple solph heat pump model\n",
    "\n",
    "- linear standard transformer\n",
    "- one Carnot COP per temperature level and constant efficieny\n",
    "- use efficiency from sheet, typically 3 °C\n",
    "- no minimum load\n",
    "\n",
    "...\n",
    "\n",
    "The COP of the heat pump can be calculated from the ratio of total produced heat $\\dot Q_\\text{prod}$ to the total\n",
    "required work \\sum \\dot W in eq. {eq}`cop-heat-pump-general`. For a simple 4-component heat pump setup, the definitions\n",
    "simplifies to a single heat output at the condenser and a single work input at the compressor eq.\n",
    "{eq}`cop-heat-pump-simple`. We use the absolute value of the heat produced to obtain a positive COP value when following\n",
    "a system oriented sign convention.\n",
    "\n",
    "```{math}\n",
    "    :label: cop-heat-pump-general\n",
    "    \\text{COP} = \\frac{|\\sum \\dot Q_\\text{prod}|}{\\sum \\dot W}\n",
    "```\n",
    "\n",
    "```{math}\n",
    "    :label: cop-heat-pump-simple\n",
    "    \\text{COP} = \\frac{|\\dot Q_\\text{prod}|}{\\dot W}\n",
    "```\n",
    "\n",
    "Since we want to impose the COP on our energy system model, we need to find a adequate value for the use case \n",
    "implemented. One way of doing this, would be by calculating the Carnot COP {math}`\\text{COP}_\\text{c}`, which is the\n",
    "thermodynamically best COP possible and adjusting its value with an efficiency factor {math}`\\eta_\\text{hp}`. For a\n",
    "simplyfied approach, the Carnot COP can be obtained with eq. {eq}`carnot-cop-heat-pump`.\n",
    "\n",
    "```{tip}\n",
    "In most cases the approximation of the Carnot COP with this equation is sufficient, the actual Carnot efficiency however\n",
    "has to be calculated on a dedicated thermodynamic model. There is a dedicated section {ref}`tespy-carnot-cop`, which \n",
    "explains the theory of the Carnot COP with an example of how to calculate that with TESPy.\n",
    "```\n",
    "\n",
    "```{math}\n",
    "    :label: carnot-cop-heat-pump\n",
    "    \\text{COP}_\\text{c} = \\frac{T_\\text{max}}{T_\\text{max} - T_\\text{min}}\n",
    "```\n",
    "\n",
    "The efficiency factor is usually considered a constant value. With that, we can calculate the COP based on an ambient\n",
    "temperature profile and the target heating temperature:\n",
    "\n",
    "```{math}\n",
    "    :label: cop-heat-pump-carnot-and-efficiency\n",
    "    \\text{COP} = \\frac{T_\\text{max}}{T_\\text{max} - T_\\text{min}} \\cdot \\eta_\\text{hp}\n",
    "```\n"
   ]
  }
 ],
 "metadata": {
  "interpreter": {
   "hash": "bd8d683b2b7a984c708b0e285fe12e85cc3979cad656f2247d8c1435c45a50dd"
  },
  "kernelspec": {
   "display_name": "Python 3.9.13 ('tespy_env')",
   "language": "python",
   "name": "python3"
  },
  "language_info": {
   "codemirror_mode": {
    "name": "ipython",
    "version": 3
   },
   "file_extension": ".py",
   "mimetype": "text/x-python",
   "name": "python",
   "nbconvert_exporter": "python",
   "pygments_lexer": "ipython3",
   "version": "3.9.13"
  },
  "orig_nbformat": 4
 },
 "nbformat": 4,
 "nbformat_minor": 2
}
